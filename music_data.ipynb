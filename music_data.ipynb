{
 "cells": [
  {
   "cell_type": "markdown",
   "id": "4afcd04b-51a5-4598-bf3f-c8d9a2a8e074",
   "metadata": {},
   "source": [
    "# Data Aquisition"
   ]
  },
  {
   "cell_type": "markdown",
   "id": "11e3a29f-5e7c-4492-8c62-74fb82ef0f68",
   "metadata": {},
   "source": [
    "# **Music Data Processing and Analysis Pipeline** 🎵  \n",
    "\n",
    "## **Overview**  \n",
    "This Jupyter Notebook automates the process of collecting, processing, and analyzing music-related data. It integrates multiple data sources and techniques to gather track metadata, download audio files, extract audio features, and enrich the dataset with geographical information.  \n",
    "\n",
    "## **Pipeline Workflow**  \n",
    "The notebook is structured into the following key steps:  \n",
    "\n",
    "1. **Data Collection** 📊  \n",
    "   - Fetches metadata from Last.fm, MusicBrainz, and OpenCage API to gather track information, artist details, and geographic locations.  \n",
    "\n",
    "2. **Audio Processing** 🎧  \n",
    "   - Downloads audio tracks using `yt-dlp`.  \n",
    "   - Extracts key audio features (MFCCs, Chroma, Tonnetz, Spectral Contrast, RMS, etc.) using `librosa`.  \n",
    "   - Detects the dominant language of the track using OpenAI's `Whisper` model.  \n",
    "\n",
    "3. **Data Integration & Storage** 🔄  \n",
    "   - Combines track metadata with extracted audio features.  \n",
    "   - Ensures missing geographic coordinates are retrieved and stored for future use.  \n",
    "   - Saves the final dataset for further analysis or machine learning applications.\n",
    "\n",
    "## **Expected Output** ✅  \n",
    "- A CSV file (`all_data.csv`) containing enriched track metadata, audio features, and geographic information.  \n",
    "- Processed and cleaned datasets ready for visualization, analysis, or machine learning applications."
   ]
  },
  {
   "cell_type": "markdown",
   "id": "e6904b89-9954-41f7-8951-6d3743335fee",
   "metadata": {},
   "source": [
    "## **Required Dependencies** ⚙️  \n",
    "Ensure you have the following Python packages installed before running the notebook:  "
   ]
  },
  {
   "cell_type": "code",
   "execution_count": null,
   "id": "0e7090b4-229c-44e5-b20d-01d50bbc2707",
   "metadata": {},
   "outputs": [],
   "source": [
    "!pip install requests pandas python-dotenv opencage yt-dlp librosa pydub openai-whisper numpy"
   ]
  },
  {
   "cell_type": "markdown",
   "id": "e44931c9-646a-433f-bb9a-0f25a86330c2",
   "metadata": {},
   "source": [
    "# Metadata Extraction for World Music Tracks\n",
    "\n",
    "## Overview\n",
    "This script collects metadata about world music tracks based on genre tags, artist information, and geographical data. It uses the Last.fm and MusicBrainz APIs to retrieve and filter data. The final output is saved as a CSV file for further analysis.\n",
    "\n",
    "## Key Functionalities\n",
    "\n",
    "### Dependencies and Setup\n",
    "- **Required libraries**: `requests`, `pandas`, `time`, `os`, `json`, `dotenv`.\n",
    "- **API keys and configuration**:\n",
    "  - The script loads environment variables using `dotenv`.\n",
    "  - An API key for Last.fm must be added.\n",
    "\n",
    "### Loading Data\n",
    "- Reads a `genre_mapping.json` file to map tags to specific genres.\n",
    "- Loads `tag_to_country.json` to identify tags associated with countries or without country information.\n",
    "\n",
    "### Functions\n",
    "1. **`fetch_artist_location_from_musicbrainz`**:\n",
    "   - Queries MusicBrainz to retrieve the location of an artist based on their MBID.\n",
    "2. **`fetch_artist_info`**:\n",
    "   - Retrieves artist details, including location and statistics, from Last.fm and MusicBrainz as a fallback.\n",
    "3. **`fetch_top_tracks_by_tag`**:\n",
    "   - Fetches top tracks for a specific genre tag from Last.fm.\n",
    "4. **`should_add_track`**:\n",
    "   - Ensures that the number of tracks per country does not exceed a specified limit.\n",
    "5. **`get_country_from_tag`**:\n",
    "   - Maps a genre tag to a corresponding country.\n",
    "6. **`categorize_genre`**:\n",
    "   - Categorizes tags into broader genres based on a predefined mapping.\n",
    "\n",
    "### Data Processing\n",
    "- Iterates over genre tags to fetch top tracks.\n",
    "- Fetches artist information and attempts to map their location.\n",
    "- Filters tracks to ensure a maximum limit per country.\n",
    "- Assigns an incremental track ID and organizes track metadata into a structured format.\n",
    "\n",
    "### Saving Output\n",
    "- Aggregates all track metadata into a Pandas DataFrame.\n",
    "- Saves the metadata as a CSV file (`world_music.csv`) inside a `data` folder.\n",
    "\n",
    "## CSV File Structure\n",
    "The generated CSV file contains the following columns:\n",
    "- `track_id_number`: Incremental ID assigned to each track.\n",
    "- `track_id`: Unique identifier from the Last.fm track URL.\n",
    "- `track_name`: Name of the track.\n",
    "- `artist_name`: Name of the artist.\n",
    "- `location`: Location of the artist (country or area).\n",
    "- `listeners`: Number of listeners for the track on Last.fm.\n",
    "- `genre`: Generalized genre based on the tag.\n",
    "\n",
    "## Notes\n",
    "\n",
    "### Rate Limiting\n",
    "To avoid exceeding API rate limits, the script includes delays between API calls (`time.sleep(0.5)`).\n",
    "\n",
    "### File Structure\n",
    "Ensure the following files are present in the same directory as the script:\n",
    "- `genre_mapping.json`\n",
    "- `tag_to_country.json`\n",
    "\n",
    "### Customizing Limits\n",
    "The `max_per_country` variable can be adjusted to set the maximum number of tracks per country.\n",
    "\n",
    "## Output Example\n",
    "The CSV file will include data similar to the following:\n",
    "\n",
    "| track_id_number | track_id   | track_name       | artist_name | location    | listeners | genre     |\n",
    "|------------------|------------|------------------|-------------|-------------|-----------|-----------|\n",
    "| 1                | 12345      | Track A          | Artist X    | USA         | 1000      | Rock      |\n",
    "| 2                | 67890      | Track B          | Artist Y    | UK          | 1500      | Pop       |\n",
    "\n"
   ]
  },
  {
   "cell_type": "code",
   "execution_count": null,
   "id": "528680fb-8fe9-46a5-9a15-2c79e998d5fd",
   "metadata": {},
   "outputs": [],
   "source": [
    "import requests\n",
    "import pandas as pd\n",
    "import time\n",
    "import os\n",
    "import json\n",
    "from dotenv import load_dotenv\n",
    "\n",
    "load_dotenv()\n",
    "\n",
    "API_KEY = '' # add API key here\n",
    "BASE_URL = 'http://ws.audioscrobbler.com/2.0/'\n",
    "\n",
    "# Load the genre mapping JSON\n",
    "with open('genre_mapping.json') as f:\n",
    "    genre_mapping = json.load(f)['genre_mapping']\n",
    "\n",
    "# Load the JSON file for tags and countries\n",
    "with open('tag_to_country.json') as f:\n",
    "    tag_to_country = json.load(f)\n",
    "\n",
    "# Get tags with countries and tags without countries\n",
    "tags_with_country = tag_to_country.get('with_country', {})\n",
    "tags_without_country = tag_to_country.get('without_country', [])\n",
    "tags_country = tag_to_country.get('countries', {})\n",
    "\n",
    "# Combine both lists of tags\n",
    "tags = list(tags_with_country.keys()) + tags_without_country + list(tags_country.keys())\n",
    "\n",
    "all_metadata = []\n",
    "country_count = {}\n",
    "max_per_country = 50\n",
    "\n",
    "def fetch_artist_location_from_musicbrainz(mbid, retries=3, delay=3):\n",
    "    \"\"\"Fetch location from MusicBrainz using the artist's MBID.\"\"\"\n",
    "    url = f\"https://musicbrainz.org/ws/2/artist/{mbid}?fmt=json\"\n",
    "    \n",
    "    for attempt in range(retries):\n",
    "        try:\n",
    "            response = requests.get(url)\n",
    "            response.raise_for_status()  # Raises HTTPError for bad responses\n",
    "            data = response.json()\n",
    "            if data and isinstance(data, dict):\n",
    "                area = data.get('area')\n",
    "                if area and isinstance(area, dict):\n",
    "                    location = area.get('name')\n",
    "                    if location:\n",
    "                        return location\n",
    "                    else:\n",
    "                        print(f\"Warning: No location found for MBID {mbid}.\")\n",
    "            else:\n",
    "                print(f\"Warning: Invalid or empty data for MBID {mbid}.\")\n",
    "        except requests.exceptions.RequestException as e:\n",
    "            print(f\"Attempt {attempt + 1} failed: {e}\")\n",
    "            if attempt == retries - 1:\n",
    "                raise\n",
    "    return None\n",
    "\n",
    "def fetch_artist_info(artist_name, mbid=None):\n",
    "    \"\"\"Fetch artist info from Last.fm and fallback to MusicBrainz if needed.\"\"\"\n",
    "    params = {\n",
    "        'method': 'artist.getInfo',\n",
    "        'artist': artist_name,\n",
    "        'api_key': API_KEY,\n",
    "        'format': 'json'\n",
    "    }\n",
    "    url = \"http://ws.audioscrobbler.com/2.0/\"\n",
    "    \n",
    "    try:\n",
    "        response = requests.get(url, params=params)\n",
    "        response.raise_for_status()\n",
    "        data = response.json()\n",
    "        \n",
    "        if data and 'artist' in data:\n",
    "            artist_info = data['artist']\n",
    "            if 'mbid' in artist_info and not mbid:\n",
    "                mbid = artist_info['mbid']\n",
    "            if mbid:\n",
    "                location = fetch_artist_location_from_musicbrainz(mbid)\n",
    "                return location, artist_info\n",
    "            else:\n",
    "                print(f\"Warning: No MBID found for artist {artist_name}.\")\n",
    "        else:\n",
    "            print(f\"Warning: Invalid or empty data for artist {artist_name}.\")\n",
    "    except requests.exceptions.RequestException as e:\n",
    "        print(f\"Failed to fetch artist info from Last.fm: {e}\")\n",
    "    except ValueError as e:\n",
    "        print(f\"JSON decoding failed: {e}\")\n",
    "    except Exception as e:\n",
    "        print(f\"An unexpected error occurred: {e}\")\n",
    "\n",
    "    return None, None\n",
    "\n",
    "def fetch_top_tracks_by_tag(tag, limit=20):\n",
    "    \"\"\"Fetch top tracks by tag from Last.fm.\"\"\"\n",
    "    params = {\n",
    "        'method': 'tag.getTopTracks',\n",
    "        'tag': tag,\n",
    "        'api_key': API_KEY,\n",
    "        'format': 'json',\n",
    "        'limit': limit\n",
    "    }\n",
    "    response = requests.get(BASE_URL, params=params)\n",
    "    if response.status_code == 200:\n",
    "        return response.json().get('tracks', {}).get('track', [])\n",
    "    else:\n",
    "        print(f\"Error fetching tracks for tag {tag}: {response.status_code}\")\n",
    "    return []\n",
    "\n",
    "def should_add_track(location):\n",
    "    \"\"\"Determine if a track's location should be included based on max per country.\"\"\"\n",
    "    if location:\n",
    "        country = location.split(',')[-1].strip() if ',' in location else location.strip()\n",
    "        country_count[country] = country_count.get(country, 0)\n",
    "        if country_count[country] < max_per_country:\n",
    "            country_count[country] += 1\n",
    "            return True\n",
    "    return False\n",
    "\n",
    "def get_country_from_tag(tag):\n",
    "    \"\"\"Return a country associated with a tag, if available.\"\"\"\n",
    "    return tags_country.get(tag) or tags_with_country.get(tag)\n",
    "\n",
    "def categorize_genre(tag):\n",
    "    \"\"\"Categorize genre based on the tag.\"\"\"\n",
    "    tag_lower = tag.lower()\n",
    "    \n",
    "    for genre, tags in genre_mapping.items():\n",
    "        if tag_lower in tags:\n",
    "            return genre\n",
    "    return 'Other'\n",
    "\n",
    "# Initialize track ID counter\n",
    "track_id_counter = 1\n",
    "\n",
    "# Fetch tracks based on tags and filter by location\n",
    "for tag in tags:\n",
    "    tracks = fetch_top_tracks_by_tag(tag)\n",
    "    for track in tracks:\n",
    "        artist_name = track.get('artist', {}).get('name')\n",
    "        mbid = track.get('artist', {}).get('mbid')  # Artist MBID if available\n",
    "        \n",
    "        # Fetch location and artist info (e.g., listeners)\n",
    "        location, artist_info = fetch_artist_info(artist_name, mbid)\n",
    "        \n",
    "        # If no location, try mapping tag to country if the tag has an associated country\n",
    "        if not location:\n",
    "            location = get_country_from_tag(tag)\n",
    "        \n",
    "        # Get number of listeners\n",
    "        listeners = artist_info.get('stats', {}).get('listeners', 0) if artist_info else 0\n",
    "        \n",
    "        # Categorize genre based on the tag\n",
    "        genre = categorize_genre(tag)\n",
    "        \n",
    "        # Get the track URL to generate track ID\n",
    "        track_url = track.get('url')\n",
    "        track_id = track.get('url').split('/')[-1] if track_url else None\n",
    "        \n",
    "        # Add incremental track ID\n",
    "        track_data = {\n",
    "            'track_id_number': track_id_counter,  # Add the incremental ID\n",
    "            'track_id': track_id,\n",
    "            'track_name': track.get('name'),\n",
    "            'artist_name': artist_name,\n",
    "            'location': location,\n",
    "            'listeners': listeners,\n",
    "            'genre': genre\n",
    "        }\n",
    "        \n",
    "        # Check if the track should be included\n",
    "        if should_add_track(location):\n",
    "            all_metadata.append(track_data)\n",
    "            track_id_counter += 1  # Increment the track ID for the next track\n",
    "        \n",
    "        time.sleep(0.5)  # Avoid hitting the API too quickly\n",
    "\n",
    "# Convert the metadata to a DataFrame\n",
    "df = pd.DataFrame(all_metadata)\n",
    "\n",
    "# Define the path to the data folder inside the current folder\n",
    "data_folder = os.path.join(os.path.dirname(__file__), 'data')\n",
    "\n",
    "# Ensure the data folder exists\n",
    "os.makedirs(data_folder, exist_ok=True)\n",
    "\n",
    "# Define the full path to the CSV file\n",
    "csv_file_path = os.path.join(data_folder, 'world_music.csv')\n",
    "\n",
    "# Save to a CSV file\n",
    "df.to_csv(csv_file_path, index=False)\n",
    "print(f\"Metadata saved to {csv_file_path}\")"
   ]
  },
  {
   "cell_type": "markdown",
   "id": "4745f48a-1ef5-4e1b-935d-e02e86446524",
   "metadata": {},
   "source": [
    "# Adding Coordinates\n",
    "\n",
    "This Python script adds geographic coordinates (latitude and longitude) based on the country or region of origin from a CSV file. It automates the process by using the **OpenCage Geocoder API** to fetch missing coordinates dynamically. The script merges data from two CSV files:\n",
    "\n",
    "- **`diverse_world_music_with_listeners.csv`**: Contains music tracks with a `location` column representing the country of origin.\n",
    "- **`country_coordinates.csv`**: Contains country and region names along with their corresponding geographic coordinates (latitude and longitude).\n",
    "\n",
    "The script performs the following tasks:\n",
    "\n",
    "1. **Load CSV Files**: It loads the `diverse_world_music_with_listeners.csv` and `country_coordinates.csv` files into pandas DataFrames.\n",
    "2. **Clean Data**: Ensures that the `Country` column in the `country_coordinates.csv` is free from extra spaces.\n",
    "3. **Merge Data**: Merges the two DataFrames based on the country names (`location` from `diverse_world_music_with_listeners.csv` and `Country` from `country_coordinates.csv`).\n",
    "4. **Handle Missing Coordinates**: If coordinates for a country are missing in the `country_coordinates.csv`, the script:\n",
    "   - Fetches the missing latitude and longitude automatically using the **OpenCage Geocoder API**.\n",
    "   - Adds the new coordinates to both the DataFrame and the `country_coordinates.csv` file for future reference.\n",
    "5. **Save Updated Data**: The script saves:\n",
    "   - The updated coordinates to the `country_coordinates.csv` file.\n",
    "   - The merged DataFrame (with coordinates) to a new CSV file, `tracks_with_coordinates.csv`.\n",
    "\n",
    "---\n",
    "\n",
    "### Workflow\n",
    "\n",
    "1. **Loading Files**:\n",
    "   - The script loads `world_music_data.csv` and `country_coordinates.csv` using `pandas.read_csv()`.\n",
    "\n",
    "2. **Cleaning the Data**:\n",
    "   - It strips extra spaces from the `Country` column in the `country_coordinates.csv` file to ensure accurate matching with the `location` column in `diverse_world_music_with_listeners.csv`.\n",
    "\n",
    "3. **Merging the Data**:\n",
    "   - The `merge()` function is used to combine the two DataFrames based on the country names.\n",
    "\n",
    "4. **Handling Missing Coordinates**:\n",
    "   - If any rows have missing latitude and longitude, the script uses the OpenCage Geocoder API to automatically fetch the missing coordinates.\n",
    "   - The fetched coordinates are appended to the `country_coordinates.csv` file for future use, ensuring the database remains up-to-date.\n",
    "\n",
    "5. **Saving the Updated Data**:\n",
    "   - The merged DataFrame, which now contains the coordinates, is saved as `tracks_with_coordinates.csv`.\n",
    "   - The updated `country_coordinates.csv` file is saved with the newly fetched coordinates.\n",
    "\n",
    "---\n",
    "\n",
    "### Key Features\n",
    "\n",
    "- **Automated Retrieval**: Missing coordinates are fetched dynamically using the OpenCage Geocoder API, removing the need for manual input.\n",
    "- **Reusable Reference File**: Newly fetched coordinates are appended to `country_coordinates.csv`, ensuring they are available for subsequent runs of the script.\n",
    "- **Scalable Solution**: Works efficiently for large datasets, automatically resolving missing geographic data.\n",
    "\n",
    "---\n",
    "\n",
    "### Example Workflow\n",
    "\n",
    "1. Run the script, and if any missing coordinates are found, it will use the OpenCage Geocoder API to fetch them automatically.\n",
    "2. Updated coordinates will be saved to the reference file (`country_coordinates.csv`) for future use.\n",
    "\n",
    "### Requirements\n",
    "\n",
    "- **API Key**: Obtain an OpenCage Geocoder API key from [OpenCage Geocoder](https://opencagedata.com/).\n",
    "- **Install Required Libraries**: Use `pip install opencage pandas`.\n",
    "\n",
    "### Example Output\n",
    "\n",
    "When the script encounters a missing coordinate, it fetches it automatically and updates the files:\n",
    "\n",
    "```plaintext\n",
    "Fetching coordinates for missing country or region: France\n",
    "Coordinates for France added and saved: (48.8566, 2.3522)\n"
   ]
  },
  {
   "cell_type": "code",
   "execution_count": 12,
   "id": "ab172413-ab82-45b4-9b77-9ed13486fc9e",
   "metadata": {
    "scrolled": true
   },
   "outputs": [
    {
     "name": "stdout",
     "output_type": "stream",
     "text": [
      "Fetching coordinates for missing country or region: Boulder\n",
      "Coordinates for Boulder added and saved: (40.0149856, -105.270545)\n",
      "Fetching coordinates for missing country or region: Toronto\n",
      "Coordinates for Toronto added and saved: (43.6534817, -79.3839347)\n",
      "Fetching coordinates for missing country or region: Soviet Union\n",
      "Coordinates for Soviet Union added and saved: (48.2582473, 14.5007542)\n",
      "Fetching coordinates for missing country or region: St. Louis\n",
      "Coordinates for St. Louis added and saved: (38.6280278, -90.1910154)\n",
      "Fetching coordinates for missing country or region: Türkiye\n",
      "Coordinates for Türkiye added and saved: (38.9597594, 34.9249653)\n",
      "Fetching coordinates for missing country or region: Lund\n",
      "Coordinates for Lund added and saved: (55.7029296, 13.1929449)\n",
      "Fetching coordinates for missing country or region: Northern Ireland\n",
      "Coordinates for Northern Ireland added and saved: (54.5859836, -6.9591554)\n",
      "Fetching coordinates for missing country or region: Ibiza\n",
      "Coordinates for Ibiza added and saved: (38.9743901, 1.4197463)\n",
      "Fetching coordinates for missing country or region: Middle East\n",
      "Coordinates for Middle East added and saved: (39.3014159, -76.5888477)\n",
      "Fetching coordinates for missing country or region: Sofia\n",
      "Coordinates for Sofia added and saved: (42.6977028, 23.3217359)\n",
      "Fetching coordinates for missing country or region: San Francisco\n",
      "Coordinates for San Francisco added and saved: (37.7792588, -122.4193286)\n",
      "Fetching coordinates for missing country or region: Grand Rapids\n",
      "Coordinates for Grand Rapids added and saved: (42.9632425, -85.6678639)\n",
      "Fetching coordinates for missing country or region: Seattle\n",
      "Coordinates for Seattle added and saved: (47.6038321, -122.330062)\n",
      "Fetching coordinates for missing country or region: Montréal\n",
      "Coordinates for Montréal added and saved: (45.5031824, -73.5698065)\n",
      "Fetching coordinates for missing country or region: Ciudad de México\n",
      "Coordinates for Ciudad de México added and saved: (19.4326296, -99.1331785)\n",
      "Fetching coordinates for missing country or region: Bogotá\n",
      "Coordinates for Bogotá added and saved: (4.6533816, -74.0836333)\n",
      "Fetching coordinates for missing country or region: Côte d'Ivoire\n",
      "Coordinates for Côte d'Ivoire added and saved: (7.9897371, -5.5679458)\n",
      "Fetching coordinates for missing country or region: Saint Vincent and The Grenadines\n",
      "Coordinates for Saint Vincent and The Grenadines added and saved: (12.90447, -61.2765569)\n",
      "Fetching coordinates for missing country or region: Tokyo\n",
      "Coordinates for Tokyo added and saved: (35.6768601, 139.7638947)\n",
      "Fetching coordinates for missing country or region: Stockholm\n",
      "Coordinates for Stockholm added and saved: (59.3251172, 18.0710935)\n",
      "Fetching coordinates for missing country or region: Queensland\n",
      "Coordinates for Queensland added and saved: (-22.1646782, 144.5844903)\n",
      "Fetching coordinates for missing country or region: Tahiti\n",
      "Coordinates for Tahiti added and saved: (-17.6873439, -149.4451681)\n",
      "Fetching coordinates for missing country or region: Chicago\n",
      "Coordinates for Chicago added and saved: (41.8755616, -87.6244212)\n",
      "Fetching coordinates for missing country or region: Chihuahua\n",
      "Coordinates for Chihuahua added and saved: (28.5000001, -106.0000001)\n",
      "Metadata with coordinates saved to /home/jovyan/1/beata/data/tracks_with_coordinates.csv\n"
     ]
    }
   ],
   "source": [
    "import os\n",
    "import pandas as pd\n",
    "from opencage.geocoder import OpenCageGeocode\n",
    "\n",
    "# Your OpenCage API key\n",
    "API_KEY = '9aba218e5bca4aad9afdcc9337292597'  # Replace with your OpenCage API key\n",
    "geocoder = OpenCageGeocode(API_KEY)\n",
    "\n",
    "# Use the current working directory as the base path\n",
    "current_dir = os.getcwd()\n",
    "data_folder = os.path.join(current_dir, 'data')\n",
    "data_references_folder = os.path.join(current_dir, 'data_references')\n",
    "\n",
    "# Load the CSV files\n",
    "tracks_df = pd.read_csv(os.path.join(data_folder, 'world_music.csv'))\n",
    "coords_csv_path = os.path.join(data_references_folder, 'country_coordinates.csv')\n",
    "coords_df = pd.read_csv(coords_csv_path)\n",
    "\n",
    "# Ensure both DataFrames have a clean 'Country' column\n",
    "coords_df['Country'] = coords_df['Country'].str.strip()  # Remove extra spaces\n",
    "\n",
    "# Function to update the merged DataFrame\n",
    "def update_merged_df():\n",
    "    return pd.merge(tracks_df, coords_df, left_on='location', right_on='Country', how='left')\n",
    "\n",
    "# Function to fetch coordinates using OpenCage\n",
    "def fetch_coordinates(country_name):\n",
    "    try:\n",
    "        results = geocoder.geocode(country_name)\n",
    "        if results:\n",
    "            latitude = results[0]['geometry']['lat']\n",
    "            longitude = results[0]['geometry']['lng']\n",
    "            return latitude, longitude\n",
    "        else:\n",
    "            print(f\"No coordinates found for {country_name}.\")\n",
    "            return None, None\n",
    "    except Exception as e:\n",
    "        print(f\"Error fetching coordinates for {country_name}: {e}\")\n",
    "        return None, None\n",
    "\n",
    "# Initial merge\n",
    "merged_df = update_merged_df()\n",
    "\n",
    "# Check for missing coordinates and fetch them automatically\n",
    "while merged_df['Latitude'].isna().any():\n",
    "    for index, row in merged_df[merged_df['Latitude'].isna()].iterrows():\n",
    "        country = row['location']\n",
    "        print(f\"Fetching coordinates for missing country or region: {country}\")\n",
    "        \n",
    "        # Fetch coordinates from OpenCage\n",
    "        latitude, longitude = fetch_coordinates(country)\n",
    "        if latitude is not None and longitude is not None:\n",
    "            # Add the new country and coordinates to the coords_df DataFrame\n",
    "            new_row = pd.DataFrame([{'Country': country, 'Latitude': latitude, 'Longitude': longitude}])\n",
    "            coords_df = pd.concat([coords_df, new_row], ignore_index=True)\n",
    "            \n",
    "            # Save the updated coordinates back to the CSV file\n",
    "            coords_df.to_csv(coords_csv_path, index=False)\n",
    "            print(f\"Coordinates for {country} added and saved: ({latitude}, {longitude})\")\n",
    "            \n",
    "            # Break the loop to re-merge with the updated coordinates\n",
    "            break\n",
    "        else:\n",
    "            print(f\"Failed to fetch coordinates for {country}. Please check the name or API key.\")\n",
    "    \n",
    "    # Re-merge the DataFrames after updating the coordinates\n",
    "    merged_df = update_merged_df()\n",
    "\n",
    "# Save the merged DataFrame with coordinates to a new CSV file in the data folder\n",
    "output_csv_path = os.path.join(data_folder, 'tracks_with_coordinates.csv')\n",
    "merged_df.to_csv(output_csv_path, index=False)\n",
    "\n",
    "print(f\"Metadata with coordinates saved to {output_csv_path}\")\n"
   ]
  },
  {
   "cell_type": "markdown",
   "id": "ed4d75f3-bb1c-44f0-9bf9-b90558d826bb",
   "metadata": {},
   "source": [
    "# Music Track Feature Extraction and Language Detection\n",
    "\n",
    "This notebook demonstrates how to download music tracks, extract various audio features, and detect the language of the song. The extracted features and detected language are then saved to a CSV file for further analysis.\n",
    "\n",
    "## Overview\n",
    "\n",
    "The code achieves the following:\n",
    "\n",
    "1. **Download Music Tracks**: It searches for and downloads music tracks from YouTube based on track names and artist names using `yt-dlp`.\n",
    "2. **Extract Audio Features**: It processes the downloaded tracks to extract a set of audio features such as MFCCs (Mel-frequency cepstral coefficients), chroma features, spectral contrast, tonnetz, RMS (Root Mean Square), spectral rolloff, zero-crossing rate, and the track's duration.\n",
    "3. **Detect Language**: It uses the `whisper` model to transcribe the audio and detect the language of the song by processing a trimmed segment of the audio file.\n",
    "4. **Store Results**: The extracted features, along with the detected language, are stored in a CSV file for future analysis.\n",
    "5. **Clean-up**: The processed audio files are deleted to save storage.\n",
    "\n",
    "## Steps in the Process\n",
    "\n",
    "### 1. **Paths and Setup**\n",
    "\n",
    "The code sets up necessary directories and paths:\n",
    "- `csv_file`: Path to the CSV file containing track information (track names, artist names, etc.).\n",
    "- `output_dir`: Directory where the downloaded songs will be stored.\n",
    "- `data_folder`: Directory for storing feature data.\n",
    "- `output_csv`: Path for saving the extracted audio features and detected language in CSV format.\n",
    "\n",
    "### 2. **Loading the Dataset**\n",
    "\n",
    "The dataset (`world_music.csv`) containing metadata for each track is loaded into a DataFrame. The script checks that the necessary columns (`track_id_number`, `track_id`, `track_name`, `artist_name`) are present in the dataset. If any of these columns are missing, an error is raised.\n",
    "\n",
    "### 3. **Downloading Songs**\n",
    "\n",
    "The function `download_song` is responsible for downloading each song using `yt-dlp`. It constructs a search query from the track name and artist name and downloads the best audio quality available. If the song has already been downloaded, the function skips the download and moves to the next track.\n",
    "\n",
    "### 4. **Extracting Audio Features**\n",
    "\n",
    "Once the song is downloaded, the function `extract_features` extracts a variety of audio features from the song using the `librosa` library. These features include:\n",
    "- **MFCCs**: Mel-frequency cepstral coefficients, commonly used for audio processing and speech recognition.\n",
    "- **Chroma**: Represents the harmonic content of the audio.\n",
    "- **Spectral Contrast**: Measures the difference in amplitude between peaks and valleys in a spectrum.\n",
    "- **Tonnetz**: A set of features used to capture harmonic relations in music.\n",
    "- **RMS**: Root mean square, a measure of the signal’s energy.\n",
    "- **Spectral Rolloff**: The frequency below which a certain percentage of the total spectral energy lies.\n",
    "- **Zero-Crossing Rate**: The rate at which the signal changes sign.\n",
    "- **Length**: The duration of the audio track.\n",
    "\n",
    "### 5. **Detecting the Language of the Song**\n",
    "\n",
    "The function `detect_language` detects the language of the song by transcribing a trimmed segment (the first 30 seconds) of the song using the `whisper` model. It then returns the detected language. If the transcription is not clear, it returns \"No Speech\" or \"Unknown\" as appropriate.\n",
    "\n",
    "### 6. **Saving the Extracted Features and Language**\n",
    "\n",
    "The extracted features, along with the track ID and detected language, are saved to a CSV file (`audio_features.csv`). Each row in the CSV file represents one track, and the columns contain the track ID and the extracted features.\n",
    "\n",
    "### 7. **Clean-up**\n",
    "\n",
    "After processing each song, the downloaded audio file is deleted to conserve storage. The program moves on to the next track in the dataset.\n",
    "\n",
    "### 8. **Completion**\n",
    "\n",
    "Once all the tracks in the dataset have been processed, a message is printed indicating that all tracks have been successfully processed.\n",
    "\n",
    "## Conclusion\n",
    "\n",
    "This code provides an efficient way to download music tracks, extract relevant audio features, detect the language of the songs, and store this information for further analysis. This can be useful for tasks such as building a machine learning model for music classification or genre prediction, or for understanding how different audio features correlate with the language of the song."
   ]
  },
  {
   "cell_type": "code",
   "execution_count": null,
   "id": "1408a00e-d872-4d4b-9269-b59ac365046e",
   "metadata": {},
   "outputs": [
    {
     "name": "stderr",
     "output_type": "stream",
     "text": [
      "/opt/conda/lib/python3.10/site-packages/whisper/__init__.py:150: FutureWarning: You are using `torch.load` with `weights_only=False` (the current default value), which uses the default pickle module implicitly. It is possible to construct malicious pickle data which will execute arbitrary code during unpickling (See https://github.com/pytorch/pytorch/blob/main/SECURITY.md#untrusted-models for more details). In a future release, the default value for `weights_only` will be flipped to `True`. This limits the functions that could be executed during unpickling. Arbitrary objects will no longer be allowed to be loaded via this mode unless they are explicitly allowlisted by the user via `torch.serialization.add_safe_globals`. We recommend you start setting `weights_only=True` for any use case where you don't have full control of the loaded file. Please open an issue on GitHub for any issues related to this experimental feature.\n",
      "  checkpoint = torch.load(fp, map_location=device)\n"
     ]
    },
    {
     "name": "stdout",
     "output_type": "stream",
     "text": [
      "Song Saoko by Rosalía already exists. Skipping download.\n",
      "Detected language: Spanish\n"
     ]
    },
    {
     "name": "stderr",
     "output_type": "stream",
     "text": [
      "100%|██████████| 11020/11020 [00:09<00:00, 1102.43frames/s]\n"
     ]
    },
    {
     "name": "stdout",
     "output_type": "stream",
     "text": [
      "Processed and deleted: downloaded_songs/1.wav\n",
      "Song LA FAMA by Rosalía already exists. Skipping download.\n",
      "Detected language: Spanish\n"
     ]
    },
    {
     "name": "stderr",
     "output_type": "stream",
     "text": [
      "100%|██████████| 22137/22137 [00:03<00:00, 5819.57frames/s]\n"
     ]
    },
    {
     "name": "stdout",
     "output_type": "stream",
     "text": [
      "Processed and deleted: downloaded_songs/2.wav\n",
      "Song Spanish Caravan by The Doors already exists. Skipping download.\n",
      "Detected language: English\n"
     ]
    },
    {
     "name": "stderr",
     "output_type": "stream",
     "text": [
      " 80%|███████▉  | 11830/14830 [00:02<00:00, 5814.84frames/s]\n"
     ]
    },
    {
     "name": "stdout",
     "output_type": "stream",
     "text": [
      "Processed and deleted: downloaded_songs/3.wav\n",
      "Song MALAMENTE - Cap.1: Augurio by Rosalía already exists. Skipping download.\n",
      "Detected language: Spanish\n"
     ]
    },
    {
     "name": "stderr",
     "output_type": "stream",
     "text": [
      "100%|██████████| 13808/13808 [00:09<00:00, 1508.20frames/s]\n"
     ]
    },
    {
     "name": "stdout",
     "output_type": "stream",
     "text": [
      "Processed and deleted: downloaded_songs/4.wav\n",
      "Song Chicken Teriyaki by Rosalía already exists. Skipping download.\n",
      "Detected language: Spanish\n"
     ]
    },
    {
     "name": "stderr",
     "output_type": "stream",
     "text": [
      "100%|██████████| 10388/10388 [00:04<00:00, 2469.19frames/s]\n"
     ]
    },
    {
     "name": "stdout",
     "output_type": "stream",
     "text": [
      "Processed and deleted: downloaded_songs/5.wav\n",
      "Song Candy by Rosalía already exists. Skipping download.\n",
      "Detected language: Spanish\n"
     ]
    },
    {
     "name": "stderr",
     "output_type": "stream",
     "text": [
      " 84%|████████▍ | 11100/13146 [00:07<00:01, 1426.06frames/s]\n"
     ]
    },
    {
     "name": "stdout",
     "output_type": "stream",
     "text": [
      "Processed and deleted: downloaded_songs/6.wav\n",
      "Song Betrayed by Lil Xan already exists. Skipping download.\n",
      "Detected language: English\n"
     ]
    },
    {
     "name": "stderr",
     "output_type": "stream",
     "text": [
      "100%|██████████| 15421/15421 [00:09<00:00, 1669.32frames/s]\n"
     ]
    },
    {
     "name": "stdout",
     "output_type": "stream",
     "text": [
      "Processed and deleted: downloaded_songs/7.wav\n",
      "Song Sunset by Caroline Polachek already exists. Skipping download.\n",
      "Detected language: English\n"
     ]
    },
    {
     "name": "stderr",
     "output_type": "stream",
     "text": [
      " 86%|████████▌ | 11424/13321 [00:08<00:01, 1353.86frames/s]\n"
     ]
    },
    {
     "name": "stdout",
     "output_type": "stream",
     "text": [
      "Processed and deleted: downloaded_songs/8.wav\n",
      "Song 24 by Lana Del Rey already exists. Skipping download.\n",
      "Detected language: English\n"
     ]
    },
    {
     "name": "stderr",
     "output_type": "stream",
     "text": [
      " 98%|█████████▊| 26100/26596 [00:02<00:00, 9403.93frames/s]\n"
     ]
    },
    {
     "name": "stdout",
     "output_type": "stream",
     "text": [
      "Processed and deleted: downloaded_songs/9.wav\n",
      "Song Don't Let Me Be Misunderstood by Santa Esmeralda already exists. Skipping download.\n",
      "Detected language: English\n"
     ]
    },
    {
     "name": "stderr",
     "output_type": "stream",
     "text": [
      "100%|██████████| 15536/15536 [00:03<00:00, 4884.11frames/s]\n"
     ]
    },
    {
     "name": "stdout",
     "output_type": "stream",
     "text": [
      "Processed and deleted: downloaded_songs/10.wav\n",
      "Song Bulerías by Rosalía already exists. Skipping download.\n",
      "Detected language: Spanish\n"
     ]
    },
    {
     "name": "stderr",
     "output_type": "stream",
     "text": [
      " 76%|███████▌  | 9629/12629 [00:03<00:00, 3069.99frames/s]\n"
     ]
    },
    {
     "name": "stdout",
     "output_type": "stream",
     "text": [
      "Processed and deleted: downloaded_songs/11.wav\n",
      "Song CUUUUUUUUUUTE by Rosalía already exists. Skipping download.\n",
      "Detected language: Spanish\n"
     ]
    },
    {
     "name": "stderr",
     "output_type": "stream",
     "text": [
      "100%|██████████| 12112/12112 [00:01<00:00, 6545.75frames/s]\n"
     ]
    },
    {
     "name": "stdout",
     "output_type": "stream",
     "text": [
      "Processed and deleted: downloaded_songs/12.wav\n",
      "Song Tamacun by Rodrigo y Gabriela already exists. Skipping download.\n",
      "Detected language: Shona\n"
     ]
    },
    {
     "name": "stderr",
     "output_type": "stream",
     "text": [
      "  0%|          | 0/17754 [00:59<?, ?frames/s]\n"
     ]
    },
    {
     "name": "stdout",
     "output_type": "stream",
     "text": [
      "Processed and deleted: downloaded_songs/13.wav\n",
      "Song DELIRIO DE GRANDEZA by Rosalía already exists. Skipping download.\n",
      "Detected language: Spanish\n"
     ]
    },
    {
     "name": "stderr",
     "output_type": "stream",
     "text": [
      "100%|██████████| 13725/13725 [00:01<00:00, 8439.49frames/s] \n"
     ]
    },
    {
     "name": "stdout",
     "output_type": "stream",
     "text": [
      "Processed and deleted: downloaded_songs/14.wav\n",
      "Song G3 N15 by Rosalía already exists. Skipping download.\n",
      "Detected language: Spanish\n"
     ]
    },
    {
     "name": "stderr",
     "output_type": "stream",
     "text": [
      "100%|██████████| 22256/22256 [00:04<00:00, 4802.33frames/s]\n"
     ]
    },
    {
     "name": "stdout",
     "output_type": "stream",
     "text": [
      "Processed and deleted: downloaded_songs/15.wav\n",
      "Song FLAMENCO by Beyoncé already exists. Skipping download.\n",
      "Detected language: English\n"
     ]
    },
    {
     "name": "stderr",
     "output_type": "stream",
     "text": [
      "100%|██████████| 8225/8225 [00:01<00:00, 6932.85frames/s]\n"
     ]
    },
    {
     "name": "stdout",
     "output_type": "stream",
     "text": [
      "Processed and deleted: downloaded_songs/16.wav\n",
      "Song Bamboleo by Gipsy Kings already exists. Skipping download.\n",
      "Detected language: Spanish\n"
     ]
    },
    {
     "name": "stderr",
     "output_type": "stream",
     "text": [
      " 86%|████████▌ | 17748/20748 [00:14<00:02, 1209.62frames/s]\n"
     ]
    },
    {
     "name": "stdout",
     "output_type": "stream",
     "text": [
      "Processed and deleted: downloaded_songs/17.wav\n",
      "Song LLYLM by Rosalía already exists. Skipping download.\n",
      "Detected language: Spanish\n"
     ]
    },
    {
     "name": "stderr",
     "output_type": "stream",
     "text": [
      "100%|██████████| 14334/14334 [00:03<00:00, 3755.85frames/s]\n"
     ]
    },
    {
     "name": "stdout",
     "output_type": "stream",
     "text": [
      "Processed and deleted: downloaded_songs/18.wav\n",
      "Song PIENSO EN TU MIRÁ - Cap.3: Celos by Rosalía already exists. Skipping download.\n",
      "Detected language: Spanish\n"
     ]
    },
    {
     "name": "stderr",
     "output_type": "stream",
     "text": [
      "100%|██████████| 21492/21492 [00:10<00:00, 1974.86frames/s]\n"
     ]
    },
    {
     "name": "stdout",
     "output_type": "stream",
     "text": [
      "Processed and deleted: downloaded_songs/19.wav\n",
      "Song French Exit by Dua Lipa already exists. Skipping download.\n",
      "Detected language: English\n"
     ]
    },
    {
     "name": "stderr",
     "output_type": "stream",
     "text": [
      "100%|██████████| 17130/17130 [00:03<00:00, 4476.28frames/s]\n"
     ]
    },
    {
     "name": "stdout",
     "output_type": "stream",
     "text": [
      "Processed and deleted: downloaded_songs/20.wav\n",
      "Song La Caña by Antonio Mairena already exists. Skipping download.\n",
      "Detected language: English\n"
     ]
    },
    {
     "name": "stderr",
     "output_type": "stream",
     "text": [
      " 66%|██████▌   | 23112/35112 [00:34<00:17, 666.76frames/s] \n"
     ]
    },
    {
     "name": "stdout",
     "output_type": "stream",
     "text": [
      "Processed and deleted: downloaded_songs/21.wav\n",
      "Song Me Pongo A Pregonar- (Tientos) by Terremoto de Jerez already exists. Skipping download.\n",
      "Detected language: English\n"
     ]
    },
    {
     "name": "stderr",
     "output_type": "stream",
     "text": [
      " 22%|██▏       | 4828/22416 [00:09<00:33, 523.31frames/s] \n"
     ]
    },
    {
     "name": "stdout",
     "output_type": "stream",
     "text": [
      "Processed and deleted: downloaded_songs/22.wav\n",
      "Song Viviré by Camarón de la Isla already exists. Skipping download.\n",
      "Detected language: Spanish\n"
     ]
    },
    {
     "name": "stderr",
     "output_type": "stream",
     "text": [
      "100%|██████████| 20397/20397 [00:10<00:00, 1854.42frames/s]\n"
     ]
    },
    {
     "name": "stdout",
     "output_type": "stream",
     "text": [
      "Processed and deleted: downloaded_songs/23.wav\n",
      "Song Te Lo Dice Camarón (Rumbas) by Camarón de la Isla already exists. Skipping download.\n",
      "Detected language: Spanish\n"
     ]
    },
    {
     "name": "stderr",
     "output_type": "stream",
     "text": [
      "100%|██████████| 18416/18416 [00:02<00:00, 8157.53frames/s] \n"
     ]
    },
    {
     "name": "stdout",
     "output_type": "stream",
     "text": [
      "Processed and deleted: downloaded_songs/24.wav\n",
      "Song Jondo Cante Fragüero by El Agujetas already exists. Skipping download.\n",
      "Detected language: English\n"
     ]
    },
    {
     "name": "stderr",
     "output_type": "stream",
     "text": [
      "100%|██████████| 10260/10260 [00:02<00:00, 4455.14frames/s]\n"
     ]
    },
    {
     "name": "stdout",
     "output_type": "stream",
     "text": [
      "Processed and deleted: downloaded_songs/25.wav\n",
      "Song Cantaora Y Cantao (Petenera) by Naranjito De Triana already exists. Skipping download.\n",
      "Detected language: Spanish\n"
     ]
    },
    {
     "name": "stderr",
     "output_type": "stream",
     "text": [
      "100%|██████████| 22001/22001 [00:01<00:00, 12062.27frames/s]\n"
     ]
    },
    {
     "name": "stdout",
     "output_type": "stream",
     "text": [
      "Processed and deleted: downloaded_songs/26.wav\n",
      "Song Soleá by María la Burra / Paco Del Gastor / Juan Del Gastor already exists. Skipping download.\n",
      "Detected language: Spanish\n"
     ]
    },
    {
     "name": "stderr",
     "output_type": "stream",
     "text": [
      " 80%|███████▉  | 29568/36980 [00:13<00:03, 2251.58frames/s]\n"
     ]
    },
    {
     "name": "stdout",
     "output_type": "stream",
     "text": [
      "Processed and deleted: downloaded_songs/27.wav\n",
      "Song Dile a tu maestro by Antonio Arenero already exists. Skipping download.\n",
      "Detected language: Spanish\n"
     ]
    },
    {
     "name": "stderr",
     "output_type": "stream",
     "text": [
      "100%|██████████| 20108/20108 [00:02<00:00, 8882.80frames/s] \n"
     ]
    },
    {
     "name": "stdout",
     "output_type": "stream",
     "text": [
      "Processed and deleted: downloaded_songs/28.wav\n",
      "Song Porque Volar No Podía (Album Version) by Pepe Marchena already exists. Skipping download.\n",
      "Detected language: Spanish\n"
     ]
    },
    {
     "name": "stderr",
     "output_type": "stream",
     "text": [
      "100%|██████████| 13186/13186 [00:01<00:00, 12081.38frames/s]\n"
     ]
    },
    {
     "name": "stdout",
     "output_type": "stream",
     "text": [
      "Processed and deleted: downloaded_songs/29.wav\n",
      "Song Fandangos en el bujío by Agujetas already exists. Skipping download.\n",
      "Detected language: English\n"
     ]
    },
    {
     "name": "stderr",
     "output_type": "stream",
     "text": [
      " 82%|████████▏ | 13670/16670 [00:08<00:01, 1589.03frames/s]\n"
     ]
    },
    {
     "name": "stdout",
     "output_type": "stream",
     "text": [
      "Processed and deleted: downloaded_songs/30.wav\n",
      "Song Alborea de Jerez by Agujetas El Viejo already exists. Skipping download.\n",
      "Detected language: Spanish\n"
     ]
    },
    {
     "name": "stderr",
     "output_type": "stream",
     "text": [
      " 53%|█████▎    | 5490/10306 [00:15<00:13, 353.66frames/s] \n"
     ]
    },
    {
     "name": "stdout",
     "output_type": "stream",
     "text": [
      "Processed and deleted: downloaded_songs/31.wav\n",
      "Song Postcards From Italy by Beirut already exists. Skipping download.\n",
      "Detected language: English\n"
     ]
    },
    {
     "name": "stderr",
     "output_type": "stream",
     "text": [
      " 87%|████████▋ | 19733/22733 [00:03<00:00, 5738.10frames/s]\n"
     ]
    },
    {
     "name": "stdout",
     "output_type": "stream",
     "text": [
      "Processed and deleted: downloaded_songs/32.wav\n",
      "Song Nantes by Beirut already exists. Skipping download.\n",
      "Detected language: English\n"
     ]
    },
    {
     "name": "stderr",
     "output_type": "stream",
     "text": [
      " 98%|█████████▊| 19600/20020 [00:01<00:00, 11207.74frames/s]\n"
     ]
    },
    {
     "name": "stdout",
     "output_type": "stream",
     "text": [
      "Processed and deleted: downloaded_songs/33.wav\n",
      "Song Elephant Gun by Beirut already exists. Skipping download.\n",
      "Detected language: English\n"
     ]
    },
    {
     "name": "stderr",
     "output_type": "stream",
     "text": [
      " 88%|████████▊ | 21203/24203 [00:13<00:01, 1585.12frames/s]\n"
     ]
    },
    {
     "name": "stdout",
     "output_type": "stream",
     "text": [
      "Processed and deleted: downloaded_songs/34.wav\n",
      "Song A Sunday Smile by Beirut already exists. Skipping download.\n",
      "Detected language: Latin\n"
     ]
    },
    {
     "name": "stderr",
     "output_type": "stream",
     "text": [
      "100%|██████████| 18557/18557 [00:10<00:00, 1775.77frames/s]\n"
     ]
    },
    {
     "name": "stdout",
     "output_type": "stream",
     "text": [
      "Processed and deleted: downloaded_songs/35.wav\n",
      "Song Scenic World by Beirut already exists. Skipping download.\n",
      "Detected language: English\n"
     ]
    },
    {
     "name": "stderr",
     "output_type": "stream",
     "text": [
      "100%|██████████| 14348/14348 [00:00<00:00, 15449.04frames/s]\n"
     ]
    },
    {
     "name": "stdout",
     "output_type": "stream",
     "text": [
      "Processed and deleted: downloaded_songs/36.wav\n",
      "Song Brandenburg by Beirut already exists. Skipping download.\n",
      "Detected language: English\n"
     ]
    },
    {
     "name": "stderr",
     "output_type": "stream",
     "text": [
      "100%|██████████| 18877/18877 [00:01<00:00, 9909.87frames/s] \n"
     ]
    },
    {
     "name": "stdout",
     "output_type": "stream",
     "text": [
      "Processed and deleted: downloaded_songs/37.wav\n",
      "Song Mount Wroclai (Idle Days) by Beirut already exists. Skipping download.\n",
      "Detected language: English\n"
     ]
    },
    {
     "name": "stderr",
     "output_type": "stream",
     "text": [
      " 52%|█████▏    | 8600/16558 [00:26<00:24, 320.32frames/s]\n"
     ]
    },
    {
     "name": "stdout",
     "output_type": "stream",
     "text": [
      "Processed and deleted: downloaded_songs/38.wav\n",
      "Song Rhineland (Heartland) by Beirut already exists. Skipping download.\n",
      "Detected language: English\n"
     ]
    },
    {
     "name": "stderr",
     "output_type": "stream",
     "text": [
      "100%|██████████| 20880/20880 [00:02<00:00, 9045.30frames/s] \n"
     ]
    },
    {
     "name": "stdout",
     "output_type": "stream",
     "text": [
      "Processed and deleted: downloaded_songs/39.wav\n",
      "Song Cliquot by Beirut already exists. Skipping download.\n",
      "Detected language: English\n"
     ]
    },
    {
     "name": "stderr",
     "output_type": "stream",
     "text": [
      "100%|██████████| 20152/20152 [00:02<00:00, 8282.47frames/s]\n"
     ]
    },
    {
     "name": "stdout",
     "output_type": "stream",
     "text": [
      "Processed and deleted: downloaded_songs/40.wav\n",
      "Song The Penalty by Beirut already exists. Skipping download.\n",
      "Detected language: English\n"
     ]
    },
    {
     "name": "stderr",
     "output_type": "stream",
     "text": [
      " 88%|████████▊ | 9848/11232 [00:00<00:00, 10975.60frames/s]\n"
     ]
    },
    {
     "name": "stdout",
     "output_type": "stream",
     "text": [
      "Processed and deleted: downloaded_songs/41.wav\n",
      "Song After The Curtain by Beirut already exists. Skipping download.\n",
      "Detected language: English\n"
     ]
    },
    {
     "name": "stderr",
     "output_type": "stream",
     "text": [
      "100%|██████████| 14489/14489 [00:00<00:00, 20598.20frames/s]\n"
     ]
    },
    {
     "name": "stdout",
     "output_type": "stream",
     "text": [
      "Processed and deleted: downloaded_songs/42.wav\n",
      "Song Bratislava by Beirut already exists. Skipping download.\n",
      "Detected language: English\n"
     ]
    },
    {
     "name": "stderr",
     "output_type": "stream",
     "text": [
      " 10%|█         | 1733/16733 [00:09<01:22, 181.65frames/s]\n"
     ]
    },
    {
     "name": "stdout",
     "output_type": "stream",
     "text": [
      "Processed and deleted: downloaded_songs/43.wav\n",
      "Song The Canals Of Our City by Beirut already exists. Skipping download.\n",
      "Detected language: Shona\n"
     ]
    },
    {
     "name": "stderr",
     "output_type": "stream",
     "text": [
      " 51%|█████     | 5642/11112 [00:37<00:36, 149.86frames/s]\n"
     ]
    },
    {
     "name": "stdout",
     "output_type": "stream",
     "text": [
      "Processed and deleted: downloaded_songs/44.wav\n",
      "Song Guyamas Sonora by Beirut already exists. Skipping download.\n",
      "Detected language: English\n"
     ]
    },
    {
     "name": "stderr",
     "output_type": "stream",
     "text": [
      "100%|██████████| 18146/18146 [00:08<00:00, 2220.01frames/s]\n"
     ]
    },
    {
     "name": "stdout",
     "output_type": "stream",
     "text": [
      "Processed and deleted: downloaded_songs/45.wav\n",
      "Song In the Mausoleum by Beirut already exists. Skipping download.\n",
      "Detected language: English\n"
     ]
    },
    {
     "name": "stderr",
     "output_type": "stream",
     "text": [
      "100%|██████████| 16089/16089 [00:01<00:00, 11899.69frames/s]\n"
     ]
    },
    {
     "name": "stdout",
     "output_type": "stream",
     "text": [
      "Processed and deleted: downloaded_songs/46.wav\n",
      "Song The Bunker by Beirut already exists. Skipping download.\n",
      "Detected language: English\n"
     ]
    },
    {
     "name": "stderr",
     "output_type": "stream",
     "text": [
      " 82%|████████▏ | 13318/16318 [00:05<00:01, 2599.81frames/s]\n"
     ]
    },
    {
     "name": "stdout",
     "output_type": "stream",
     "text": [
      "Processed and deleted: downloaded_songs/47.wav\n",
      "Song Cherbourg by Beirut already exists. Skipping download.\n",
      "Detected language: English\n"
     ]
    },
    {
     "name": "stderr",
     "output_type": "stream",
     "text": [
      "100%|██████████| 18326/18326 [00:02<00:00, 8651.01frames/s] \n"
     ]
    },
    {
     "name": "stdout",
     "output_type": "stream",
     "text": [
      "Processed and deleted: downloaded_songs/48.wav\n",
      "Song The Flying Club Cup by Beirut already exists. Skipping download.\n",
      "Detected language: English\n"
     ]
    },
    {
     "name": "stderr",
     "output_type": "stream",
     "text": [
      "100%|██████████| 15528/15528 [00:01<00:00, 13084.53frames/s]\n"
     ]
    },
    {
     "name": "stdout",
     "output_type": "stream",
     "text": [
      "Processed and deleted: downloaded_songs/49.wav\n",
      "Song Un Dernier Verre (Pour La Route) by Beirut already exists. Skipping download.\n",
      "Detected language: English\n"
     ]
    },
    {
     "name": "stderr",
     "output_type": "stream",
     "text": [
      "100%|██████████| 14136/14136 [00:01<00:00, 10523.30frames/s]\n"
     ]
    },
    {
     "name": "stdout",
     "output_type": "stream",
     "text": [
      "Processed and deleted: downloaded_songs/50.wav\n",
      "Song Prenzlauerberg by Beirut already exists. Skipping download.\n",
      "Detected language: Latin\n"
     ]
    },
    {
     "name": "stderr",
     "output_type": "stream",
     "text": [
      " 60%|█████▉    | 11784/19673 [00:54<00:36, 216.83frames/s]\n"
     ]
    },
    {
     "name": "stdout",
     "output_type": "stream",
     "text": [
      "Processed and deleted: downloaded_songs/51.wav\n",
      "Song Tambura by Ramsey Lewis already exists. Skipping download.\n",
      "Detected language: Khmer\n"
     ]
    },
    {
     "name": "stderr",
     "output_type": "stream",
     "text": [
      "  0%|          | 0/14400 [00:45<?, ?frames/s]\n"
     ]
    },
    {
     "name": "stdout",
     "output_type": "stream",
     "text": [
      "Processed and deleted: downloaded_songs/52.wav\n",
      "Song Lift Thine Eyes by Constance Demby already exists. Skipping download.\n",
      "Detected language: Latin\n"
     ]
    },
    {
     "name": "stderr",
     "output_type": "stream",
     "text": [
      "  7%|▋         | 2800/39982 [01:50<24:29, 25.31frames/s]\n"
     ]
    },
    {
     "name": "stdout",
     "output_type": "stream",
     "text": [
      "Processed and deleted: downloaded_songs/53.wav\n",
      "Song Timeless by Anugama already exists. Skipping download.\n",
      "Detected language: Latin\n"
     ]
    },
    {
     "name": "stderr",
     "output_type": "stream",
     "text": [
      " 70%|██████▉   | 102902/147902 [03:06<01:21, 551.14frames/s]\n"
     ]
    },
    {
     "name": "stdout",
     "output_type": "stream",
     "text": [
      "Processed and deleted: downloaded_songs/54.wav\n",
      "Song Bangla Dhun by Ravi Shankar & Ali Akbar Khan already exists. Skipping download.\n",
      "Detected language: Javanese\n"
     ]
    },
    {
     "name": "stderr",
     "output_type": "stream",
     "text": [
      "  8%|▊         | 7792/100792 [05:02<1:00:08, 25.77frames/s]\n"
     ]
    },
    {
     "name": "stdout",
     "output_type": "stream",
     "text": [
      "Processed and deleted: downloaded_songs/55.wav\n",
      "Song Sunrise At the Ganges (From Call of the Mystic) by Karunesh already exists. Skipping download.\n",
      "Detected language: Sanskrit\n"
     ]
    },
    {
     "name": "stderr",
     "output_type": "stream",
     "text": [
      " 14%|█▎        | 4500/32880 [01:43<10:54, 43.37frames/s]\n"
     ]
    },
    {
     "name": "stdout",
     "output_type": "stream",
     "text": [
      "Processed and deleted: downloaded_songs/56.wav\n",
      "Song Im Orient II by Irmin Schmidt & The Inner Space already exists. Skipping download.\n",
      "Detected language: English\n"
     ]
    },
    {
     "name": "stderr",
     "output_type": "stream",
     "text": [
      "  0%|          | 0/18009 [00:05<?, ?frames/s]\n"
     ]
    },
    {
     "name": "stdout",
     "output_type": "stream",
     "text": [
      "Processed and deleted: downloaded_songs/57.wav\n",
      "Song Nothing Spoken by TJ Rehmi already exists. Skipping download.\n",
      "Detected language: Sinhala\n"
     ]
    },
    {
     "name": "stderr",
     "output_type": "stream",
     "text": [
      "  0%|          | 0/25717 [01:32<?, ?frames/s]\n"
     ]
    },
    {
     "name": "stdout",
     "output_type": "stream",
     "text": [
      "Processed and deleted: downloaded_songs/58.wav\n",
      "Song Radha Krishna by Paban Das Baul & State of Bengal already exists. Skipping download.\n",
      "Detected language: Shona\n"
     ]
    },
    {
     "name": "stderr",
     "output_type": "stream",
     "text": [
      " 49%|████▉     | 11976/24404 [01:20<01:23, 148.80frames/s]\n"
     ]
    },
    {
     "name": "stdout",
     "output_type": "stream",
     "text": [
      "Processed and deleted: downloaded_songs/59.wav\n",
      "Song Chakra Rhythm by Brent Lewis, DJ Free & Soulfood already exists. Skipping download.\n",
      "Detected language: Javanese\n"
     ]
    },
    {
     "name": "stderr",
     "output_type": "stream",
     "text": [
      "  0%|          | 0/62322 [03:17<?, ?frames/s]\n"
     ]
    },
    {
     "name": "stdout",
     "output_type": "stream",
     "text": [
      "Processed and deleted: downloaded_songs/60.wav\n",
      "Song Tambura Tuning  Ranjani Sivakumar by Ranjani Sivakumar already exists. Skipping download.\n",
      "Detected language: English\n"
     ]
    },
    {
     "name": "stderr",
     "output_type": "stream",
     "text": [
      "100%|██████████| 33427/33427 [00:06<00:00, 4943.27frames/s]"
     ]
    },
    {
     "name": "stdout",
     "output_type": "stream",
     "text": [
      "Processed and deleted: downloaded_songs/61.wav\n",
      "Downloading: In Memory For A Birthday Rainer Lungershausen\n",
      "[youtube:search] Extracting URL: ytsearch1:In Memory For A Birthday Rainer Lungershausen\n",
      "[download] Downloading playlist: In Memory For A Birthday Rainer Lungershausen\n",
      "[youtube:search] query \"In Memory For A Birthday Rainer Lungershausen\": Downloading web client config\n"
     ]
    },
    {
     "name": "stderr",
     "output_type": "stream",
     "text": [
      "\n"
     ]
    },
    {
     "name": "stdout",
     "output_type": "stream",
     "text": [
      "[youtube:search] query \"In Memory For A Birthday Rainer Lungershausen\" page 1: Downloading API JSON\n",
      "[youtube:search] Playlist In Memory For A Birthday Rainer Lungershausen: Downloading 0 items\n",
      "[download] Finished downloading playlist: In Memory For A Birthday Rainer Lungershausen\n",
      "Downloaded In Memory For A Birthday by Rainer Lungershausen.\n",
      "Error extracting features from downloaded_songs/62.wav: [Errno 2] No such file or directory: 'downloaded_songs/62.wav'\n",
      "Song Room of Fools by FKA twigs already exists. Skipping download.\n"
     ]
    },
    {
     "name": "stderr",
     "output_type": "stream",
     "text": [
      "/tmp/ipykernel_136/1490357436.py:64: UserWarning: PySoundFile failed. Trying audioread instead.\n",
      "  y, sr = librosa.load(audio_file)\n",
      "/opt/conda/lib/python3.10/site-packages/librosa/core/audio.py:184: FutureWarning: librosa.core.audio.__audioread_load\n",
      "\tDeprecated as of librosa version 0.10.0.\n",
      "\tIt will be removed in librosa version 1.0.\n",
      "  y, sr_native = __audioread_load(path, offset, duration, dtype)\n"
     ]
    },
    {
     "name": "stdout",
     "output_type": "stream",
     "text": [
      "Detected language: English\n"
     ]
    },
    {
     "name": "stderr",
     "output_type": "stream",
     "text": [
      "100%|██████████| 23572/23572 [00:02<00:00, 10517.87frames/s]\n"
     ]
    },
    {
     "name": "stdout",
     "output_type": "stream",
     "text": [
      "Processed and deleted: downloaded_songs/63.wav\n",
      "Song Don Diasco by Xiu Xiu already exists. Skipping download.\n",
      "Detected language: English\n"
     ]
    },
    {
     "name": "stderr",
     "output_type": "stream",
     "text": [
      " 98%|█████████▊| 14200/14483 [00:02<00:00, 5736.30frames/s]\n"
     ]
    },
    {
     "name": "stdout",
     "output_type": "stream",
     "text": [
      "Processed and deleted: downloaded_songs/64.wav\n",
      "Song Poe Poe by Xiu Xiu already exists. Skipping download.\n",
      "Detected language: English\n"
     ]
    },
    {
     "name": "stderr",
     "output_type": "stream",
     "text": [
      "100%|██████████| 19018/19018 [00:07<00:00, 2637.81frames/s]\n"
     ]
    },
    {
     "name": "stdout",
     "output_type": "stream",
     "text": [
      "Processed and deleted: downloaded_songs/65.wav\n",
      "Song Why We Fight by Tortoise already exists. Skipping download.\n",
      "Detected language: English\n"
     ]
    },
    {
     "name": "stderr",
     "output_type": "stream",
     "text": [
      "  0%|          | 0/23322 [00:00<?, ?frames/s]\n"
     ]
    },
    {
     "name": "stdout",
     "output_type": "stream",
     "text": [
      "Processed and deleted: downloaded_songs/66.wav\n",
      "Song Kaneda by 芸能山城組 already exists. Skipping download.\n",
      "Detected language: Japanese\n"
     ]
    },
    {
     "name": "stderr",
     "output_type": "stream",
     "text": [
      " 84%|████████▍ | 30930/36930 [00:07<00:01, 3934.39frames/s]\n"
     ]
    },
    {
     "name": "stdout",
     "output_type": "stream",
     "text": [
      "Processed and deleted: downloaded_songs/67.wav\n",
      "Song Kuj Yato by Clap! Clap! already exists. Skipping download.\n",
      "Detected language: Khmer\n"
     ]
    },
    {
     "name": "stderr",
     "output_type": "stream",
     "text": [
      " 16%|█▋        | 3000/18443 [01:07<05:47, 44.39frames/s]\n"
     ]
    },
    {
     "name": "stdout",
     "output_type": "stream",
     "text": [
      "Processed and deleted: downloaded_songs/68.wav\n",
      "Song Six Marimbas by Steve Reich already exists. Skipping download.\n",
      "Detected language: English\n"
     ]
    },
    {
     "name": "stderr",
     "output_type": "stream",
     "text": [
      "  1%|          | 684/108684 [00:02<05:22, 334.74frames/s]\n"
     ]
    },
    {
     "name": "stdout",
     "output_type": "stream",
     "text": [
      "Processed and deleted: downloaded_songs/69.wav\n",
      "Song Everything You've Done Before - Dixon Remix by Mano Le Tough already exists. Skipping download.\n",
      "Detected language: Khmer\n"
     ]
    },
    {
     "name": "stderr",
     "output_type": "stream",
     "text": [
      " 17%|█▋        | 6000/35829 [01:53<09:26, 52.65frames/s]\n"
     ]
    },
    {
     "name": "stdout",
     "output_type": "stream",
     "text": [
      "Processed and deleted: downloaded_songs/70.wav\n",
      "Song The 17-Year Cicada by Sleepytime Gorilla Museum already exists. Skipping download.\n",
      "Detected language: English\n"
     ]
    },
    {
     "name": "stderr",
     "output_type": "stream",
     "text": [
      "  0%|          | 0/19168 [00:06<?, ?frames/s]\n"
     ]
    },
    {
     "name": "stdout",
     "output_type": "stream",
     "text": [
      "Processed and deleted: downloaded_songs/71.wav\n",
      "Song The Source of Uncertainty by Tortoise already exists. Skipping download.\n",
      "Detected language: Nynorsk\n"
     ]
    },
    {
     "name": "stderr",
     "output_type": "stream",
     "text": [
      "  0%|          | 0/19286 [01:01<?, ?frames/s]\n"
     ]
    },
    {
     "name": "stdout",
     "output_type": "stream",
     "text": [
      "Processed and deleted: downloaded_songs/72.wav\n",
      "Song Homotopy To Marie by Nurse With Wound already exists. Skipping download.\n",
      "Detected language: Nynorsk\n"
     ]
    },
    {
     "name": "stderr",
     "output_type": "stream",
     "text": [
      " 31%|███▏      | 122632/391007 [16:43<36:36, 122.18frames/s] \n"
     ]
    },
    {
     "name": "stdout",
     "output_type": "stream",
     "text": [
      "Processed and deleted: downloaded_songs/73.wav\n",
      "Song 闇祭 by Kikuo already exists. Skipping download.\n",
      "Detected language: Japanese\n"
     ]
    },
    {
     "name": "stderr",
     "output_type": "stream",
     "text": [
      " 76%|███████▋  | 14836/19410 [00:08<00:02, 1768.68frames/s]\n"
     ]
    },
    {
     "name": "stdout",
     "output_type": "stream",
     "text": [
      "Processed and deleted: downloaded_songs/74.wav\n",
      "Song Reflective Surfaces by Rachel's already exists. Skipping download.\n",
      "Detected language: Latin\n"
     ]
    },
    {
     "name": "stderr",
     "output_type": "stream",
     "text": [
      " 19%|█▉        | 4908/25908 [01:10<05:00, 69.90frames/s] \n"
     ]
    },
    {
     "name": "stdout",
     "output_type": "stream",
     "text": [
      "Processed and deleted: downloaded_songs/75.wav\n",
      "Song Requiem by 芸能山城組 already exists. Skipping download.\n",
      "Detected language: Hawaiian\n"
     ]
    },
    {
     "name": "stderr",
     "output_type": "stream",
     "text": [
      " 16%|█▌        | 72180/445510 [19:51<1:42:42, 60.58frames/s]\n"
     ]
    },
    {
     "name": "stdout",
     "output_type": "stream",
     "text": [
      "Processed and deleted: downloaded_songs/76.wav\n",
      "Song Alocasia Metallica by SPK already exists. Skipping download.\n",
      "Detected language: Javanese\n"
     ]
    },
    {
     "name": "stderr",
     "output_type": "stream",
     "text": [
      " 10%|█         | 3368/33368 [01:52<16:39, 30.03frames/s] \n"
     ]
    },
    {
     "name": "stdout",
     "output_type": "stream",
     "text": [
      "Processed and deleted: downloaded_songs/77.wav\n",
      "Song SHIBUYA Morning by Supercar already exists. Skipping download.\n",
      "Detected language: Khmer\n"
     ]
    },
    {
     "name": "stderr",
     "output_type": "stream",
     "text": [
      "  0%|          | 0/24536 [01:23<?, ?frames/s]\n"
     ]
    },
    {
     "name": "stdout",
     "output_type": "stream",
     "text": [
      "Processed and deleted: downloaded_songs/78.wav\n",
      "Song Don Ah by OOIOO already exists. Skipping download.\n",
      "Detected language: Latin\n"
     ]
    },
    {
     "name": "stderr",
     "output_type": "stream",
     "text": [
      " 16%|█▌        | 9000/57158 [02:29<13:17, 60.35frames/s] \n"
     ]
    },
    {
     "name": "stdout",
     "output_type": "stream",
     "text": [
      "Processed and deleted: downloaded_songs/79.wav\n",
      "Song Lotus by Jalan Jalan already exists. Skipping download.\n",
      "Detected language: Javanese\n"
     ]
    },
    {
     "name": "stderr",
     "output_type": "stream",
     "text": [
      "  9%|▊         | 3000/35189 [01:51<19:53, 26.97frames/s]\n"
     ]
    },
    {
     "name": "stdout",
     "output_type": "stream",
     "text": [
      "Processed and deleted: downloaded_songs/80.wav\n",
      "Song Moonlit City Roa by 下村陽子 already exists. Skipping download.\n",
      "Detected language: Latin\n"
     ]
    },
    {
     "name": "stderr",
     "output_type": "stream",
     "text": [
      "  0%|          | 0/10055 [00:29<?, ?frames/s]\n"
     ]
    },
    {
     "name": "stdout",
     "output_type": "stream",
     "text": [
      "Processed and deleted: downloaded_songs/81.wav\n",
      "Song Puttanesca by Thomas Newman already exists. Skipping download.\n",
      "Detected language: English\n"
     ]
    },
    {
     "name": "stderr",
     "output_type": "stream",
     "text": [
      "  0%|          | 0/13114 [00:00<?, ?frames/s]"
     ]
    },
    {
     "name": "stdout",
     "output_type": "stream",
     "text": [
      "Processed and deleted: downloaded_songs/82.wav\n",
      "Downloading: Gunung Batur (featuring Ian Burdge on Cello) Michael Conn\n",
      "[youtube:search] Extracting URL: ytsearch1:Gunung Batur (featuring Ian Burdge on Cello) Michael Conn\n",
      "[download] Downloading playlist: Gunung Batur (featuring Ian Burdge on Cello) Michael Conn\n",
      "[youtube:search] query \"Gunung Batur (featuring Ian Burdge on Cello) Michael Conn\": Downloading web client config\n"
     ]
    },
    {
     "name": "stderr",
     "output_type": "stream",
     "text": [
      "\n"
     ]
    },
    {
     "name": "stdout",
     "output_type": "stream",
     "text": [
      "[youtube:search] query \"Gunung Batur (featuring Ian Burdge on Cello) Michael Conn\" page 1: Downloading API JSON\n",
      "[youtube:search] Playlist Gunung Batur (featuring Ian Burdge on Cello) Michael Conn: Downloading 0 items\n",
      "[download] Finished downloading playlist: Gunung Batur (featuring Ian Burdge on Cello) Michael Conn\n",
      "Downloaded Gunung Batur (featuring Ian Burdge on Cello) by Michael Conn.\n",
      "Error extracting features from downloaded_songs/83.wav: [Errno 2] No such file or directory: 'downloaded_songs/83.wav'\n",
      "Song One Dance by Drake already exists. Skipping download.\n"
     ]
    },
    {
     "name": "stderr",
     "output_type": "stream",
     "text": [
      "/tmp/ipykernel_136/1490357436.py:64: UserWarning: PySoundFile failed. Trying audioread instead.\n",
      "  y, sr = librosa.load(audio_file)\n",
      "/opt/conda/lib/python3.10/site-packages/librosa/core/audio.py:184: FutureWarning: librosa.core.audio.__audioread_load\n",
      "\tDeprecated as of librosa version 0.10.0.\n",
      "\tIt will be removed in librosa version 1.0.\n",
      "  y, sr_native = __audioread_load(path, offset, duration, dtype)\n"
     ]
    },
    {
     "name": "stdout",
     "output_type": "stream",
     "text": [
      "Detected language: English\n"
     ]
    },
    {
     "name": "stderr",
     "output_type": "stream",
     "text": [
      "100%|██████████| 14492/14492 [00:02<00:00, 4929.51frames/s]\n"
     ]
    },
    {
     "name": "stdout",
     "output_type": "stream",
     "text": [
      "Processed and deleted: downloaded_songs/84.wav\n",
      "Song Woman by Doja Cat already exists. Skipping download.\n",
      "Detected language: English\n"
     ]
    },
    {
     "name": "stderr",
     "output_type": "stream",
     "text": [
      "100%|██████████| 16291/16291 [00:05<00:00, 2746.98frames/s]\n"
     ]
    },
    {
     "name": "stdout",
     "output_type": "stream",
     "text": [
      "Processed and deleted: downloaded_songs/85.wav\n",
      "Song Giving up the Gun by Vampire Weekend already exists. Skipping download.\n",
      "Detected language: English\n"
     ]
    },
    {
     "name": "stderr",
     "output_type": "stream",
     "text": [
      "100%|██████████| 27356/27356 [00:10<00:00, 2661.07frames/s]\n"
     ]
    },
    {
     "name": "stdout",
     "output_type": "stream",
     "text": [
      "Processed and deleted: downloaded_songs/86.wav\n",
      "Song K-POP by Travis Scott already exists. Skipping download.\n",
      "Detected language: Spanish\n"
     ]
    },
    {
     "name": "stderr",
     "output_type": "stream",
     "text": [
      "100%|██████████| 18021/18021 [00:10<00:00, 1752.64frames/s]\n"
     ]
    },
    {
     "name": "stdout",
     "output_type": "stream",
     "text": [
      "Processed and deleted: downloaded_songs/87.wav\n",
      "Song SAD GIRLZ LUV MONEY Remix (feat. Kali Uchis and Moliy) by amaarae already exists. Skipping download.\n",
      "Detected language: English\n"
     ]
    },
    {
     "name": "stderr",
     "output_type": "stream",
     "text": [
      "100%|██████████| 17488/17488 [00:06<00:00, 2866.67frames/s]\n"
     ]
    },
    {
     "name": "stdout",
     "output_type": "stream",
     "text": [
      "Processed and deleted: downloaded_songs/88.wav\n",
      "Song I'm That Girl by Beyoncé already exists. Skipping download.\n",
      "Detected language: English\n"
     ]
    },
    {
     "name": "stderr",
     "output_type": "stream",
     "text": [
      "100%|██████████| 18497/18497 [00:04<00:00, 3963.59frames/s]\n"
     ]
    },
    {
     "name": "stdout",
     "output_type": "stream",
     "text": [
      "Processed and deleted: downloaded_songs/89.wav\n",
      "Song Once in a Lifetime - 2005 Remaster by Talking Heads already exists. Skipping download.\n",
      "Detected language: English\n"
     ]
    },
    {
     "name": "stderr",
     "output_type": "stream",
     "text": [
      "100%|██████████| 19470/19470 [00:10<00:00, 1796.28frames/s]\n"
     ]
    },
    {
     "name": "stdout",
     "output_type": "stream",
     "text": [
      "Processed and deleted: downloaded_songs/90.wav\n",
      "Song COZY by Beyoncé already exists. Skipping download.\n",
      "Detected language: English\n"
     ]
    },
    {
     "name": "stderr",
     "output_type": "stream",
     "text": [
      "100%|██████████| 18726/18726 [00:04<00:00, 3878.23frames/s]\n"
     ]
    },
    {
     "name": "stdout",
     "output_type": "stream",
     "text": [
      "Processed and deleted: downloaded_songs/91.wav\n",
      "Song HEATED by Beyoncé already exists. Skipping download.\n",
      "Detected language: English\n"
     ]
    },
    {
     "name": "stderr",
     "output_type": "stream",
     "text": [
      "100%|██████████| 23772/23772 [00:16<00:00, 1407.11frames/s]\n"
     ]
    },
    {
     "name": "stdout",
     "output_type": "stream",
     "text": [
      "Processed and deleted: downloaded_songs/92.wav\n",
      "Song Smart by LE SSERAFIM already exists. Skipping download.\n",
      "Detected language: Korean\n"
     ]
    },
    {
     "name": "stderr",
     "output_type": "stream",
     "text": [
      " 87%|████████▋ | 14200/16400 [00:05<00:00, 2461.32frames/s]\n"
     ]
    },
    {
     "name": "stdout",
     "output_type": "stream",
     "text": [
      "Processed and deleted: downloaded_songs/93.wav\n",
      "Song love nwantiti (ah ah ah) by Ckay already exists. Skipping download.\n",
      "Detected language: Yoruba\n"
     ]
    },
    {
     "name": "stderr",
     "output_type": "stream",
     "text": [
      "  0%|          | 0/16385 [00:59<?, ?frames/s]\n"
     ]
    },
    {
     "name": "stdout",
     "output_type": "stream",
     "text": [
      "Processed and deleted: downloaded_songs/94.wav\n",
      "Song California English by Vampire Weekend already exists. Skipping download.\n",
      "Detected language: English\n"
     ]
    },
    {
     "name": "stderr",
     "output_type": "stream",
     "text": [
      " 75%|███████▌  | 9024/12024 [00:11<00:03, 801.01frames/s] \n"
     ]
    },
    {
     "name": "stdout",
     "output_type": "stream",
     "text": [
      "Processed and deleted: downloaded_songs/95.wav\n",
      "Song I Think Ur a Contra by Vampire Weekend already exists. Skipping download.\n",
      "Detected language: English\n"
     ]
    },
    {
     "name": "stderr",
     "output_type": "stream",
     "text": [
      "100%|██████████| 23916/23916 [00:02<00:00, 9471.53frames/s] \n"
     ]
    },
    {
     "name": "stdout",
     "output_type": "stream",
     "text": [
      "Processed and deleted: downloaded_songs/96.wav\n",
      "Song MOVE (feat. Grace Jones & Tems) by Beyoncé already exists. Skipping download.\n",
      "Detected language: English\n"
     ]
    },
    {
     "name": "stderr",
     "output_type": "stream",
     "text": [
      "100%|██████████| 18033/18033 [00:11<00:00, 1553.48frames/s]\n"
     ]
    },
    {
     "name": "stdout",
     "output_type": "stream",
     "text": [
      "Processed and deleted: downloaded_songs/97.wav\n",
      "Song TOOTIMETOOTIMETOOTIME by The 1975 already exists. Skipping download.\n",
      "Detected language: English\n"
     ]
    },
    {
     "name": "stderr",
     "output_type": "stream",
     "text": [
      " 90%|█████████ | 16700/18464 [00:08<00:00, 1952.25frames/s]\n"
     ]
    },
    {
     "name": "stdout",
     "output_type": "stream",
     "text": [
      "Processed and deleted: downloaded_songs/98.wav\n",
      "Song Tinnitus (Wanna Be a Rock) by TOMORROW X TOGETHER already exists. Skipping download.\n",
      "Detected language: Korean\n"
     ]
    },
    {
     "name": "stderr",
     "output_type": "stream",
     "text": [
      " 90%|█████████ | 11510/12726 [00:04<00:00, 2506.04frames/s]\n"
     ]
    },
    {
     "name": "stdout",
     "output_type": "stream",
     "text": [
      "Processed and deleted: downloaded_songs/99.wav\n",
      "Song Ya Hey by Vampire Weekend already exists. Skipping download.\n",
      "Detected language: English\n"
     ]
    },
    {
     "name": "stderr",
     "output_type": "stream",
     "text": [
      "100%|██████████| 28530/28530 [00:04<00:00, 6011.18frames/s]\n"
     ]
    },
    {
     "name": "stdout",
     "output_type": "stream",
     "text": [
      "Processed and deleted: downloaded_songs/100.wav\n",
      "Song Won't Bite (feat. Smino) by Doja Cat already exists. Skipping download.\n",
      "Detected language: English\n"
     ]
    },
    {
     "name": "stderr",
     "output_type": "stream",
     "text": [
      "100%|██████████| 16743/16743 [00:19<00:00, 865.66frames/s] \n"
     ]
    },
    {
     "name": "stdout",
     "output_type": "stream",
     "text": [
      "Processed and deleted: downloaded_songs/101.wav\n",
      "Song Diplomat's Son by Vampire Weekend already exists. Skipping download.\n",
      "Detected language: English\n"
     ]
    },
    {
     "name": "stderr",
     "output_type": "stream",
     "text": [
      "100%|██████████| 33137/33137 [00:04<00:00, 7958.47frames/s] \n"
     ]
    },
    {
     "name": "stdout",
     "output_type": "stream",
     "text": [
      "Processed and deleted: downloaded_songs/102.wav\n",
      "Song Paid by Kanye West already exists. Skipping download.\n",
      "Detected language: English\n"
     ]
    },
    {
     "name": "stderr",
     "output_type": "stream",
     "text": [
      "100%|██████████| 16517/16517 [00:13<00:00, 1181.46frames/s]\n"
     ]
    },
    {
     "name": "stdout",
     "output_type": "stream",
     "text": [
      "Processed and deleted: downloaded_songs/103.wav\n",
      "Song black enuff by Redveil already exists. Skipping download.\n",
      "Detected language: English\n"
     ]
    },
    {
     "name": "stderr",
     "output_type": "stream",
     "text": [
      " 86%|████████▋ | 11132/12879 [00:21<00:03, 522.29frames/s]\n"
     ]
    },
    {
     "name": "stdout",
     "output_type": "stream",
     "text": [
      "Processed and deleted: downloaded_songs/104.wav\n",
      "Song Love and Death by Ebo Taylor already exists. Skipping download.\n",
      "Detected language: Shona\n"
     ]
    },
    {
     "name": "stderr",
     "output_type": "stream",
     "text": [
      " 66%|██████▌   | 25484/38509 [02:35<01:19, 163.37frames/s]\n"
     ]
    },
    {
     "name": "stdout",
     "output_type": "stream",
     "text": [
      "Processed and deleted: downloaded_songs/105.wav\n",
      "Song Tonight's Today by Jack Peñate already exists. Skipping download.\n",
      "Detected language: English\n"
     ]
    },
    {
     "name": "stderr",
     "output_type": "stream",
     "text": [
      "100%|██████████| 17194/17194 [00:04<00:00, 3769.56frames/s]\n"
     ]
    },
    {
     "name": "stdout",
     "output_type": "stream",
     "text": [
      "Processed and deleted: downloaded_songs/106.wav\n",
      "Song Akula Owu Onyeara by The Funkees already exists. Skipping download.\n",
      "Detected language: Yoruba\n"
     ]
    },
    {
     "name": "stderr",
     "output_type": "stream",
     "text": [
      " 50%|████▉     | 21100/42201 [01:36<01:36, 217.69frames/s]\n"
     ]
    },
    {
     "name": "stdout",
     "output_type": "stream",
     "text": [
      "Processed and deleted: downloaded_songs/107.wav\n",
      "Song will you promise by Ebo Taylor already exists. Skipping download.\n",
      "Detected language: English\n"
     ]
    },
    {
     "name": "stderr",
     "output_type": "stream",
     "text": [
      "100%|██████████| 19648/19648 [00:02<00:00, 7991.29frames/s] \n"
     ]
    },
    {
     "name": "stdout",
     "output_type": "stream",
     "text": [
      "Processed and deleted: downloaded_songs/108.wav\n",
      "Song ATK by Bonobo already exists. Skipping download.\n",
      "Detected language: Khmer\n"
     ]
    },
    {
     "name": "stderr",
     "output_type": "stream",
     "text": [
      "  0%|          | 0/19672 [01:07<?, ?frames/s]\n"
     ]
    },
    {
     "name": "stdout",
     "output_type": "stream",
     "text": [
      "Processed and deleted: downloaded_songs/109.wav\n",
      "Song Ululation by Young Fathers already exists. Skipping download.\n",
      "Detected language: English\n"
     ]
    },
    {
     "name": "stderr",
     "output_type": "stream",
     "text": [
      " 26%|██▌       | 3772/14500 [00:10<00:30, 347.69frames/s] \n"
     ]
    },
    {
     "name": "stdout",
     "output_type": "stream",
     "text": [
      "Processed and deleted: downloaded_songs/110.wav\n",
      "Song Bukom Mashie by Oscar Sulley & The Uhuru Dance Band already exists. Skipping download.\n",
      "Detected language: English\n"
     ]
    },
    {
     "name": "stderr",
     "output_type": "stream",
     "text": [
      "  5%|▌         | 1392/27760 [00:01<00:21, 1253.68frames/s]\n"
     ]
    },
    {
     "name": "stdout",
     "output_type": "stream",
     "text": [
      "Processed and deleted: downloaded_songs/111.wav\n",
      "Song Afe Ato Yen Bio by De Frank Professionals already exists. Skipping download.\n",
      "Detected language: Yoruba\n"
     ]
    },
    {
     "name": "stderr",
     "output_type": "stream",
     "text": [
      " 88%|████████▊ | 21668/24668 [01:31<00:12, 237.77frames/s]\n"
     ]
    },
    {
     "name": "stdout",
     "output_type": "stream",
     "text": [
      "Processed and deleted: downloaded_songs/112.wav\n",
      "Song Atwer Abroba by Ebo Taylor already exists. Skipping download.\n",
      "Detected language: Yoruba\n"
     ]
    },
    {
     "name": "stderr",
     "output_type": "stream",
     "text": [
      " 48%|████▊     | 22234/46234 [02:44<02:57, 135.34frames/s]\n"
     ]
    },
    {
     "name": "stdout",
     "output_type": "stream",
     "text": [
      "Processed and deleted: downloaded_songs/113.wav\n",
      "Song Funky Horn by Fela Kuti already exists. Skipping download.\n",
      "Detected language: English\n"
     ]
    },
    {
     "name": "stderr",
     "output_type": "stream",
     "text": [
      " 17%|█▋        | 4254/25254 [00:08<00:44, 475.33frames/s]\n"
     ]
    },
    {
     "name": "stdout",
     "output_type": "stream",
     "text": [
      "Processed and deleted: downloaded_songs/114.wav\n",
      "Song Petit Sekou by Bembeya Jazz National already exists. Skipping download.\n",
      "Detected language: Khmer\n"
     ]
    },
    {
     "name": "stderr",
     "output_type": "stream",
     "text": [
      "  9%|▉         | 3000/33004 [01:51<18:39, 26.81frames/s]\n"
     ]
    },
    {
     "name": "stdout",
     "output_type": "stream",
     "text": [
      "Processed and deleted: downloaded_songs/115.wav\n",
      "Song You Monopolise Me by The Ogyatanaa Show Band already exists. Skipping download.\n",
      "Detected language: Shona\n"
     ]
    },
    {
     "name": "stderr",
     "output_type": "stream",
     "text": [
      " 36%|███▋      | 6000/16442 [00:52<01:31, 113.54frames/s]\n"
     ]
    },
    {
     "name": "stdout",
     "output_type": "stream",
     "text": [
      "Processed and deleted: downloaded_songs/116.wav\n",
      "Song Ugali by The Tony Benson Sextet already exists. Skipping download.\n",
      "Detected language: Shona\n"
     ]
    },
    {
     "name": "stderr",
     "output_type": "stream",
     "text": [
      "  0%|          | 0/29338 [01:36<?, ?frames/s]\n"
     ]
    },
    {
     "name": "stdout",
     "output_type": "stream",
     "text": [
      "Processed and deleted: downloaded_songs/117.wav\n",
      "Song Highlife Time by Fela Kuti already exists. Skipping download.\n",
      "Detected language: English\n"
     ]
    },
    {
     "name": "stderr",
     "output_type": "stream",
     "text": [
      "100%|██████████| 29364/29364 [00:07<00:00, 3882.53frames/s]\n"
     ]
    },
    {
     "name": "stdout",
     "output_type": "stream",
     "text": [
      "Processed and deleted: downloaded_songs/118.wav\n",
      "Song Bome Nnwom by Ata Kak already exists. Skipping download.\n",
      "Detected language: Khmer\n"
     ]
    },
    {
     "name": "stderr",
     "output_type": "stream",
     "text": [
      "  6%|▌         | 1700/29505 [01:34<25:51, 17.92frames/s] \n"
     ]
    },
    {
     "name": "stdout",
     "output_type": "stream",
     "text": [
      "Processed and deleted: downloaded_songs/119.wav\n",
      "Song On Verra Ça by Orchestra Baobab already exists. Skipping download.\n",
      "Detected language: Swahili\n"
     ]
    },
    {
     "name": "stderr",
     "output_type": "stream",
     "text": [
      " 78%|███████▊  | 21252/27252 [00:24<00:06, 871.08frames/s] \n"
     ]
    },
    {
     "name": "stdout",
     "output_type": "stream",
     "text": [
      "Processed and deleted: downloaded_songs/120.wav\n",
      "Song Preacher Man by BLO already exists. Skipping download.\n",
      "Detected language: English\n"
     ]
    },
    {
     "name": "stderr",
     "output_type": "stream",
     "text": [
      " 64%|██████▍   | 16335/25335 [00:14<00:08, 1114.27frames/s]\n"
     ]
    },
    {
     "name": "stdout",
     "output_type": "stream",
     "text": [
      "Processed and deleted: downloaded_songs/121.wav\n",
      "Song Ohiani Sua Efir by Asaase Ase already exists. Skipping download.\n",
      "Detected language: Yoruba\n"
     ]
    },
    {
     "name": "stderr",
     "output_type": "stream",
     "text": [
      " 27%|██▋       | 5300/19918 [01:10<03:14, 75.32frames/s] \n"
     ]
    },
    {
     "name": "stdout",
     "output_type": "stream",
     "text": [
      "Processed and deleted: downloaded_songs/122.wav\n",
      "Song Je'nwi Temi (Don't Gag Me) by Fela Kuti already exists. Skipping download.\n",
      "Detected language: Yoruba\n"
     ]
    },
    {
     "name": "stderr",
     "output_type": "stream",
     "text": [
      " 29%|██▉       | 22516/76516 [04:22<10:29, 85.82frames/s] \n"
     ]
    },
    {
     "name": "stdout",
     "output_type": "stream",
     "text": [
      "Processed and deleted: downloaded_songs/123.wav\n",
      "Song In Your Eyes - 2012 Remaster by Peter Gabriel already exists. Skipping download.\n",
      "Detected language: English\n"
     ]
    },
    {
     "name": "stderr",
     "output_type": "stream",
     "text": [
      "100%|██████████| 29829/29829 [00:08<00:00, 3662.73frames/s]\n"
     ]
    },
    {
     "name": "stdout",
     "output_type": "stream",
     "text": [
      "Processed and deleted: downloaded_songs/124.wav\n",
      "Song Ami Kita Bay by Orchestra Baobab already exists. Skipping download.\n",
      "Detected language: Spanish\n"
     ]
    },
    {
     "name": "stderr",
     "output_type": "stream",
     "text": [
      " 90%|████████▉ | 26780/29780 [00:10<00:01, 2632.43frames/s]\n"
     ]
    },
    {
     "name": "stdout",
     "output_type": "stream",
     "text": [
      "Processed and deleted: downloaded_songs/125.wav\n",
      "Song Dibi Dibi Rek by Ismaël Lô already exists. Skipping download.\n",
      "Detected language: Somali\n"
     ]
    },
    {
     "name": "stderr",
     "output_type": "stream",
     "text": [
      " 75%|███████▌  | 18800/25002 [00:29<00:09, 639.57frames/s] \n"
     ]
    },
    {
     "name": "stdout",
     "output_type": "stream",
     "text": [
      "Processed and deleted: downloaded_songs/126.wav\n",
      "Song New Africa by Youssou N'Dour already exists. Skipping download.\n",
      "Detected language: Yoruba\n"
     ]
    },
    {
     "name": "stderr",
     "output_type": "stream",
     "text": [
      " 12%|█▏        | 4131/34131 [01:51<13:29, 37.05frames/s]\n"
     ]
    },
    {
     "name": "stdout",
     "output_type": "stream",
     "text": [
      "Processed and deleted: downloaded_songs/127.wav\n",
      "Song Set by Youssou N'Dour already exists. Skipping download.\n",
      "Detected language: French\n"
     ]
    },
    {
     "name": "stderr",
     "output_type": "stream",
     "text": [
      " 70%|███████   | 13874/19682 [00:22<00:09, 617.21frames/s] \n"
     ]
    },
    {
     "name": "stdout",
     "output_type": "stream",
     "text": [
      "Processed and deleted: downloaded_songs/128.wav\n",
      "Song I Still Haven't Found What I'm Looking For by Cheikh Lô already exists. Skipping download.\n",
      "Detected language: French\n"
     ]
    },
    {
     "name": "stderr",
     "output_type": "stream",
     "text": [
      "100%|██████████| 21486/21486 [00:15<00:00, 1357.28frames/s]\n"
     ]
    },
    {
     "name": "stdout",
     "output_type": "stream",
     "text": [
      "Processed and deleted: downloaded_songs/129.wav\n",
      "Song Dée Moo Wóor by Orchestra Baobab already exists. Skipping download.\n",
      "Detected language: English\n"
     ]
    },
    {
     "name": "stderr",
     "output_type": "stream",
     "text": [
      " 48%|████▊     | 11204/23204 [00:18<00:19, 609.45frames/s]\n"
     ]
    },
    {
     "name": "stdout",
     "output_type": "stream",
     "text": [
      "Processed and deleted: downloaded_songs/130.wav\n",
      "Song On Verra Ça by Orchestra Baobab already exists. Skipping download.\n",
      "Detected language: Swahili\n"
     ]
    },
    {
     "name": "stderr",
     "output_type": "stream",
     "text": [
      " 84%|████████▎ | 22818/27252 [00:11<00:02, 1912.12frames/s]\n"
     ]
    },
    {
     "name": "stdout",
     "output_type": "stream",
     "text": [
      "Processed and deleted: downloaded_songs/131.wav\n",
      "Song Ne La Thiass by Cheikh Lô already exists. Skipping download.\n",
      "Detected language: Yoruba\n"
     ]
    },
    {
     "name": "stderr",
     "output_type": "stream",
     "text": [
      " 22%|██▏       | 45634/207574 [10:42<38:01, 70.98frames/s]  \n"
     ]
    },
    {
     "name": "stdout",
     "output_type": "stream",
     "text": [
      "Processed and deleted: downloaded_songs/132.wav\n",
      "Song Raciste by Ismaël Lô already exists. Skipping download.\n",
      "Detected language: English\n"
     ]
    },
    {
     "name": "stderr",
     "output_type": "stream",
     "text": [
      " 72%|███████▏  | 15699/21699 [00:07<00:02, 2056.35frames/s]\n"
     ]
    },
    {
     "name": "stdout",
     "output_type": "stream",
     "text": [
      "Processed and deleted: downloaded_songs/133.wav\n",
      "Song Shakin' The Tree by Youssou N'Dour already exists. Skipping download.\n",
      "Detected language: Shona\n"
     ]
    },
    {
     "name": "stderr",
     "output_type": "stream",
     "text": [
      " 35%|███▌      | 11060/31272 [01:49<03:20, 100.92frames/s]\n"
     ]
    },
    {
     "name": "stdout",
     "output_type": "stream",
     "text": [
      "Processed and deleted: downloaded_songs/134.wav\n",
      "Song She doesn't need to fall by Youssou N'Dour already exists. Skipping download.\n",
      "Detected language: Shona\n"
     ]
    },
    {
     "name": "stderr",
     "output_type": "stream",
     "text": [
      " 11%|█         | 2864/26173 [01:32<12:31, 31.03frames/s] \n"
     ]
    },
    {
     "name": "stdout",
     "output_type": "stream",
     "text": [
      "Processed and deleted: downloaded_songs/135.wav\n",
      "Song Thiely by Etoile de Dakar already exists. Skipping download.\n",
      "Detected language: Yoruba\n"
     ]
    },
    {
     "name": "stderr",
     "output_type": "stream",
     "text": [
      " 10%|█         | 2942/28651 [01:31<13:17, 32.25frames/s] \n"
     ]
    },
    {
     "name": "stdout",
     "output_type": "stream",
     "text": [
      "Processed and deleted: downloaded_songs/136.wav\n",
      "Song Wouyouma by Positive Black Soul already exists. Skipping download.\n",
      "Detected language: Yoruba\n"
     ]
    },
    {
     "name": "stderr",
     "output_type": "stream",
     "text": [
      " 43%|████▎     | 9192/21192 [01:16<01:39, 120.54frames/s]\n"
     ]
    },
    {
     "name": "stdout",
     "output_type": "stream",
     "text": [
      "Processed and deleted: downloaded_songs/137.wav\n",
      "Song Shukran Bamba by Youssou N'Dour already exists. Skipping download.\n",
      "Detected language: Arabic\n"
     ]
    },
    {
     "name": "stderr",
     "output_type": "stream",
     "text": [
      " 80%|███████▉  | 22764/28500 [00:42<00:10, 533.43frames/s]\n"
     ]
    },
    {
     "name": "stdout",
     "output_type": "stream",
     "text": [
      "Processed and deleted: downloaded_songs/138.wav\n",
      "Song Fakastalu by Youssou N'Dour already exists. Skipping download.\n",
      "Detected language: English\n"
     ]
    },
    {
     "name": "stderr",
     "output_type": "stream",
     "text": [
      "100%|██████████| 20164/20164 [00:08<00:00, 2417.95frames/s]\n"
     ]
    },
    {
     "name": "stdout",
     "output_type": "stream",
     "text": [
      "Processed and deleted: downloaded_songs/139.wav\n",
      "Song Nobel (In the Air Tonight) by Touré Kunda already exists. Skipping download.\n",
      "Detected language: Arabic\n"
     ]
    },
    {
     "name": "stderr",
     "output_type": "stream",
     "text": [
      " 82%|████████▏ | 23020/27906 [00:08<00:01, 2669.25frames/s]\n"
     ]
    },
    {
     "name": "stdout",
     "output_type": "stream",
     "text": [
      "Processed and deleted: downloaded_songs/140.wav\n",
      "Song Sofia by Ismaël Lô already exists. Skipping download.\n",
      "Detected language: English\n"
     ]
    },
    {
     "name": "stderr",
     "output_type": "stream",
     "text": [
      " 37%|███▋      | 13900/37900 [00:13<00:23, 1023.96frames/s]\n"
     ]
    },
    {
     "name": "stdout",
     "output_type": "stream",
     "text": [
      "Processed and deleted: downloaded_songs/141.wav\n",
      "Song Esta China by Etoile de Dakar already exists. Skipping download.\n",
      "Detected language: Spanish\n"
     ]
    },
    {
     "name": "stderr",
     "output_type": "stream",
     "text": [
      " 89%|████████▉ | 24455/27455 [00:14<00:01, 1636.94frames/s]\n"
     ]
    },
    {
     "name": "stdout",
     "output_type": "stream",
     "text": [
      "Processed and deleted: downloaded_songs/142.wav\n",
      "Song Beykat by Youssou N'Dour already exists. Skipping download.\n",
      "Detected language: Basque\n"
     ]
    },
    {
     "name": "stderr",
     "output_type": "stream",
     "text": [
      "100%|██████████| 23980/23980 [00:06<00:00, 3993.59frames/s]\n"
     ]
    },
    {
     "name": "stdout",
     "output_type": "stream",
     "text": [
      "Processed and deleted: downloaded_songs/143.wav\n",
      "Song Krakowski Spleen by Maanam already exists. Skipping download.\n",
      "Detected language: Polish\n"
     ]
    },
    {
     "name": "stderr",
     "output_type": "stream",
     "text": [
      "100%|██████████| 24570/24570 [00:05<00:00, 4369.49frames/s]\n"
     ]
    },
    {
     "name": "stdout",
     "output_type": "stream",
     "text": [
      "Processed and deleted: downloaded_songs/144.wav\n",
      "Song Mr. Jones by Talking Heads already exists. Skipping download.\n",
      "Detected language: English\n"
     ]
    },
    {
     "name": "stderr",
     "output_type": "stream",
     "text": [
      "100%|██████████| 23004/23004 [00:03<00:00, 6622.86frames/s]\n"
     ]
    },
    {
     "name": "stdout",
     "output_type": "stream",
     "text": [
      "Processed and deleted: downloaded_songs/145.wav\n",
      "Song Cykady Na Cykladach by Maanam already exists. Skipping download.\n",
      "Detected language: Polish\n"
     ]
    },
    {
     "name": "stderr",
     "output_type": "stream",
     "text": [
      "100%|██████████| 14657/14657 [00:02<00:00, 5367.55frames/s]\n"
     ]
    },
    {
     "name": "stdout",
     "output_type": "stream",
     "text": [
      "Processed and deleted: downloaded_songs/146.wav\n",
      "Song Rewrite by Paul Simon already exists. Skipping download.\n",
      "Detected language: English\n"
     ]
    },
    {
     "name": "stderr",
     "output_type": "stream",
     "text": [
      "100%|██████████| 19972/19972 [00:03<00:00, 5248.12frames/s]\n"
     ]
    },
    {
     "name": "stdout",
     "output_type": "stream",
     "text": [
      "Processed and deleted: downloaded_songs/147.wav\n",
      "Song Kocham Cię, kochanie moje by Maanam already exists. Skipping download.\n",
      "Detected language: Polish\n"
     ]
    },
    {
     "name": "stderr",
     "output_type": "stream",
     "text": [
      "100%|██████████| 26290/26290 [00:06<00:00, 3834.78frames/s]\n"
     ]
    },
    {
     "name": "stdout",
     "output_type": "stream",
     "text": [
      "Processed and deleted: downloaded_songs/148.wav\n",
      "Song Boskie Buenos by Maanam already exists. Skipping download.\n",
      "Detected language: Polish\n"
     ]
    },
    {
     "name": "stderr",
     "output_type": "stream",
     "text": [
      " 95%|█████████▌| 16820/17692 [00:11<00:00, 1513.35frames/s]\n"
     ]
    },
    {
     "name": "stdout",
     "output_type": "stream",
     "text": [
      "Processed and deleted: downloaded_songs/149.wav\n",
      "Song The Facts of Life by Talking Heads already exists. Skipping download.\n",
      "Detected language: Welsh\n"
     ]
    },
    {
     "name": "stderr",
     "output_type": "stream",
     "text": [
      " 80%|███████▉  | 28470/35710 [00:20<00:05, 1364.98frames/s]\n"
     ]
    },
    {
     "name": "stdout",
     "output_type": "stream",
     "text": [
      "Processed and deleted: downloaded_songs/150.wav\n",
      "Song Elyne Road by Toumani Diabaté already exists. Skipping download.\n",
      "Detected language: English\n"
     ]
    },
    {
     "name": "stderr",
     "output_type": "stream",
     "text": [
      "  0%|          | 0/50256 [00:01<?, ?frames/s]\n"
     ]
    },
    {
     "name": "stdout",
     "output_type": "stream",
     "text": [
      "Processed and deleted: downloaded_songs/151.wav\n",
      "Song Oddech Szczura by Maanam already exists. Skipping download.\n",
      "Detected language: Polish\n"
     ]
    },
    {
     "name": "stderr",
     "output_type": "stream",
     "text": [
      "  0%|          | 0/17123 [00:31<?, ?frames/s]\n"
     ]
    },
    {
     "name": "stdout",
     "output_type": "stream",
     "text": [
      "Processed and deleted: downloaded_songs/152.wav\n",
      "Song Szał niebieskich ciał by Maanam already exists. Skipping download.\n",
      "Detected language: Polish\n"
     ]
    },
    {
     "name": "stderr",
     "output_type": "stream",
     "text": [
      " 93%|█████████▎| 40749/43749 [00:08<00:00, 4562.28frames/s]\n"
     ]
    },
    {
     "name": "stdout",
     "output_type": "stream",
     "text": [
      "Processed and deleted: downloaded_songs/153.wav\n",
      "Song Kadi Kadi by Ali Farka Touré & Toumani Diabaté already exists. Skipping download.\n",
      "Detected language: Shona\n"
     ]
    },
    {
     "name": "stderr",
     "output_type": "stream",
     "text": [
      "  0%|          | 0/17360 [00:56<?, ?frames/s]\n"
     ]
    },
    {
     "name": "stdout",
     "output_type": "stream",
     "text": [
      "Processed and deleted: downloaded_songs/154.wav\n",
      "Song Debe by Ali Farka Touré & Toumani Diabaté already exists. Skipping download.\n",
      "Detected language: English\n"
     ]
    },
    {
     "name": "stderr",
     "output_type": "stream",
     "text": [
      "100%|██████████| 33608/33608 [00:05<00:00, 5885.78frames/s]\n"
     ]
    },
    {
     "name": "stdout",
     "output_type": "stream",
     "text": [
      "Processed and deleted: downloaded_songs/155.wav\n",
      "Song Politician by KORA already exists. Skipping download.\n",
      "Detected language: English\n"
     ]
    },
    {
     "name": "stderr",
     "output_type": "stream",
     "text": [
      "100%|██████████| 25453/25453 [00:04<00:00, 5521.71frames/s]\n"
     ]
    },
    {
     "name": "stdout",
     "output_type": "stream",
     "text": [
      "Processed and deleted: downloaded_songs/156.wav\n",
      "Song Cantelowes by Toumani Diabaté already exists. Skipping download.\n",
      "Detected language: Breton\n"
     ]
    },
    {
     "name": "stderr",
     "output_type": "stream",
     "text": [
      " 23%|██▎       | 9008/39008 [01:49<06:05, 82.08frames/s] \n"
     ]
    },
    {
     "name": "stdout",
     "output_type": "stream",
     "text": [
      "Processed and deleted: downloaded_songs/157.wav\n",
      "Song Ai Ga Bani by Ali Farka Touré & Toumani Diabaté already exists. Skipping download.\n",
      "Detected language: Shona\n"
     ]
    },
    {
     "name": "stderr",
     "output_type": "stream",
     "text": [
      " 12%|█▏        | 3000/24668 [01:29<10:48, 33.42frames/s] \n"
     ]
    },
    {
     "name": "stdout",
     "output_type": "stream",
     "text": [
      "Processed and deleted: downloaded_songs/158.wav\n",
      "Song Wyjątkowo zimny maj by Maanam already exists. Skipping download.\n",
      "Detected language: Polish\n"
     ]
    },
    {
     "name": "stderr",
     "output_type": "stream",
     "text": [
      "100%|██████████| 20949/20949 [00:03<00:00, 6352.84frames/s]\n"
     ]
    },
    {
     "name": "stdout",
     "output_type": "stream",
     "text": [
      "Processed and deleted: downloaded_songs/159.wav\n",
      "Song Tapha Niang by Toumani Diabaté's Symmetric Orchestra already exists. Skipping download.\n",
      "Detected language: Javanese\n"
     ]
    },
    {
     "name": "stderr",
     "output_type": "stream",
     "text": [
      " 77%|███████▋  | 29556/38556 [00:42<00:13, 691.46frames/s] \n"
     ]
    },
    {
     "name": "stdout",
     "output_type": "stream",
     "text": [
      "Processed and deleted: downloaded_songs/160.wav\n",
      "Song kaira by Ali Farka Touré & Toumani Diabaté already exists. Skipping download.\n",
      "Detected language: Breton\n"
     ]
    },
    {
     "name": "stderr",
     "output_type": "stream",
     "text": [
      "  8%|▊         | 2712/35712 [01:48<22:04, 24.92frames/s]\n"
     ]
    },
    {
     "name": "stdout",
     "output_type": "stream",
     "text": [
      "Processed and deleted: downloaded_songs/161.wav\n",
      "Song Mamadou Boutiquier by Ali Farka Touré & Toumani Diabaté already exists. Skipping download.\n",
      "Detected language: Shona\n"
     ]
    },
    {
     "name": "stderr",
     "output_type": "stream",
     "text": [
      " 22%|██▏       | 6000/27720 [01:27<05:18, 68.20frames/s] \n"
     ]
    },
    {
     "name": "stdout",
     "output_type": "stream",
     "text": [
      "Processed and deleted: downloaded_songs/162.wav\n",
      "Song Si Naani by Toumani Diabaté already exists. Skipping download.\n",
      "Detected language: English\n"
     ]
    },
    {
     "name": "stderr",
     "output_type": "stream",
     "text": [
      "  0%|          | 0/60337 [00:01<?, ?frames/s]\n"
     ]
    },
    {
     "name": "stdout",
     "output_type": "stream",
     "text": [
      "Processed and deleted: downloaded_songs/163.wav\n",
      "Song Kuj Yato by Clap! Clap! already exists. Skipping download.\n",
      "Detected language: Khmer\n"
     ]
    },
    {
     "name": "stderr",
     "output_type": "stream",
     "text": [
      " 16%|█▋        | 3000/18443 [01:07<05:49, 44.20frames/s] \n"
     ]
    },
    {
     "name": "stdout",
     "output_type": "stream",
     "text": [
      "Processed and deleted: downloaded_songs/164.wav\n",
      "Song Bridge the Gap by Tribeqa already exists. Skipping download.\n",
      "Detected language: English\n"
     ]
    },
    {
     "name": "stderr",
     "output_type": "stream",
     "text": [
      " 88%|████████▊ | 12712/14507 [00:12<00:01, 1032.36frames/s]\n"
     ]
    },
    {
     "name": "stdout",
     "output_type": "stream",
     "text": [
      "Processed and deleted: downloaded_songs/165.wav\n",
      "Song DJelika by Toumani Diabaté already exists. Skipping download.\n",
      "Detected language: English\n"
     ]
    },
    {
     "name": "stderr",
     "output_type": "stream",
     "text": [
      "  0%|          | 0/40293 [00:05<?, ?frames/s]\n"
     ]
    },
    {
     "name": "stdout",
     "output_type": "stream",
     "text": [
      "Processed and deleted: downloaded_songs/166.wav\n",
      "Song Didadi Kana by Nahawa Doumbia already exists. Skipping download.\n",
      "Detected language: Yoruba\n"
     ]
    },
    {
     "name": "stderr",
     "output_type": "stream",
     "text": [
      " 43%|████▎     | 11400/26656 [01:14<01:40, 152.22frames/s]\n"
     ]
    },
    {
     "name": "stdout",
     "output_type": "stream",
     "text": [
      "Processed and deleted: downloaded_songs/167.wav\n",
      "Song Sounafi by Mah Damba already exists. Skipping download.\n",
      "Detected language: Yoruba\n"
     ]
    },
    {
     "name": "stderr",
     "output_type": "stream",
     "text": [
      " 27%|██▋       | 11582/43116 [02:09<05:53, 89.12frames/s] \n"
     ]
    },
    {
     "name": "stdout",
     "output_type": "stream",
     "text": [
      "Processed and deleted: downloaded_songs/168.wav\n",
      "Song Mortalite by Kandia Kouyate already exists. Skipping download.\n",
      "Detected language: Sanskrit\n"
     ]
    },
    {
     "name": "stderr",
     "output_type": "stream",
     "text": [
      "  8%|▊         | 2532/33644 [01:37<20:00, 25.92frames/s]\n"
     ]
    },
    {
     "name": "stdout",
     "output_type": "stream",
     "text": [
      "Processed and deleted: downloaded_songs/169.wav\n",
      "Song Cheick Oumar Bah by Toumani Diabaté already exists. Skipping download.\n",
      "Detected language: Shona\n"
     ]
    },
    {
     "name": "stderr",
     "output_type": "stream",
     "text": [
      "  0%|          | 0/32317 [01:42<?, ?frames/s]\n"
     ]
    },
    {
     "name": "stdout",
     "output_type": "stream",
     "text": [
      "Processed and deleted: downloaded_songs/170.wav\n",
      "Song Mankoman Djan by Toumani Diabaté already exists. Skipping download.\n",
      "Detected language: Shona\n"
     ]
    },
    {
     "name": "stderr",
     "output_type": "stream",
     "text": [
      " 16%|█▋        | 4792/29156 [01:36<08:09, 49.80frames/s]\n"
     ]
    },
    {
     "name": "stdout",
     "output_type": "stream",
     "text": [
      "Processed and deleted: downloaded_songs/171.wav\n",
      "Song Aminata Santoro by Toumani Diabaté already exists. Skipping download.\n",
      "Detected language: Breton\n"
     ]
    },
    {
     "name": "stderr",
     "output_type": "stream",
     "text": [
      " 24%|██▎       | 8858/37309 [02:08<06:54, 68.67frames/s]\n"
     ]
    },
    {
     "name": "stdout",
     "output_type": "stream",
     "text": [
      "Processed and deleted: downloaded_songs/172.wav\n",
      "Song Djiribah by Mamadou Diabate already exists. Skipping download.\n",
      "Detected language: Shona\n"
     ]
    },
    {
     "name": "stderr",
     "output_type": "stream",
     "text": [
      "  0%|          | 0/29668 [01:34<?, ?frames/s]\n"
     ]
    },
    {
     "name": "stdout",
     "output_type": "stream",
     "text": [
      "Processed and deleted: downloaded_songs/173.wav\n",
      "Song bendrong ii by Java already exists. Skipping download.\n",
      "Detected language: Javanese\n"
     ]
    },
    {
     "name": "stderr",
     "output_type": "stream",
     "text": [
      "  0%|          | 0/6802 [00:21<?, ?frames/s]\n"
     ]
    },
    {
     "name": "stdout",
     "output_type": "stream",
     "text": [
      "Processed and deleted: downloaded_songs/174.wav\n",
      "Song Marielle by Toumani Diabaté already exists. Skipping download.\n",
      "Detected language: English\n"
     ]
    },
    {
     "name": "stderr",
     "output_type": "stream",
     "text": [
      "  0%|          | 189/39189 [00:07<26:17, 24.73frames/s]\n"
     ]
    },
    {
     "name": "stdout",
     "output_type": "stream",
     "text": [
      "Processed and deleted: downloaded_songs/175.wav\n",
      "Song Kandjoura by Toumani Diabaté already exists. Skipping download.\n",
      "Detected language: Shona\n"
     ]
    },
    {
     "name": "stderr",
     "output_type": "stream",
     "text": [
      "  7%|▋         | 3000/45697 [02:34<36:45, 19.36frames/s] \n"
     ]
    },
    {
     "name": "stdout",
     "output_type": "stream",
     "text": [
      "Processed and deleted: downloaded_songs/176.wav\n",
      "Song Mama Sara by Farafina already exists. Skipping download.\n",
      "Detected language: Yoruba\n"
     ]
    },
    {
     "name": "stderr",
     "output_type": "stream",
     "text": [
      " 41%|████▏     | 16700/40340 [01:49<02:34, 152.90frames/s]\n"
     ]
    },
    {
     "name": "stdout",
     "output_type": "stream",
     "text": [
      "Processed and deleted: downloaded_songs/177.wav\n",
      "Song Tony Vander by Toumani Diabaté already exists. Skipping download.\n",
      "Detected language: English\n"
     ]
    },
    {
     "name": "stderr",
     "output_type": "stream",
     "text": [
      "  0%|          | 0/30109 [00:00<?, ?frames/s]\n"
     ]
    },
    {
     "name": "stdout",
     "output_type": "stream",
     "text": [
      "Processed and deleted: downloaded_songs/178.wav\n",
      "Song Sankoun Djabi by Toumani Diabaté already exists. Skipping download.\n",
      "Detected language: Shona\n"
     ]
    },
    {
     "name": "stderr",
     "output_type": "stream",
     "text": [
      " 18%|█▊        | 5993/32993 [01:51<08:20, 53.98frames/s]\n"
     ]
    },
    {
     "name": "stdout",
     "output_type": "stream",
     "text": [
      "Processed and deleted: downloaded_songs/179.wav\n",
      "Song Saratikan by Ballaké Sissoko already exists. Skipping download.\n",
      "Detected language: Shona\n"
     ]
    },
    {
     "name": "stderr",
     "output_type": "stream",
     "text": [
      " 12%|█▏        | 3000/25350 [01:28<10:58, 33.92frames/s]\n"
     ]
    },
    {
     "name": "stdout",
     "output_type": "stream",
     "text": [
      "Processed and deleted: downloaded_songs/180.wav\n",
      "Song Nanore by Farafina already exists. Skipping download.\n",
      "Detected language: Yoruba\n"
     ]
    },
    {
     "name": "stderr",
     "output_type": "stream",
     "text": [
      "  0%|          | 0/16033 [00:52<?, ?frames/s]\n"
     ]
    },
    {
     "name": "stdout",
     "output_type": "stream",
     "text": [
      "Processed and deleted: downloaded_songs/181.wav\n",
      "Song Kara Mogo Mousso by Farafina already exists. Skipping download.\n",
      "Detected language: Spanish\n"
     ]
    },
    {
     "name": "stderr",
     "output_type": "stream",
     "text": [
      " 15%|█▍        | 3169/21169 [00:18<01:42, 176.00frames/s]\n"
     ]
    },
    {
     "name": "stdout",
     "output_type": "stream",
     "text": [
      "Processed and deleted: downloaded_songs/182.wav\n",
      "Song Koko by Barry Sangare already exists. Skipping download.\n",
      "Detected language: Yoruba\n"
     ]
    },
    {
     "name": "stderr",
     "output_type": "stream",
     "text": [
      " 27%|██▋       | 10954/40261 [02:05<05:36, 87.13frames/s] \n"
     ]
    },
    {
     "name": "stdout",
     "output_type": "stream",
     "text": [
      "Processed and deleted: downloaded_songs/183.wav\n",
      "Song Whenever, Wherever by Shakira already exists. Skipping download.\n",
      "Detected language: English\n"
     ]
    },
    {
     "name": "stderr",
     "output_type": "stream",
     "text": [
      "100%|██████████| 16620/16620 [00:11<00:00, 1420.97frames/s]\n"
     ]
    },
    {
     "name": "stdout",
     "output_type": "stream",
     "text": [
      "Processed and deleted: downloaded_songs/184.wav\n",
      "Song Suerte (Whenever, Wherever) by Shakira already exists. Skipping download.\n",
      "Detected language: Spanish\n"
     ]
    },
    {
     "name": "stderr",
     "output_type": "stream",
     "text": [
      "100%|██████████| 16370/16370 [00:07<00:00, 2297.53frames/s]\n"
     ]
    },
    {
     "name": "stdout",
     "output_type": "stream",
     "text": [
      "Processed and deleted: downloaded_songs/185.wav\n",
      "Song Pa’ Dónde Se Fue by Mon Laferte already exists. Skipping download.\n",
      "Detected language: Spanish\n"
     ]
    },
    {
     "name": "stderr",
     "output_type": "stream",
     "text": [
      "100%|██████████| 21751/21751 [00:04<00:00, 5223.09frames/s]\n"
     ]
    },
    {
     "name": "stdout",
     "output_type": "stream",
     "text": [
      "Processed and deleted: downloaded_songs/186.wav\n",
      "Song Hay Amores by Shakira already exists. Skipping download.\n",
      "Detected language: Spanish\n"
     ]
    },
    {
     "name": "stderr",
     "output_type": "stream",
     "text": [
      "100%|██████████| 17729/17729 [00:02<00:00, 6268.39frames/s]\n"
     ]
    },
    {
     "name": "stdout",
     "output_type": "stream",
     "text": [
      "Processed and deleted: downloaded_songs/187.wav\n",
      "Song Canción Con Todos by Mercedes Sosa already exists. Skipping download.\n",
      "Detected language: Spanish\n"
     ]
    },
    {
     "name": "stderr",
     "output_type": "stream",
     "text": [
      " 90%|█████████ | 11100/12298 [00:08<00:00, 1291.73frames/s]\n"
     ]
    },
    {
     "name": "stdout",
     "output_type": "stream",
     "text": [
      "Processed and deleted: downloaded_songs/188.wav\n",
      "Song Raíz by Gustavo Cerati already exists. Skipping download.\n",
      "Detected language: Spanish\n"
     ]
    },
    {
     "name": "stderr",
     "output_type": "stream",
     "text": [
      "100%|██████████| 21566/21566 [00:01<00:00, 13166.02frames/s]\n"
     ]
    },
    {
     "name": "stdout",
     "output_type": "stream",
     "text": [
      "Processed and deleted: downloaded_songs/189.wav\n",
      "Song Doedens Evige Kall by Vàli already exists. Skipping download.\n",
      "Detected language: Sinhala\n"
     ]
    },
    {
     "name": "stderr",
     "output_type": "stream",
     "text": [
      "  0%|          | 0/24606 [01:25<?, ?frames/s]\n"
     ]
    },
    {
     "name": "stdout",
     "output_type": "stream",
     "text": [
      "Processed and deleted: downloaded_songs/190.wav\n",
      "Song Vuelvo Para Vivir by Illapu already exists. Skipping download.\n",
      "Detected language: Spanish\n"
     ]
    },
    {
     "name": "stderr",
     "output_type": "stream",
     "text": [
      "100%|██████████| 24003/24003 [00:03<00:00, 7581.30frames/s]\n"
     ]
    },
    {
     "name": "stdout",
     "output_type": "stream",
     "text": [
      "Processed and deleted: downloaded_songs/191.wav\n",
      "Song Despedida by Shakira already exists. Skipping download.\n",
      "Detected language: English\n"
     ]
    },
    {
     "name": "stderr",
     "output_type": "stream",
     "text": [
      " 36%|███▌      | 5070/14070 [00:03<00:06, 1359.14frames/s]\n"
     ]
    },
    {
     "name": "stdout",
     "output_type": "stream",
     "text": [
      "Processed and deleted: downloaded_songs/192.wav\n",
      "Song Caballo De Madera by Putumayo already exists. Skipping download.\n",
      "Detected language: English\n"
     ]
    },
    {
     "name": "stderr",
     "output_type": "stream",
     "text": [
      "  0%|          | 0/15587 [00:07<?, ?frames/s]\n"
     ]
    },
    {
     "name": "stdout",
     "output_type": "stream",
     "text": [
      "Processed and deleted: downloaded_songs/193.wav\n",
      "Song El Condor Pasa by Los Incas already exists. Skipping download.\n",
      "Detected language: English\n"
     ]
    },
    {
     "name": "stderr",
     "output_type": "stream",
     "text": [
      "  0%|          | 0/14158 [00:04<?, ?frames/s]\n"
     ]
    },
    {
     "name": "stdout",
     "output_type": "stream",
     "text": [
      "Processed and deleted: downloaded_songs/194.wav\n",
      "Song La Quimba by Putumayo already exists. Skipping download.\n",
      "Detected language: Shona\n"
     ]
    },
    {
     "name": "stderr",
     "output_type": "stream",
     "text": [
      "  0%|          | 0/20504 [01:08<?, ?frames/s]\n"
     ]
    },
    {
     "name": "stdout",
     "output_type": "stream",
     "text": [
      "Processed and deleted: downloaded_songs/195.wav\n",
      "Song Canción Para Carito by Mercedes Sosa already exists. Skipping download.\n",
      "Detected language: Spanish\n"
     ]
    },
    {
     "name": "stderr",
     "output_type": "stream",
     "text": [
      "100%|██████████| 16985/16985 [00:05<00:00, 3198.44frames/s]\n"
     ]
    },
    {
     "name": "stdout",
     "output_type": "stream",
     "text": [
      "Processed and deleted: downloaded_songs/196.wav\n",
      "Song Lejos Del Amor by Illapu already exists. Skipping download.\n",
      "Detected language: Spanish\n"
     ]
    },
    {
     "name": "stderr",
     "output_type": "stream",
     "text": [
      " 89%|████████▉ | 19100/21362 [00:04<00:00, 4773.12frames/s]\n"
     ]
    },
    {
     "name": "stdout",
     "output_type": "stream",
     "text": [
      "Processed and deleted: downloaded_songs/197.wav\n",
      "Song Juanito Laguna Remonta un Barrilete by Inti-Illimani already exists. Skipping download.\n",
      "Detected language: Spanish\n"
     ]
    },
    {
     "name": "stderr",
     "output_type": "stream",
     "text": [
      "100%|██████████| 27032/27032 [00:02<00:00, 10073.00frames/s]\n"
     ]
    },
    {
     "name": "stdout",
     "output_type": "stream",
     "text": [
      "Processed and deleted: downloaded_songs/198.wav\n",
      "Song El pimiento by Victor Jara already exists. Skipping download.\n",
      "Detected language: Spanish\n"
     ]
    },
    {
     "name": "stderr",
     "output_type": "stream",
     "text": [
      "100%|██████████| 20692/20692 [00:02<00:00, 9753.55frames/s] \n"
     ]
    },
    {
     "name": "stdout",
     "output_type": "stream",
     "text": [
      "Processed and deleted: downloaded_songs/199.wav\n",
      "Song 諦念プシガンガ by 戸川純 already exists. Skipping download.\n",
      "Detected language: Japanese\n"
     ]
    },
    {
     "name": "stderr",
     "output_type": "stream",
     "text": [
      "100%|██████████| 23913/23913 [00:18<00:00, 1298.49frames/s]\n"
     ]
    },
    {
     "name": "stdout",
     "output_type": "stream",
     "text": [
      "Processed and deleted: downloaded_songs/200.wav\n",
      "Song Tren Del Cielo by Soledad already exists. Skipping download.\n",
      "Detected language: Spanish\n"
     ]
    },
    {
     "name": "stderr",
     "output_type": "stream",
     "text": [
      "100%|██████████| 18360/18360 [00:04<00:00, 4100.87frames/s]\n"
     ]
    },
    {
     "name": "stdout",
     "output_type": "stream",
     "text": [
      "Processed and deleted: downloaded_songs/201.wav\n",
      "Song Baila Caporal by Illapu already exists. Skipping download.\n",
      "Detected language: Spanish\n"
     ]
    },
    {
     "name": "stderr",
     "output_type": "stream",
     "text": [
      " 31%|███       | 8096/26096 [00:15<00:34, 517.97frames/s]\n"
     ]
    },
    {
     "name": "stdout",
     "output_type": "stream",
     "text": [
      "Processed and deleted: downloaded_songs/202.wav\n",
      "Song Wipala by Inkuyo already exists. Skipping download.\n",
      "Detected language: English\n"
     ]
    },
    {
     "name": "stderr",
     "output_type": "stream",
     "text": [
      "  3%|▎         | 887/27887 [00:03<01:40, 268.66frames/s]\n"
     ]
    },
    {
     "name": "stdout",
     "output_type": "stream",
     "text": [
      "Processed and deleted: downloaded_songs/203.wav\n",
      "Song Nene De Antes by Divididos already exists. Skipping download.\n",
      "Detected language: Basque\n"
     ]
    },
    {
     "name": "stderr",
     "output_type": "stream",
     "text": [
      " 88%|████████▊ | 22854/25854 [00:14<00:01, 1577.31frames/s]\n"
     ]
    },
    {
     "name": "stdout",
     "output_type": "stream",
     "text": [
      "Processed and deleted: downloaded_songs/204.wav\n",
      "Song São Paulo by Morcheeba already exists. Skipping download.\n",
      "Detected language: English\n"
     ]
    },
    {
     "name": "stderr",
     "output_type": "stream",
     "text": [
      "100%|██████████| 23900/23900 [00:03<00:00, 7578.79frames/s]\n"
     ]
    },
    {
     "name": "stdout",
     "output_type": "stream",
     "text": [
      "Processed and deleted: downloaded_songs/205.wav\n",
      "Song Plata Ta Tá by Mon Laferte already exists. Skipping download.\n",
      "Detected language: Spanish\n"
     ]
    },
    {
     "name": "stderr",
     "output_type": "stream",
     "text": [
      "100%|██████████| 19615/19615 [00:08<00:00, 2226.44frames/s]\n"
     ]
    },
    {
     "name": "stdout",
     "output_type": "stream",
     "text": [
      "Processed and deleted: downloaded_songs/206.wav\n",
      "Song El Condor Pasa by Los Incas already exists. Skipping download.\n",
      "Detected language: English\n"
     ]
    },
    {
     "name": "stderr",
     "output_type": "stream",
     "text": [
      "  0%|          | 0/14158 [00:02<?, ?frames/s]\n"
     ]
    },
    {
     "name": "stdout",
     "output_type": "stream",
     "text": [
      "Processed and deleted: downloaded_songs/207.wav\n",
      "Song La Otra España by Mocedades already exists. Skipping download.\n",
      "Detected language: Galician\n"
     ]
    },
    {
     "name": "stderr",
     "output_type": "stream",
     "text": [
      "100%|██████████| 16825/16825 [00:03<00:00, 5048.93frames/s]\n"
     ]
    },
    {
     "name": "stdout",
     "output_type": "stream",
     "text": [
      "Processed and deleted: downloaded_songs/208.wav\n",
      "Song The Journey Begins by James Horner already exists. Skipping download.\n",
      "Detected language: Latin\n"
     ]
    },
    {
     "name": "stderr",
     "output_type": "stream",
     "text": [
      " 14%|█▍        | 4006/28006 [01:10<07:03, 56.64frames/s] \n"
     ]
    },
    {
     "name": "stdout",
     "output_type": "stream",
     "text": [
      "Processed and deleted: downloaded_songs/209.wav\n",
      "Song Chayantenita by Bolivia Manta already exists. Skipping download.\n",
      "Detected language: Spanish\n"
     ]
    },
    {
     "name": "stderr",
     "output_type": "stream",
     "text": [
      "100%|██████████| 13599/13599 [00:07<00:00, 1916.44frames/s]\n"
     ]
    },
    {
     "name": "stdout",
     "output_type": "stream",
     "text": [
      "Processed and deleted: downloaded_songs/210.wav\n",
      "Song Flor del Canelo by Gepe already exists. Skipping download.\n",
      "Detected language: Spanish\n"
     ]
    },
    {
     "name": "stderr",
     "output_type": "stream",
     "text": [
      " 87%|████████▋ | 18900/21652 [00:04<00:00, 4586.93frames/s]\n"
     ]
    },
    {
     "name": "stdout",
     "output_type": "stream",
     "text": [
      "Processed and deleted: downloaded_songs/211.wav\n",
      "Song América by Tiro De Gracia already exists. Skipping download.\n",
      "Detected language: Spanish\n"
     ]
    },
    {
     "name": "stderr",
     "output_type": "stream",
     "text": [
      "100%|██████████| 27087/27087 [00:16<00:00, 1634.58frames/s]\n"
     ]
    },
    {
     "name": "stdout",
     "output_type": "stream",
     "text": [
      "Processed and deleted: downloaded_songs/212.wav\n",
      "Song Cacharpaya by Gepe already exists. Skipping download.\n",
      "Detected language: Spanish\n"
     ]
    },
    {
     "name": "stderr",
     "output_type": "stream",
     "text": [
      "100%|██████████| 13326/13326 [00:01<00:00, 10357.53frames/s]\n"
     ]
    },
    {
     "name": "stdout",
     "output_type": "stream",
     "text": [
      "Processed and deleted: downloaded_songs/213.wav\n",
      "Song Condor Pasa by Arpay already exists. Skipping download.\n",
      "Detected language: English\n"
     ]
    },
    {
     "name": "stderr",
     "output_type": "stream",
     "text": [
      " 63%|██████▎   | 20289/32289 [00:05<00:03, 3491.26frames/s]\n"
     ]
    },
    {
     "name": "stdout",
     "output_type": "stream",
     "text": [
      "Processed and deleted: downloaded_songs/214.wav\n",
      "Song No me olvides by Los Kusis de Bolivia already exists. Skipping download.\n",
      "Detected language: Spanish\n"
     ]
    },
    {
     "name": "stderr",
     "output_type": "stream",
     "text": [
      " 44%|████▎     | 9252/21252 [00:23<00:30, 392.46frames/s]\n"
     ]
    },
    {
     "name": "stdout",
     "output_type": "stream",
     "text": [
      "Processed and deleted: downloaded_songs/215.wav\n",
      "Song Doctorsito by Grupo Aymara already exists. Skipping download.\n",
      "Detected language: English\n"
     ]
    },
    {
     "name": "stderr",
     "output_type": "stream",
     "text": [
      " 30%|██▉       | 5110/17110 [00:06<00:15, 750.23frames/s]\n"
     ]
    },
    {
     "name": "stdout",
     "output_type": "stream",
     "text": [
      "Processed and deleted: downloaded_songs/216.wav\n",
      "Song Huayno De La Roca by Los Incas already exists. Skipping download.\n",
      "Detected language: English\n"
     ]
    },
    {
     "name": "stderr",
     "output_type": "stream",
     "text": [
      "  6%|▌         | 599/9599 [00:05<01:29, 100.85frames/s]\n"
     ]
    },
    {
     "name": "stdout",
     "output_type": "stream",
     "text": [
      "Processed and deleted: downloaded_songs/217.wav\n",
      "Song Bone In My Ear by Bruce Cockburn already exists. Skipping download.\n",
      "Detected language: English\n"
     ]
    },
    {
     "name": "stderr",
     "output_type": "stream",
     "text": [
      "100%|█████████▉| 19800/19872 [00:02<00:00, 8907.45frames/s] \n"
     ]
    },
    {
     "name": "stdout",
     "output_type": "stream",
     "text": [
      "Processed and deleted: downloaded_songs/218.wav\n",
      "Song Orgullo de mi tierra by Los Masis already exists. Skipping download.\n",
      "Detected language: Spanish\n"
     ]
    },
    {
     "name": "stderr",
     "output_type": "stream",
     "text": [
      "100%|██████████| 15860/15860 [00:19<00:00, 818.96frames/s] \n"
     ]
    },
    {
     "name": "stdout",
     "output_type": "stream",
     "text": [
      "Processed and deleted: downloaded_songs/219.wav\n",
      "Song Quisiera olvidarte by Pastorita Huaracina already exists. Skipping download.\n",
      "Detected language: Spanish\n"
     ]
    },
    {
     "name": "stderr",
     "output_type": "stream",
     "text": [
      "100%|██████████| 12042/12042 [00:03<00:00, 3456.13frames/s]\n"
     ]
    },
    {
     "name": "stdout",
     "output_type": "stream",
     "text": [
      "Processed and deleted: downloaded_songs/220.wav\n",
      "Song Achachau by Los Incas already exists. Skipping download.\n",
      "Detected language: English\n"
     ]
    },
    {
     "name": "stderr",
     "output_type": "stream",
     "text": [
      "  9%|▉         | 1440/16440 [00:01<00:14, 1070.72frames/s]\n"
     ]
    },
    {
     "name": "stdout",
     "output_type": "stream",
     "text": [
      "Processed and deleted: downloaded_songs/221.wav\n",
      "Song Tatalitu by Los Kjarkas already exists. Skipping download.\n",
      "Detected language: Shona\n"
     ]
    },
    {
     "name": "stderr",
     "output_type": "stream",
     "text": [
      "  0%|          | 0/17617 [00:58<?, ?frames/s]\n"
     ]
    },
    {
     "name": "stdout",
     "output_type": "stream",
     "text": [
      "Processed and deleted: downloaded_songs/222.wav\n",
      "Song La Mentirilla by Duo Chehebar - Navarro already exists. Skipping download.\n",
      "Detected language: Shona\n"
     ]
    },
    {
     "name": "stderr",
     "output_type": "stream",
     "text": [
      "  0%|          | 0/8216 [00:29<?, ?frames/s]\n"
     ]
    },
    {
     "name": "stdout",
     "output_type": "stream",
     "text": [
      "Processed and deleted: downloaded_songs/223.wav\n",
      "Song Dave the Butcher by Tom Waits already exists. Skipping download.\n",
      "Detected language: Telugu\n"
     ]
    },
    {
     "name": "stderr",
     "output_type": "stream",
     "text": [
      "  0%|          | 0/11014 [00:33<?, ?frames/s]\n"
     ]
    },
    {
     "name": "stdout",
     "output_type": "stream",
     "text": [
      "Processed and deleted: downloaded_songs/224.wav\n",
      "Song I'll Be Gone by Tom Waits already exists. Skipping download.\n",
      "Detected language: English\n"
     ]
    },
    {
     "name": "stderr",
     "output_type": "stream",
     "text": [
      " 76%|███████▋  | 12400/16252 [00:04<00:01, 2677.73frames/s]\n"
     ]
    },
    {
     "name": "stdout",
     "output_type": "stream",
     "text": [
      "Processed and deleted: downloaded_songs/225.wav\n",
      "Song Train Song by Tom Waits already exists. Skipping download.\n",
      "Detected language: English\n"
     ]
    },
    {
     "name": "stderr",
     "output_type": "stream",
     "text": [
      "100%|██████████| 24001/24001 [00:03<00:00, 6511.55frames/s]\n"
     ]
    },
    {
     "name": "stdout",
     "output_type": "stream",
     "text": [
      "Processed and deleted: downloaded_songs/226.wav\n",
      "Song Blow Wind Blow by Tom Waits already exists. Skipping download.\n",
      "Detected language: English\n"
     ]
    },
    {
     "name": "stderr",
     "output_type": "stream",
     "text": [
      "100%|██████████| 18549/18549 [00:02<00:00, 7153.08frames/s]\n"
     ]
    },
    {
     "name": "stdout",
     "output_type": "stream",
     "text": [
      "Processed and deleted: downloaded_songs/227.wav\n",
      "Song More Than Rain by Tom Waits already exists. Skipping download.\n",
      "Detected language: English\n"
     ]
    },
    {
     "name": "stderr",
     "output_type": "stream",
     "text": [
      "100%|██████████| 20116/20116 [00:02<00:00, 7562.24frames/s]\n"
     ]
    },
    {
     "name": "stdout",
     "output_type": "stream",
     "text": [
      "Processed and deleted: downloaded_songs/228.wav\n",
      "Song Somewhere Down the Crazy River by Robbie Robertson already exists. Skipping download.\n",
      "Detected language: English\n"
     ]
    },
    {
     "name": "stderr",
     "output_type": "stream",
     "text": [
      "100%|█████████▉| 26100/26126 [00:06<00:00, 3753.55frames/s]\n"
     ]
    },
    {
     "name": "stdout",
     "output_type": "stream",
     "text": [
      "Processed and deleted: downloaded_songs/229.wav\n",
      "Song Wampum Prayer by Tori Amos already exists. Skipping download.\n",
      "Detected language: English\n"
     ]
    },
    {
     "name": "stderr",
     "output_type": "stream",
     "text": [
      "100%|██████████| 1570/1570 [00:00<00:00, 9392.84frames/s]"
     ]
    },
    {
     "name": "stdout",
     "output_type": "stream",
     "text": [
      "Processed and deleted: downloaded_songs/230.wav\n",
      "Song Please Wake Me Up by Tom Waits already exists. Skipping download.\n"
     ]
    },
    {
     "name": "stderr",
     "output_type": "stream",
     "text": [
      "\n"
     ]
    },
    {
     "name": "stdout",
     "output_type": "stream",
     "text": [
      "Detected language: English\n"
     ]
    },
    {
     "name": "stderr",
     "output_type": "stream",
     "text": [
      "100%|██████████| 18382/18382 [00:01<00:00, 9860.26frames/s] \n"
     ]
    },
    {
     "name": "stdout",
     "output_type": "stream",
     "text": [
      "Processed and deleted: downloaded_songs/231.wav\n",
      "Song Frank's Theme by Tom Waits already exists. Skipping download.\n",
      "Detected language: English\n"
     ]
    },
    {
     "name": "stderr",
     "output_type": "stream",
     "text": [
      "100%|██████████| 7768/7768 [00:01<00:00, 7295.48frames/s]\n"
     ]
    },
    {
     "name": "stdout",
     "output_type": "stream",
     "text": [
      "Processed and deleted: downloaded_songs/232.wav\n",
      "Song I'll Take New York by Tom Waits already exists. Skipping download.\n",
      "Detected language: English\n"
     ]
    },
    {
     "name": "stderr",
     "output_type": "stream",
     "text": [
      "100%|██████████| 20697/20697 [00:02<00:00, 8140.92frames/s]\n"
     ]
    },
    {
     "name": "stdout",
     "output_type": "stream",
     "text": [
      "Processed and deleted: downloaded_songs/233.wav\n",
      "Song Virginia by Tori Amos already exists. Skipping download.\n",
      "Detected language: English\n"
     ]
    },
    {
     "name": "stderr",
     "output_type": "stream",
     "text": [
      "100%|██████████| 20662/20662 [00:03<00:00, 6789.63frames/s]\n"
     ]
    },
    {
     "name": "stdout",
     "output_type": "stream",
     "text": [
      "Processed and deleted: downloaded_songs/234.wav\n",
      "Song Scarlet's Walk by Tori Amos already exists. Skipping download.\n",
      "Detected language: English\n"
     ]
    },
    {
     "name": "stderr",
     "output_type": "stream",
     "text": [
      "100%|██████████| 22809/22809 [00:03<00:00, 7101.38frames/s]\n"
     ]
    },
    {
     "name": "stdout",
     "output_type": "stream",
     "text": [
      "Processed and deleted: downloaded_songs/235.wav\n",
      "Song Straight To The Top by Tom Waits already exists. Skipping download.\n",
      "Detected language: English\n"
     ]
    },
    {
     "name": "stderr",
     "output_type": "stream",
     "text": [
      "100%|██████████| 11899/11899 [00:02<00:00, 5692.74frames/s]\n"
     ]
    },
    {
     "name": "stdout",
     "output_type": "stream",
     "text": [
      "Processed and deleted: downloaded_songs/236.wav\n",
      "Song Hollowpoint by Anybody Killa already exists. Skipping download.\n",
      "Detected language: English\n"
     ]
    },
    {
     "name": "stderr",
     "output_type": "stream",
     "text": [
      "100%|██████████| 21958/21958 [00:07<00:00, 2865.09frames/s]\n"
     ]
    },
    {
     "name": "stdout",
     "output_type": "stream",
     "text": [
      "Processed and deleted: downloaded_songs/237.wav\n",
      "Song Narcosis by Tomahawk already exists. Skipping download.\n",
      "Detected language: English\n"
     ]
    },
    {
     "name": "stderr",
     "output_type": "stream",
     "text": [
      " 54%|█████▎    | 6935/12935 [00:00<00:00, 22109.23frames/s]\n"
     ]
    },
    {
     "name": "stdout",
     "output_type": "stream",
     "text": [
      "Processed and deleted: downloaded_songs/238.wav\n",
      "Song Red Fox by Tomahawk already exists. Skipping download.\n",
      "Detected language: English\n"
     ]
    },
    {
     "name": "stderr",
     "output_type": "stream",
     "text": [
      " 42%|████▏     | 6455/15455 [00:21<00:29, 305.72frames/s]\n"
     ]
    },
    {
     "name": "stdout",
     "output_type": "stream",
     "text": [
      "Processed and deleted: downloaded_songs/239.wav\n",
      "Song Machu Picchu by Medwyn Goodall already exists. Skipping download.\n",
      "Detected language: Sanskrit\n"
     ]
    },
    {
     "name": "stderr",
     "output_type": "stream",
     "text": [
      " 86%|████████▌ | 36009/42009 [00:30<00:05, 1178.41frames/s]\n"
     ]
    },
    {
     "name": "stdout",
     "output_type": "stream",
     "text": [
      "Processed and deleted: downloaded_songs/240.wav\n",
      "Song Lip by His Name Is Alive already exists. Skipping download.\n",
      "Detected language: English\n"
     ]
    },
    {
     "name": "stderr",
     "output_type": "stream",
     "text": [
      "100%|██████████| 14953/14953 [00:02<00:00, 6823.12frames/s]\n"
     ]
    },
    {
     "name": "stdout",
     "output_type": "stream",
     "text": [
      "Processed and deleted: downloaded_songs/241.wav\n",
      "Song Land Of Promise by Sacred Spirit already exists. Skipping download.\n",
      "Detected language: Javanese\n"
     ]
    },
    {
     "name": "stderr",
     "output_type": "stream",
     "text": [
      " 43%|████▎     | 13600/31737 [01:34<02:06, 143.76frames/s]\n"
     ]
    },
    {
     "name": "stdout",
     "output_type": "stream",
     "text": [
      "Processed and deleted: downloaded_songs/242.wav\n",
      "Song Prelude: First Snow by Michael Gettel already exists. Skipping download.\n",
      "Detected language: Persian\n"
     ]
    },
    {
     "name": "stderr",
     "output_type": "stream",
     "text": [
      "  0%|          | 0/15473 [00:41<?, ?frames/s]\n"
     ]
    },
    {
     "name": "stdout",
     "output_type": "stream",
     "text": [
      "Processed and deleted: downloaded_songs/243.wav\n",
      "Song Council of the Flocks by Mesa Music Consort already exists. Skipping download.\n",
      "Detected language: English\n"
     ]
    },
    {
     "name": "stderr",
     "output_type": "stream",
     "text": [
      "  1%|▏         | 400/30400 [00:06<08:40, 57.69frames/s]\n"
     ]
    },
    {
     "name": "stdout",
     "output_type": "stream",
     "text": [
      "Processed and deleted: downloaded_songs/244.wav\n",
      "Song \"Sina\" - Missing You by Algin Scabby Robe already exists. Skipping download.\n",
      "Detected language: English\n"
     ]
    },
    {
     "name": "stderr",
     "output_type": "stream",
     "text": [
      " 32%|███▏      | 5678/17678 [00:46<01:38, 122.06frames/s]\n"
     ]
    },
    {
     "name": "stdout",
     "output_type": "stream",
     "text": [
      "Processed and deleted: downloaded_songs/245.wav\n",
      "Song Wishes by Algin Scabby Robe already exists. Skipping download.\n",
      "Detected language: English\n"
     ]
    },
    {
     "name": "stderr",
     "output_type": "stream",
     "text": [
      " 67%|██████▋   | 12834/19056 [00:27<00:13, 458.89frames/s]\n"
     ]
    },
    {
     "name": "stdout",
     "output_type": "stream",
     "text": [
      "Processed and deleted: downloaded_songs/246.wav\n",
      "Song Mickey Mouse (World) by Black Lodge Singers already exists. Skipping download.\n",
      "Detected language: English\n"
     ]
    },
    {
     "name": "stderr",
     "output_type": "stream",
     "text": [
      " 11%|█         | 2152/20152 [00:37<05:11, 57.81frames/s]\n"
     ]
    },
    {
     "name": "stdout",
     "output_type": "stream",
     "text": [
      "Processed and deleted: downloaded_songs/247.wav\n",
      "Song Fly by Black Lodge Singers already exists. Skipping download.\n",
      "Detected language: English\n"
     ]
    },
    {
     "name": "stderr",
     "output_type": "stream",
     "text": [
      "100%|██████████| 20844/20844 [00:02<00:00, 7449.72frames/s]\n"
     ]
    },
    {
     "name": "stdout",
     "output_type": "stream",
     "text": [
      "Processed and deleted: downloaded_songs/248.wav\n",
      "Song Mens Traditional by Mandaree already exists. Skipping download.\n",
      "Detected language: English\n"
     ]
    },
    {
     "name": "stderr",
     "output_type": "stream",
     "text": [
      " 97%|█████████▋| 167714/173714 [00:21<00:00, 7792.78frames/s] \n"
     ]
    },
    {
     "name": "stdout",
     "output_type": "stream",
     "text": [
      "Processed and deleted: downloaded_songs/249.wav\n",
      "Song Round Dance (Old School) by Lake Vermilion Singers already exists. Skipping download.\n",
      "Detected language: English\n"
     ]
    },
    {
     "name": "stderr",
     "output_type": "stream",
     "text": [
      "  1%|          | 189/18189 [00:18<30:01,  9.99frames/s]\n"
     ]
    },
    {
     "name": "stdout",
     "output_type": "stream",
     "text": [
      "Processed and deleted: downloaded_songs/250.wav\n",
      "Song Straight Song by Red Bull already exists. Skipping download.\n",
      "Detected language: English\n"
     ]
    },
    {
     "name": "stderr",
     "output_type": "stream",
     "text": [
      "  0%|          | 0/14324 [00:16<?, ?frames/s]\n"
     ]
    },
    {
     "name": "stdout",
     "output_type": "stream",
     "text": [
      "Processed and deleted: downloaded_songs/251.wav\n",
      "Song '96 Love Song by Black Lodge Singers already exists. Skipping download.\n",
      "Detected language: English\n"
     ]
    },
    {
     "name": "stderr",
     "output_type": "stream",
     "text": [
      " 71%|███████▏  | 14997/20997 [00:08<00:03, 1734.72frames/s]\n"
     ]
    },
    {
     "name": "stdout",
     "output_type": "stream",
     "text": [
      "Processed and deleted: downloaded_songs/252.wav\n",
      "Song Dreams by Big River Cree already exists. Skipping download.\n",
      "Detected language: English\n"
     ]
    },
    {
     "name": "stderr",
     "output_type": "stream",
     "text": [
      "  3%|▎         | 638/18638 [00:30<14:22, 20.88frames/s]\n"
     ]
    },
    {
     "name": "stdout",
     "output_type": "stream",
     "text": [
      "Processed and deleted: downloaded_songs/253.wav\n",
      "Song Hold My Hand by Black Lodge Singers already exists. Skipping download.\n",
      "Detected language: Hawaiian\n"
     ]
    },
    {
     "name": "stderr",
     "output_type": "stream",
     "text": [
      " 69%|██████▉   | 14440/20881 [00:44<00:19, 327.45frames/s]\n"
     ]
    },
    {
     "name": "stdout",
     "output_type": "stream",
     "text": [
      "Processed and deleted: downloaded_songs/254.wav\n",
      "Song One For Bets by Bear Creek already exists. Skipping download.\n",
      "Detected language: English\n"
     ]
    },
    {
     "name": "stderr",
     "output_type": "stream",
     "text": [
      "  7%|▋         | 1257/19257 [00:22<05:28, 54.79frames/s]\n"
     ]
    },
    {
     "name": "stdout",
     "output_type": "stream",
     "text": [
      "Processed and deleted: downloaded_songs/255.wav\n",
      "Song Flintstones by Black Lodge Singers already exists. Skipping download.\n",
      "Detected language: English\n"
     ]
    },
    {
     "name": "stderr",
     "output_type": "stream",
     "text": [
      " 81%|████████▏ | 13184/16184 [00:21<00:04, 616.09frames/s]\n"
     ]
    },
    {
     "name": "stdout",
     "output_type": "stream",
     "text": [
      "Processed and deleted: downloaded_songs/256.wav\n",
      "Song Eight Ball Song - Dedicated to Nathan Jim (World) by Black Lodge Singers already exists. Skipping download.\n",
      "Detected language: English\n"
     ]
    },
    {
     "name": "stderr",
     "output_type": "stream",
     "text": [
      "100%|██████████| 16986/16986 [00:03<00:00, 4709.75frames/s]\n"
     ]
    },
    {
     "name": "stdout",
     "output_type": "stream",
     "text": [
      "Processed and deleted: downloaded_songs/257.wav\n",
      "Song Dancing Gods by Native Flute Ensemble already exists. Skipping download.\n",
      "Detected language: Khmer\n"
     ]
    },
    {
     "name": "stderr",
     "output_type": "stream",
     "text": [
      "  0%|          | 0/22506 [01:19<?, ?frames/s]\n"
     ]
    },
    {
     "name": "stdout",
     "output_type": "stream",
     "text": [
      "Processed and deleted: downloaded_songs/258.wav\n",
      "Song Soldier Boy (World) by Black Lodge already exists. Skipping download.\n",
      "Detected language: English\n"
     ]
    },
    {
     "name": "stderr",
     "output_type": "stream",
     "text": [
      "100%|██████████| 19483/19483 [00:01<00:00, 10899.29frames/s]\n"
     ]
    },
    {
     "name": "stdout",
     "output_type": "stream",
     "text": [
      "Processed and deleted: downloaded_songs/259.wav\n",
      "Song Wizzards by Lowhum already exists. Skipping download.\n",
      "Detected language: Nynorsk\n"
     ]
    },
    {
     "name": "stderr",
     "output_type": "stream",
     "text": [
      "100%|██████████| 2680/2680 [00:06<00:00, 426.78frames/s]\n"
     ]
    },
    {
     "name": "stdout",
     "output_type": "stream",
     "text": [
      "Processed and deleted: downloaded_songs/260.wav\n",
      "Song Sweet Khan On Ma Mind by Lowhum already exists. Skipping download.\n",
      "Detected language: English\n"
     ]
    },
    {
     "name": "stderr",
     "output_type": "stream",
     "text": [
      "100%|██████████| 30527/30527 [00:04<00:00, 6912.65frames/s] \n"
     ]
    },
    {
     "name": "stdout",
     "output_type": "stream",
     "text": [
      "Processed and deleted: downloaded_songs/261.wav\n",
      "Song Harmony Nights by Alex E. Smith & Cheevers Toppah already exists. Skipping download.\n",
      "Detected language: English\n"
     ]
    },
    {
     "name": "stderr",
     "output_type": "stream",
     "text": [
      " 88%|████████▊ | 22273/25273 [00:06<00:00, 3396.93frames/s]\n"
     ]
    },
    {
     "name": "stdout",
     "output_type": "stream",
     "text": [
      "Processed and deleted: downloaded_songs/262.wav\n",
      "Song E-Unit by Elk Soldier already exists. Skipping download.\n",
      "Detected language: English\n"
     ]
    },
    {
     "name": "stderr",
     "output_type": "stream",
     "text": [
      "  9%|▊         | 1673/19673 [00:25<04:39, 64.42frames/s]\n"
     ]
    },
    {
     "name": "stdout",
     "output_type": "stream",
     "text": [
      "Processed and deleted: downloaded_songs/263.wav\n",
      "Song Norwegian Wood (This Bird Has Flown) by The Beatles already exists. Skipping download.\n",
      "Detected language: Welsh\n"
     ]
    },
    {
     "name": "stderr",
     "output_type": "stream",
     "text": [
      " 68%|██████▊   | 6518/9518 [00:07<00:03, 929.30frames/s] \n"
     ]
    },
    {
     "name": "stdout",
     "output_type": "stream",
     "text": [
      "Processed and deleted: downloaded_songs/264.wav\n",
      "Song Love You To by The Beatles already exists. Skipping download.\n",
      "Detected language: English\n"
     ]
    },
    {
     "name": "stderr",
     "output_type": "stream",
     "text": [
      "100%|██████████| 14993/14993 [00:01<00:00, 9181.53frames/s] \n"
     ]
    },
    {
     "name": "stdout",
     "output_type": "stream",
     "text": [
      "Processed and deleted: downloaded_songs/265.wav\n",
      "Song Within You Without You by The Beatles already exists. Skipping download.\n",
      "Detected language: Javanese\n"
     ]
    },
    {
     "name": "stderr",
     "output_type": "stream",
     "text": [
      "100%|██████████| 27466/27466 [00:02<00:00, 9522.56frames/s] \n"
     ]
    },
    {
     "name": "stdout",
     "output_type": "stream",
     "text": [
      "Processed and deleted: downloaded_songs/266.wav\n",
      "Song Love You To - Remastered 2009 by The Beatles already exists. Skipping download.\n",
      "Detected language: English\n"
     ]
    },
    {
     "name": "stderr",
     "output_type": "stream",
     "text": [
      "100%|██████████| 14870/14870 [00:01<00:00, 9088.04frames/s]\n"
     ]
    },
    {
     "name": "stdout",
     "output_type": "stream",
     "text": [
      "Processed and deleted: downloaded_songs/267.wav\n",
      "Song Tried And True by Ween already exists. Skipping download.\n",
      "Detected language: English\n"
     ]
    },
    {
     "name": "stderr",
     "output_type": "stream",
     "text": [
      "100%|██████████| 21200/21200 [00:03<00:00, 5423.84frames/s]\n"
     ]
    },
    {
     "name": "stdout",
     "output_type": "stream",
     "text": [
      "Processed and deleted: downloaded_songs/268.wav\n",
      "Song Lazy Butterfly by Devendra Banhart already exists. Skipping download.\n",
      "Detected language: English\n"
     ]
    },
    {
     "name": "stderr",
     "output_type": "stream",
     "text": [
      "100%|██████████| 21016/21016 [00:05<00:00, 3600.88frames/s]\n"
     ]
    },
    {
     "name": "stdout",
     "output_type": "stream",
     "text": [
      "Processed and deleted: downloaded_songs/269.wav\n",
      "Song The Inner Light by The Beatles already exists. Skipping download.\n",
      "Detected language: English\n"
     ]
    },
    {
     "name": "stderr",
     "output_type": "stream",
     "text": [
      "100%|██████████| 12692/12692 [00:02<00:00, 6111.57frames/s]\n"
     ]
    },
    {
     "name": "stdout",
     "output_type": "stream",
     "text": [
      "Processed and deleted: downloaded_songs/270.wav\n",
      "Song Missione A Bombay by Nicola Conte already exists. Skipping download.\n",
      "Detected language: Nynorsk\n"
     ]
    },
    {
     "name": "stderr",
     "output_type": "stream",
     "text": [
      "  9%|▉         | 2400/25701 [01:22<13:24, 28.97frames/s]\n"
     ]
    },
    {
     "name": "stdout",
     "output_type": "stream",
     "text": [
      "Processed and deleted: downloaded_songs/271.wav\n",
      "Song Mandala by Thievery Corporation already exists. Skipping download.\n",
      "Detected language: Khmer\n"
     ]
    },
    {
     "name": "stderr",
     "output_type": "stream",
     "text": [
      "  0%|          | 0/21061 [01:15<?, ?frames/s]\n"
     ]
    },
    {
     "name": "stdout",
     "output_type": "stream",
     "text": [
      "Processed and deleted: downloaded_songs/272.wav\n",
      "Song Shine Like Stars by Primal Scream already exists. Skipping download.\n",
      "Detected language: Javanese\n"
     ]
    },
    {
     "name": "stderr",
     "output_type": "stream",
     "text": [
      " 22%|██▏       | 4302/19585 [01:04<03:50, 66.33frames/s]\n"
     ]
    },
    {
     "name": "stdout",
     "output_type": "stream",
     "text": [
      "Processed and deleted: downloaded_songs/273.wav\n",
      "Song Love Buzz by Shocking Blue already exists. Skipping download.\n",
      "Detected language: English\n"
     ]
    },
    {
     "name": "stderr",
     "output_type": "stream",
     "text": [
      " 85%|████████▍ | 16440/19440 [00:04<00:00, 3589.39frames/s]\n"
     ]
    },
    {
     "name": "stdout",
     "output_type": "stream",
     "text": [
      "Processed and deleted: downloaded_songs/274.wav\n",
      "Song Within You Without You / Tomorrow Never Knows by The Beatles already exists. Skipping download.\n",
      "Detected language: English\n"
     ]
    },
    {
     "name": "stderr",
     "output_type": "stream",
     "text": [
      "100%|██████████| 15763/15763 [00:01<00:00, 9784.32frames/s] \n"
     ]
    },
    {
     "name": "stdout",
     "output_type": "stream",
     "text": [
      "Processed and deleted: downloaded_songs/275.wav\n",
      "Song Beloved by Anoushka Shankar already exists. Skipping download.\n",
      "Detected language: Sanskrit\n"
     ]
    },
    {
     "name": "stderr",
     "output_type": "stream",
     "text": [
      " 39%|███▉      | 15513/39513 [01:08<01:45, 227.56frames/s]\n"
     ]
    },
    {
     "name": "stdout",
     "output_type": "stream",
     "text": [
      "Processed and deleted: downloaded_songs/276.wav\n",
      "Song Jumpin' Jack Flash by Ananda Shankar already exists. Skipping download.\n",
      "Detected language: English\n"
     ]
    },
    {
     "name": "stderr",
     "output_type": "stream",
     "text": [
      "  3%|▎         | 586/18586 [00:18<09:41, 30.93frames/s]\n"
     ]
    },
    {
     "name": "stdout",
     "output_type": "stream",
     "text": [
      "Processed and deleted: downloaded_songs/277.wav\n",
      "Song Join the Gang by David Bowie already exists. Skipping download.\n",
      "Detected language: English\n"
     ]
    },
    {
     "name": "stderr",
     "output_type": "stream",
     "text": [
      " 80%|███████▉  | 8900/11186 [00:02<00:00, 4241.96frames/s]\n"
     ]
    },
    {
     "name": "stdout",
     "output_type": "stream",
     "text": [
      "Processed and deleted: downloaded_songs/278.wav\n",
      "Song Emerald Alley by Up, Bustle and Out already exists. Skipping download.\n",
      "Detected language: English\n"
     ]
    },
    {
     "name": "stderr",
     "output_type": "stream",
     "text": [
      "100%|██████████| 32710/32710 [00:02<00:00, 12768.34frames/s]\n"
     ]
    },
    {
     "name": "stdout",
     "output_type": "stream",
     "text": [
      "Processed and deleted: downloaded_songs/279.wav\n",
      "Song Paper Sun by Traffic already exists. Skipping download.\n",
      "Detected language: Welsh\n"
     ]
    },
    {
     "name": "stderr",
     "output_type": "stream",
     "text": [
      "100%|██████████| 22517/22517 [00:03<00:00, 5834.06frames/s]\n"
     ]
    },
    {
     "name": "stdout",
     "output_type": "stream",
     "text": [
      "Processed and deleted: downloaded_songs/280.wav\n",
      "Song Hole In My Shoe by Traffic already exists. Skipping download.\n",
      "Detected language: English\n"
     ]
    },
    {
     "name": "stderr",
     "output_type": "stream",
     "text": [
      "100%|██████████| 15080/15080 [00:02<00:00, 7432.61frames/s]\n"
     ]
    },
    {
     "name": "stdout",
     "output_type": "stream",
     "text": [
      "Processed and deleted: downloaded_songs/281.wav\n",
      "Song The Prince of Parties by Flight of the Conchords already exists. Skipping download.\n",
      "Detected language: English\n"
     ]
    },
    {
     "name": "stderr",
     "output_type": "stream",
     "text": [
      "100%|██████████| 8596/8596 [00:01<00:00, 5266.23frames/s]\n"
     ]
    },
    {
     "name": "stdout",
     "output_type": "stream",
     "text": [
      "Processed and deleted: downloaded_songs/282.wav\n",
      "Song Drown by Marika Hackman already exists. Skipping download.\n",
      "Detected language: English\n"
     ]
    },
    {
     "name": "stderr",
     "output_type": "stream",
     "text": [
      "100%|██████████| 20168/20168 [00:02<00:00, 9193.84frames/s] \n"
     ]
    },
    {
     "name": "stdout",
     "output_type": "stream",
     "text": [
      "Processed and deleted: downloaded_songs/283.wav\n",
      "Song Addis by Om already exists. Skipping download.\n",
      "Detected language: English\n"
     ]
    },
    {
     "name": "stderr",
     "output_type": "stream",
     "text": [
      "100%|██████████| 30250/30250 [00:07<00:00, 3860.04frames/s]\n"
     ]
    },
    {
     "name": "stdout",
     "output_type": "stream",
     "text": [
      "Processed and deleted: downloaded_songs/284.wav\n",
      "Song Guilt by Marianne Faithfull already exists. Skipping download.\n",
      "Detected language: English\n"
     ]
    },
    {
     "name": "stderr",
     "output_type": "stream",
     "text": [
      " 67%|██████▋   | 19000/28299 [00:20<00:10, 917.69frames/s] \n"
     ]
    },
    {
     "name": "stdout",
     "output_type": "stream",
     "text": [
      "Processed and deleted: downloaded_songs/285.wav\n",
      "Song Butterfly by Talvin Singh already exists. Skipping download.\n",
      "Detected language: Khmer\n"
     ]
    },
    {
     "name": "stderr",
     "output_type": "stream",
     "text": [
      "  0%|          | 0/23633 [01:15<?, ?frames/s]\n"
     ]
    },
    {
     "name": "stdout",
     "output_type": "stream",
     "text": [
      "Processed and deleted: downloaded_songs/286.wav\n",
      "Song For You by Rae Morris already exists. Skipping download.\n",
      "Detected language: English\n"
     ]
    },
    {
     "name": "stderr",
     "output_type": "stream",
     "text": [
      "100%|██████████| 20104/20104 [00:09<00:00, 2103.25frames/s]\n"
     ]
    },
    {
     "name": "stdout",
     "output_type": "stream",
     "text": [
      "Processed and deleted: downloaded_songs/287.wav\n",
      "Song Rebirth of Slick (Cool Like Dat) - 2005 Digital Remaster by Digable Planets already exists. Skipping download.\n",
      "Detected language: English\n"
     ]
    },
    {
     "name": "stderr",
     "output_type": "stream",
     "text": [
      " 88%|████████▊ | 20424/23106 [00:08<00:01, 2498.54frames/s]\n"
     ]
    },
    {
     "name": "stdout",
     "output_type": "stream",
     "text": [
      "Processed and deleted: downloaded_songs/288.wav\n",
      "Song Ching Chime by Serj Tankian already exists. Skipping download.\n",
      "Detected language: English\n"
     ]
    },
    {
     "name": "stderr",
     "output_type": "stream",
     "text": [
      "100%|██████████| 21549/21549 [00:08<00:00, 2542.90frames/s]\n"
     ]
    },
    {
     "name": "stdout",
     "output_type": "stream",
     "text": [
      "Processed and deleted: downloaded_songs/289.wav\n",
      "Song The Astounding Eyes of Rita by Anouar Brahem already exists. Skipping download.\n",
      "Detected language: English\n"
     ]
    },
    {
     "name": "stderr",
     "output_type": "stream",
     "text": [
      "  2%|▏         | 1058/61058 [00:01<01:37, 614.53frames/s]\n"
     ]
    },
    {
     "name": "stdout",
     "output_type": "stream",
     "text": [
      "Processed and deleted: downloaded_songs/290.wav\n",
      "Song Halfaouine by Anouar Brahem already exists. Skipping download.\n",
      "Detected language: English\n"
     ]
    },
    {
     "name": "stderr",
     "output_type": "stream",
     "text": [
      " 23%|██▎       | 5536/23661 [00:07<00:24, 736.82frames/s]\n"
     ]
    },
    {
     "name": "stdout",
     "output_type": "stream",
     "text": [
      "Processed and deleted: downloaded_songs/291.wav\n",
      "Song Awa Didjen by Tinariwen already exists. Skipping download.\n",
      "Detected language: Arabic\n"
     ]
    },
    {
     "name": "stderr",
     "output_type": "stream",
     "text": [
      "100%|██████████| 22441/22441 [00:08<00:00, 2507.04frames/s]\n"
     ]
    },
    {
     "name": "stdout",
     "output_type": "stream",
     "text": [
      "Processed and deleted: downloaded_songs/292.wav\n",
      "Song Le pas du chat noir by Anouar Brahem already exists. Skipping download.\n",
      "Detected language: Latin\n"
     ]
    },
    {
     "name": "stderr",
     "output_type": "stream",
     "text": [
      " 74%|███████▍  | 25616/34616 [00:30<00:10, 828.77frames/s] \n"
     ]
    },
    {
     "name": "stdout",
     "output_type": "stream",
     "text": [
      "Processed and deleted: downloaded_songs/293.wav\n",
      "Song Masâr by Le Trio Joubran already exists. Skipping download.\n",
      "Detected language: Nynorsk\n"
     ]
    },
    {
     "name": "stderr",
     "output_type": "stream",
     "text": [
      "  0%|          | 0/26685 [01:26<?, ?frames/s]\n"
     ]
    },
    {
     "name": "stdout",
     "output_type": "stream",
     "text": [
      "Processed and deleted: downloaded_songs/294.wav\n",
      "Song Ikyadarh Dim by Tinariwen already exists. Skipping download.\n",
      "Detected language: Arabic\n"
     ]
    },
    {
     "name": "stderr",
     "output_type": "stream",
     "text": [
      " 99%|█████████▊| 18500/18754 [00:05<00:00, 3271.26frames/s]\n"
     ]
    },
    {
     "name": "stdout",
     "output_type": "stream",
     "text": [
      "Processed and deleted: downloaded_songs/295.wav\n",
      "Song Parfum De Gitane by Anouar Brahem already exists. Skipping download.\n",
      "Detected language: English\n"
     ]
    },
    {
     "name": "stderr",
     "output_type": "stream",
     "text": [
      " 10%|█         | 4072/40072 [00:01<00:09, 3795.68frames/s]\n"
     ]
    },
    {
     "name": "stdout",
     "output_type": "stream",
     "text": [
      "Processed and deleted: downloaded_songs/296.wav\n",
      "Song Mijn Houten Hart by De Poema's already exists. Skipping download.\n",
      "Detected language: Dutch\n"
     ]
    },
    {
     "name": "stderr",
     "output_type": "stream",
     "text": [
      "100%|██████████| 23252/23252 [00:05<00:00, 3936.16frames/s]\n"
     ]
    },
    {
     "name": "stdout",
     "output_type": "stream",
     "text": [
      "Processed and deleted: downloaded_songs/297.wav\n",
      "Song Leila au pays du carrousel by Anouar Brahem already exists. Skipping download.\n",
      "Detected language: Nynorsk\n"
     ]
    },
    {
     "name": "stderr",
     "output_type": "stream",
     "text": [
      "  9%|▊         | 2521/29521 [01:25<15:14, 29.52frames/s]\n"
     ]
    },
    {
     "name": "stdout",
     "output_type": "stream",
     "text": [
      "Processed and deleted: downloaded_songs/298.wav\n",
      "Song Le Voyage De Sahar by Anouar Brahem already exists. Skipping download.\n",
      "Detected language: Javanese\n"
     ]
    },
    {
     "name": "stderr",
     "output_type": "stream",
     "text": [
      "  8%|▊         | 3000/38548 [01:49<21:33, 27.49frames/s]\n"
     ]
    },
    {
     "name": "stdout",
     "output_type": "stream",
     "text": [
      "Processed and deleted: downloaded_songs/299.wav\n",
      "Song The Visitors by Hamza El Din already exists. Skipping download.\n",
      "Detected language: Javanese\n"
     ]
    },
    {
     "name": "stderr",
     "output_type": "stream",
     "text": [
      " 79%|███████▉  | 45173/57173 [01:15<00:19, 601.37frames/s] \n"
     ]
    },
    {
     "name": "stdout",
     "output_type": "stream",
     "text": [
      "Processed and deleted: downloaded_songs/300.wav\n",
      "Song Laytana by Le Trio Joubran already exists. Skipping download.\n",
      "Detected language: English\n"
     ]
    },
    {
     "name": "stderr",
     "output_type": "stream",
     "text": [
      "  0%|          | 0/23045 [00:00<?, ?frames/s]\n"
     ]
    },
    {
     "name": "stdout",
     "output_type": "stream",
     "text": [
      "Processed and deleted: downloaded_songs/301.wav\n",
      "Song Stopover at Djibouti by Anouar Brahem already exists. Skipping download.\n",
      "Detected language: English\n"
     ]
    },
    {
     "name": "stderr",
     "output_type": "stream",
     "text": [
      "100%|██████████| 47952/47952 [00:07<00:00, 6088.02frames/s]\n"
     ]
    },
    {
     "name": "stdout",
     "output_type": "stream",
     "text": [
      "Processed and deleted: downloaded_songs/302.wav\n",
      "Song Sur Le Fleuve by Anouar Brahem already exists. Skipping download.\n",
      "Detected language: English\n"
     ]
    },
    {
     "name": "stderr",
     "output_type": "stream",
     "text": [
      " 34%|███▍      | 12350/36350 [00:06<00:12, 1859.59frames/s]\n"
     ]
    },
    {
     "name": "stdout",
     "output_type": "stream",
     "text": [
      "Processed and deleted: downloaded_songs/303.wav\n",
      "Song Al Hahla Al 'Ali by A Nahala Al' Ali already exists. Skipping download.\n",
      "Detected language: English\n"
     ]
    },
    {
     "name": "stderr",
     "output_type": "stream",
     "text": [
      "  0%|          | 0/14689 [00:08<?, ?frames/s]\n"
     ]
    },
    {
     "name": "stdout",
     "output_type": "stream",
     "text": [
      "Processed and deleted: downloaded_songs/304.wav\n",
      "Song Chant bédouin/bedouin song. hjeyni jenûbi by Jamal Khleif already exists. Skipping download.\n",
      "Detected language: Arabic\n"
     ]
    },
    {
     "name": "stderr",
     "output_type": "stream",
     "text": [
      " 84%|████████▍ | 15670/18670 [00:02<00:00, 5253.36frames/s]\n"
     ]
    },
    {
     "name": "stdout",
     "output_type": "stream",
     "text": [
      "Processed and deleted: downloaded_songs/305.wav\n",
      "Song Until The Lion Learns To Speak by K'naan already exists. Skipping download.\n",
      "Detected language: English\n"
     ]
    },
    {
     "name": "stderr",
     "output_type": "stream",
     "text": [
      "100%|██████████| 11489/11489 [00:04<00:00, 2423.42frames/s]\n"
     ]
    },
    {
     "name": "stdout",
     "output_type": "stream",
     "text": [
      "Processed and deleted: downloaded_songs/306.wav\n",
      "Song Light The Shade by Xavier Rudd already exists. Skipping download.\n",
      "Detected language: English\n"
     ]
    },
    {
     "name": "stderr",
     "output_type": "stream",
     "text": [
      "100%|██████████| 11022/11022 [00:15<00:00, 694.05frames/s]\n"
     ]
    },
    {
     "name": "stdout",
     "output_type": "stream",
     "text": [
      "Processed and deleted: downloaded_songs/307.wav\n",
      "Song Avenue by Nusrat Fateh Ali Khan already exists. Skipping download.\n",
      "Detected language: English\n"
     ]
    },
    {
     "name": "stderr",
     "output_type": "stream",
     "text": [
      "  0%|          | 0/26525 [00:08<?, ?frames/s]\n"
     ]
    },
    {
     "name": "stdout",
     "output_type": "stream",
     "text": [
      "Processed and deleted: downloaded_songs/308.wav\n",
      "Song Je Dors Sur Mes 2 Oreilles by Grand Corps Malade already exists. Skipping download.\n",
      "Detected language: French\n"
     ]
    },
    {
     "name": "stderr",
     "output_type": "stream",
     "text": [
      "100%|██████████| 13796/13796 [00:09<00:00, 1477.56frames/s]\n"
     ]
    },
    {
     "name": "stdout",
     "output_type": "stream",
     "text": [
      "Processed and deleted: downloaded_songs/309.wav\n",
      "Song Amazone by DobaCaracol already exists. Skipping download.\n",
      "Detected language: French\n"
     ]
    },
    {
     "name": "stderr",
     "output_type": "stream",
     "text": [
      " 98%|█████████▊| 11560/11812 [00:09<00:00, 1182.40frames/s]\n"
     ]
    },
    {
     "name": "stdout",
     "output_type": "stream",
     "text": [
      "Processed and deleted: downloaded_songs/310.wav\n",
      "Song Messanga by Richard Bona already exists. Skipping download.\n",
      "Detected language: Yoruba\n"
     ]
    },
    {
     "name": "stderr",
     "output_type": "stream",
     "text": [
      " 27%|██▋       | 5566/20782 [01:15<03:26, 73.77frames/s] \n"
     ]
    },
    {
     "name": "stdout",
     "output_type": "stream",
     "text": [
      "Processed and deleted: downloaded_songs/311.wav\n",
      "Song Senegal Champions of Africa by The Black Seeds already exists. Skipping download.\n",
      "Detected language: Shona\n"
     ]
    },
    {
     "name": "stderr",
     "output_type": "stream",
     "text": [
      "  0%|          | 0/29872 [01:34<?, ?frames/s]\n"
     ]
    },
    {
     "name": "stdout",
     "output_type": "stream",
     "text": [
      "Processed and deleted: downloaded_songs/312.wav\n",
      "Song Le Serpent by Guem already exists. Skipping download.\n",
      "Detected language: Javanese\n"
     ]
    },
    {
     "name": "stderr",
     "output_type": "stream",
     "text": [
      "  0%|          | 0/28900 [01:32<?, ?frames/s]\n"
     ]
    },
    {
     "name": "stdout",
     "output_type": "stream",
     "text": [
      "Processed and deleted: downloaded_songs/313.wav\n",
      "Song Rumba de los quemaditos by Sergent Garcia already exists. Skipping download.\n",
      "Detected language: Yoruba\n"
     ]
    },
    {
     "name": "stderr",
     "output_type": "stream",
     "text": [
      "  0%|          | 0/14429 [00:37<?, ?frames/s]\n"
     ]
    },
    {
     "name": "stdout",
     "output_type": "stream",
     "text": [
      "Processed and deleted: downloaded_songs/314.wav\n",
      "Song Didadi Kana by Nahawa Doumbia already exists. Skipping download.\n",
      "Detected language: Yoruba\n"
     ]
    },
    {
     "name": "stderr",
     "output_type": "stream",
     "text": [
      " 10%|▉         | 2656/26656 [01:22<12:24, 32.24frames/s]\n"
     ]
    },
    {
     "name": "stdout",
     "output_type": "stream",
     "text": [
      "Processed and deleted: downloaded_songs/315.wav\n",
      "Song Our Love by Luisito Quintero Feat. Anane already exists. Skipping download.\n",
      "Detected language: English\n"
     ]
    },
    {
     "name": "stderr",
     "output_type": "stream",
     "text": [
      " 88%|████████▊ | 24300/27513 [00:12<00:01, 1951.47frames/s]\n"
     ]
    },
    {
     "name": "stdout",
     "output_type": "stream",
     "text": [
      "Processed and deleted: downloaded_songs/316.wav\n",
      "Song Le Serpent by Guem et Zaka already exists. Skipping download.\n",
      "Detected language: Javanese\n"
     ]
    },
    {
     "name": "stderr",
     "output_type": "stream",
     "text": [
      " 10%|█         | 3000/28949 [01:29<12:55, 33.47frames/s] \n"
     ]
    },
    {
     "name": "stdout",
     "output_type": "stream",
     "text": [
      "Processed and deleted: downloaded_songs/317.wav\n",
      "Song Mortalite by Kandia Kouyate already exists. Skipping download.\n",
      "Detected language: Sanskrit\n"
     ]
    },
    {
     "name": "stderr",
     "output_type": "stream",
     "text": [
      " 33%|███▎      | 11100/33644 [01:27<02:57, 126.76frames/s]\n"
     ]
    },
    {
     "name": "stdout",
     "output_type": "stream",
     "text": [
      "Processed and deleted: downloaded_songs/318.wav\n",
      "Song Deni Kelen Be Koko by Lobi Traoré already exists. Skipping download.\n",
      "Detected language: Yoruba\n"
     ]
    },
    {
     "name": "stderr",
     "output_type": "stream",
     "text": [
      " 12%|█▏        | 3572/30572 [01:33<11:48, 38.11frames/s]\n"
     ]
    },
    {
     "name": "stdout",
     "output_type": "stream",
     "text": [
      "Processed and deleted: downloaded_songs/319.wav\n",
      "Song Blood And Butter by Caroline Polachek already exists. Skipping download.\n",
      "Detected language: English\n"
     ]
    },
    {
     "name": "stderr",
     "output_type": "stream",
     "text": [
      " 87%|████████▋ | 20750/23750 [00:11<00:01, 1779.69frames/s]\n"
     ]
    },
    {
     "name": "stdout",
     "output_type": "stream",
     "text": [
      "Processed and deleted: downloaded_songs/320.wav\n",
      "Song Mull Of Kintyre by Wings already exists. Skipping download.\n",
      "Detected language: English\n"
     ]
    },
    {
     "name": "stderr",
     "output_type": "stream",
     "text": [
      "100%|██████████| 25552/25552 [00:03<00:00, 8469.25frames/s]\n"
     ]
    },
    {
     "name": "stdout",
     "output_type": "stream",
     "text": [
      "Processed and deleted: downloaded_songs/321.wav\n",
      "Song Busindre Reel by Hevia already exists. Skipping download.\n",
      "Detected language: English\n"
     ]
    },
    {
     "name": "stderr",
     "output_type": "stream",
     "text": [
      "  0%|          | 0/18649 [00:02<?, ?frames/s]\n"
     ]
    },
    {
     "name": "stdout",
     "output_type": "stream",
     "text": [
      "Processed and deleted: downloaded_songs/322.wav\n",
      "Song Rebellion (The Clans Are Marching) by Grave Digger already exists. Skipping download.\n",
      "Detected language: English\n"
     ]
    },
    {
     "name": "stderr",
     "output_type": "stream",
     "text": [
      " 86%|████████▌ | 18793/21793 [00:01<00:00, 14665.02frames/s]\n"
     ]
    },
    {
     "name": "stdout",
     "output_type": "stream",
     "text": [
      "Processed and deleted: downloaded_songs/323.wav\n",
      "Song Stingin' Belle by Biffy Clyro already exists. Skipping download.\n",
      "Detected language: English\n"
     ]
    },
    {
     "name": "stderr",
     "output_type": "stream",
     "text": [
      " 79%|███████▉  | 16600/20924 [00:06<00:01, 2628.84frames/s]\n"
     ]
    },
    {
     "name": "stdout",
     "output_type": "stream",
     "text": [
      "Processed and deleted: downloaded_songs/324.wav\n",
      "Song Jig of Life by Kate Bush already exists. Skipping download.\n",
      "Detected language: English\n"
     ]
    },
    {
     "name": "stderr",
     "output_type": "stream",
     "text": [
      "100%|██████████| 23000/23000 [00:04<00:00, 5675.11frames/s]\n"
     ]
    },
    {
     "name": "stdout",
     "output_type": "stream",
     "text": [
      "Processed and deleted: downloaded_songs/325.wav\n",
      "Song Epilogue by Patrick Wolf already exists. Skipping download.\n",
      "Detected language: Javanese\n"
     ]
    },
    {
     "name": "stderr",
     "output_type": "stream",
     "text": [
      "  0%|          | 0/9818 [00:36<?, ?frames/s]\n"
     ]
    },
    {
     "name": "stdout",
     "output_type": "stream",
     "text": [
      "Processed and deleted: downloaded_songs/326.wav\n",
      "Song The Rocky Road to Dublin by The High Kings already exists. Skipping download.\n",
      "Detected language: English\n"
     ]
    },
    {
     "name": "stderr",
     "output_type": "stream",
     "text": [
      "100%|██████████| 16320/16320 [00:05<00:00, 2814.39frames/s]\n"
     ]
    },
    {
     "name": "stdout",
     "output_type": "stream",
     "text": [
      "Processed and deleted: downloaded_songs/327.wav\n",
      "Song Where Rainbows Never Die by The SteelDrivers already exists. Skipping download.\n",
      "Detected language: English\n"
     ]
    },
    {
     "name": "stderr",
     "output_type": "stream",
     "text": [
      "100%|██████████| 19879/19879 [00:02<00:00, 8496.00frames/s]\n"
     ]
    },
    {
     "name": "stdout",
     "output_type": "stream",
     "text": [
      "Processed and deleted: downloaded_songs/328.wav\n",
      "Song The Cave by Mumford & Sons already exists. Skipping download.\n",
      "Detected language: English\n"
     ]
    },
    {
     "name": "stderr",
     "output_type": "stream",
     "text": [
      "100%|██████████| 23636/23636 [00:03<00:00, 6112.98frames/s]\n"
     ]
    },
    {
     "name": "stdout",
     "output_type": "stream",
     "text": [
      "Processed and deleted: downloaded_songs/329.wav\n",
      "Song Roll Away Your Stone by Mumford & Sons already exists. Skipping download.\n",
      "Detected language: English\n"
     ]
    },
    {
     "name": "stderr",
     "output_type": "stream",
     "text": [
      "100%|██████████| 22917/22917 [00:02<00:00, 8156.55frames/s]\n"
     ]
    },
    {
     "name": "stdout",
     "output_type": "stream",
     "text": [
      "Processed and deleted: downloaded_songs/330.wav\n",
      "Song Bukowski by Modest Mouse already exists. Skipping download.\n",
      "Detected language: English\n"
     ]
    },
    {
     "name": "stderr",
     "output_type": "stream",
     "text": [
      "100%|██████████| 22536/22536 [00:08<00:00, 2652.56frames/s]\n"
     ]
    },
    {
     "name": "stdout",
     "output_type": "stream",
     "text": [
      "Processed and deleted: downloaded_songs/331.wav\n",
      "Song Big Black Car by Gregory Alan Isakov already exists. Skipping download.\n",
      "Detected language: English\n"
     ]
    },
    {
     "name": "stderr",
     "output_type": "stream",
     "text": [
      " 87%|████████▋ | 20100/23174 [00:08<00:01, 2376.64frames/s]\n"
     ]
    },
    {
     "name": "stdout",
     "output_type": "stream",
     "text": [
      "Processed and deleted: downloaded_songs/332.wav\n",
      "Song Babel by Mumford & Sons already exists. Skipping download.\n",
      "Detected language: English\n"
     ]
    },
    {
     "name": "stderr",
     "output_type": "stream",
     "text": [
      "100%|██████████| 21361/21361 [00:03<00:00, 6577.07frames/s]\n"
     ]
    },
    {
     "name": "stdout",
     "output_type": "stream",
     "text": [
      "Processed and deleted: downloaded_songs/333.wav\n",
      "Song Whispers in the Dark by Mumford & Sons already exists. Skipping download.\n",
      "Detected language: English\n"
     ]
    },
    {
     "name": "stderr",
     "output_type": "stream",
     "text": [
      "100%|██████████| 16372/16372 [00:02<00:00, 6718.13frames/s]\n"
     ]
    },
    {
     "name": "stdout",
     "output_type": "stream",
     "text": [
      "Processed and deleted: downloaded_songs/334.wav\n",
      "Song Ghosts That We Knew by Mumford & Sons already exists. Skipping download.\n",
      "Detected language: English\n"
     ]
    },
    {
     "name": "stderr",
     "output_type": "stream",
     "text": [
      "100%|██████████| 30972/30972 [00:03<00:00, 10141.96frames/s]\n"
     ]
    },
    {
     "name": "stdout",
     "output_type": "stream",
     "text": [
      "Processed and deleted: downloaded_songs/335.wav\n",
      "Song Wrecking Ball by Mother Mother already exists. Skipping download.\n",
      "Detected language: English\n"
     ]
    },
    {
     "name": "stderr",
     "output_type": "stream",
     "text": [
      "100%|██████████| 16432/16432 [00:03<00:00, 4679.26frames/s]\n"
     ]
    },
    {
     "name": "stdout",
     "output_type": "stream",
     "text": [
      "Processed and deleted: downloaded_songs/336.wav\n",
      "Song Sexx Laws by Beck already exists. Skipping download.\n",
      "Detected language: English\n"
     ]
    },
    {
     "name": "stderr",
     "output_type": "stream",
     "text": [
      "100%|██████████| 22497/22497 [00:04<00:00, 5521.02frames/s]\n"
     ]
    },
    {
     "name": "stdout",
     "output_type": "stream",
     "text": [
      "Processed and deleted: downloaded_songs/337.wav\n",
      "Song Lovers' Eyes by Mumford & Sons already exists. Skipping download.\n",
      "Detected language: English\n"
     ]
    },
    {
     "name": "stderr",
     "output_type": "stream",
     "text": [
      "100%|██████████| 29112/29112 [00:05<00:00, 4867.05frames/s]\n"
     ]
    },
    {
     "name": "stdout",
     "output_type": "stream",
     "text": [
      "Processed and deleted: downloaded_songs/338.wav\n",
      "Song Your Rocky Spine by Great Lake Swimmers already exists. Skipping download.\n",
      "Detected language: English\n"
     ]
    },
    {
     "name": "stderr",
     "output_type": "stream",
     "text": [
      " 85%|████████▍ | 16773/19773 [00:05<00:00, 3137.42frames/s]\n"
     ]
    },
    {
     "name": "stdout",
     "output_type": "stream",
     "text": [
      "Processed and deleted: downloaded_songs/339.wav\n",
      "Song Winter Winds by Mumford & Sons already exists. Skipping download.\n",
      "Detected language: English\n"
     ]
    },
    {
     "name": "stderr",
     "output_type": "stream",
     "text": [
      "100%|██████████| 18205/18205 [00:02<00:00, 6396.45frames/s]\n"
     ]
    },
    {
     "name": "stdout",
     "output_type": "stream",
     "text": [
      "Processed and deleted: downloaded_songs/340.wav\n",
      "Song White Blank Page by Mumford & Sons already exists. Skipping download.\n",
      "Detected language: English\n"
     ]
    },
    {
     "name": "stderr",
     "output_type": "stream",
     "text": [
      "100%|██████████| 22422/22422 [00:01<00:00, 12952.61frames/s]\n"
     ]
    },
    {
     "name": "stdout",
     "output_type": "stream",
     "text": [
      "Processed and deleted: downloaded_songs/341.wav\n",
      "Song Sigh No More by Mumford & Sons already exists. Skipping download.\n",
      "Detected language: English\n"
     ]
    },
    {
     "name": "stderr",
     "output_type": "stream",
     "text": [
      "100%|██████████| 17798/17798 [00:02<00:00, 6644.31frames/s]\n"
     ]
    },
    {
     "name": "stdout",
     "output_type": "stream",
     "text": [
      "Processed and deleted: downloaded_songs/342.wav\n",
      "Song Roll Away Your Stone by Mumford & Sons already exists. Skipping download.\n",
      "Detected language: English\n"
     ]
    },
    {
     "name": "stderr",
     "output_type": "stream",
     "text": [
      "100%|██████████| 23392/23392 [00:03<00:00, 7510.13frames/s]\n"
     ]
    },
    {
     "name": "stdout",
     "output_type": "stream",
     "text": [
      "Processed and deleted: downloaded_songs/343.wav\n",
      "Song I Gave You All by Mumford & Sons already exists. Skipping download.\n",
      "Detected language: English\n"
     ]
    },
    {
     "name": "stderr",
     "output_type": "stream",
     "text": [
      "100%|██████████| 23002/23002 [00:02<00:00, 9980.80frames/s] \n"
     ]
    },
    {
     "name": "stdout",
     "output_type": "stream",
     "text": [
      "Processed and deleted: downloaded_songs/344.wav\n",
      "Song After the Storm by Mumford & Sons already exists. Skipping download.\n",
      "Detected language: English\n"
     ]
    },
    {
     "name": "stderr",
     "output_type": "stream",
     "text": [
      "100%|██████████| 21817/21817 [00:03<00:00, 6903.96frames/s]\n"
     ]
    },
    {
     "name": "stdout",
     "output_type": "stream",
     "text": [
      "Processed and deleted: downloaded_songs/345.wav\n",
      "Song Dust Bowl Dance by Mumford & Sons already exists. Skipping download.\n",
      "Detected language: English\n"
     ]
    },
    {
     "name": "stderr",
     "output_type": "stream",
     "text": [
      "100%|██████████| 25341/25341 [00:04<00:00, 5766.43frames/s]\n"
     ]
    },
    {
     "name": "stdout",
     "output_type": "stream",
     "text": [
      "Processed and deleted: downloaded_songs/346.wav\n",
      "Song Going to California - Remaster by Led Zeppelin already exists. Skipping download.\n",
      "Detected language: English\n"
     ]
    },
    {
     "name": "stderr",
     "output_type": "stream",
     "text": [
      " 88%|████████▊ | 16000/18264 [00:08<00:01, 1848.79frames/s]\n"
     ]
    },
    {
     "name": "stdout",
     "output_type": "stream",
     "text": [
      "Processed and deleted: downloaded_songs/347.wav\n",
      "Song Holland Road by Mumford & Sons already exists. Skipping download.\n",
      "Detected language: English\n"
     ]
    },
    {
     "name": "stderr",
     "output_type": "stream",
     "text": [
      "100%|██████████| 22084/22084 [00:04<00:00, 4563.72frames/s]\n"
     ]
    },
    {
     "name": "stdout",
     "output_type": "stream",
     "text": [
      "Processed and deleted: downloaded_songs/348.wav\n",
      "Song Lovers' Eyes by Mumford & Sons already exists. Skipping download.\n",
      "Detected language: English\n"
     ]
    },
    {
     "name": "stderr",
     "output_type": "stream",
     "text": [
      "100%|██████████| 29112/29112 [00:06<00:00, 4580.87frames/s]\n"
     ]
    },
    {
     "name": "stdout",
     "output_type": "stream",
     "text": [
      "Processed and deleted: downloaded_songs/349.wav\n",
      "Song Reminder by Mumford & Sons already exists. Skipping download.\n",
      "Detected language: English\n"
     ]
    },
    {
     "name": "stderr",
     "output_type": "stream",
     "text": [
      "100%|██████████| 9452/9452 [00:01<00:00, 5297.75frames/s]\n"
     ]
    },
    {
     "name": "stdout",
     "output_type": "stream",
     "text": [
      "Processed and deleted: downloaded_songs/350.wav\n",
      "Song Below My Feet by Mumford & Sons already exists. Skipping download.\n",
      "Detected language: English\n"
     ]
    },
    {
     "name": "stderr",
     "output_type": "stream",
     "text": [
      "100%|██████████| 26081/26081 [00:03<00:00, 8237.45frames/s]\n"
     ]
    },
    {
     "name": "stdout",
     "output_type": "stream",
     "text": [
      "Processed and deleted: downloaded_songs/351.wav\n",
      "Song Not with Haste by Mumford & Sons already exists. Skipping download.\n",
      "Detected language: English\n"
     ]
    },
    {
     "name": "stderr",
     "output_type": "stream",
     "text": [
      "100%|██████████| 21908/21908 [00:02<00:00, 8053.99frames/s]\n"
     ]
    },
    {
     "name": "stdout",
     "output_type": "stream",
     "text": [
      "Processed and deleted: downloaded_songs/352.wav\n",
      "Song The Wolf by Mumford & Sons already exists. Skipping download.\n",
      "Detected language: English\n"
     ]
    },
    {
     "name": "stderr",
     "output_type": "stream",
     "text": [
      "100%|██████████| 20538/20538 [00:02<00:00, 7880.50frames/s]\n"
     ]
    },
    {
     "name": "stdout",
     "output_type": "stream",
     "text": [
      "Processed and deleted: downloaded_songs/353.wav\n",
      "Song La Valse d'Amélie by Yann Tiersen already exists. Skipping download.\n",
      "Detected language: English\n"
     ]
    },
    {
     "name": "stderr",
     "output_type": "stream",
     "text": [
      "100%|██████████| 32285/32285 [00:00<00:00, 56761.09frames/s]\n"
     ]
    },
    {
     "name": "stdout",
     "output_type": "stream",
     "text": [
      "Processed and deleted: downloaded_songs/354.wav\n",
      "Song A quai by Yann Tiersen already exists. Skipping download.\n",
      "Detected language: Latin\n"
     ]
    },
    {
     "name": "stderr",
     "output_type": "stream",
     "text": [
      " 74%|███████▍  | 17293/23293 [00:20<00:07, 831.95frames/s] \n"
     ]
    },
    {
     "name": "stdout",
     "output_type": "stream",
     "text": [
      "Processed and deleted: downloaded_songs/355.wav\n",
      "Song La Dispute by Yann Tiersen already exists. Skipping download.\n",
      "Detected language: Nynorsk\n"
     ]
    },
    {
     "name": "stderr",
     "output_type": "stream",
     "text": [
      " 15%|█▍        | 2069/14069 [00:52<05:07, 39.07frames/s]\n"
     ]
    },
    {
     "name": "stdout",
     "output_type": "stream",
     "text": [
      "Processed and deleted: downloaded_songs/356.wav\n",
      "Song Mount Wroclai (Idle Days) by Beirut already exists. Skipping download.\n"
     ]
    },
    {
     "name": "stderr",
     "output_type": "stream",
     "text": [
      "IOPub message rate exceeded.\n",
      "The Jupyter server will temporarily stop sending output\n",
      "to the client in order to avoid crashing it.\n",
      "To change this limit, set the config variable\n",
      "`--ServerApp.iopub_msg_rate_limit`.\n",
      "\n",
      "Current values:\n",
      "ServerApp.iopub_msg_rate_limit=1000.0 (msgs/sec)\n",
      "ServerApp.rate_limit_window=3.0 (secs)\n",
      "\n"
     ]
    },
    {
     "name": "stdout",
     "output_type": "stream",
     "text": [
      "Deleting original file downloaded_songs/1296.webm (pass -k to keep)\n",
      "[download] Finished downloading playlist: afghan music house party uSSSy\n",
      "Downloaded afghan music house party by uSSSy.\n",
      "Detected language: English\n"
     ]
    },
    {
     "name": "stderr",
     "output_type": "stream",
     "text": [
      " 59%|█████▊    | 148202/253202 [01:20<00:57, 1836.44frames/s] \n"
     ]
    },
    {
     "name": "stdout",
     "output_type": "stream",
     "text": [
      "Processed and deleted: downloaded_songs/1296.wav\n",
      "Downloading: Cihangir Al Qaynah\n",
      "[youtube:search] Extracting URL: ytsearch1:Cihangir Al Qaynah\n",
      "[download] Downloading playlist: Cihangir Al Qaynah\n",
      "[youtube:search] query \"Cihangir Al Qaynah\": Downloading web client config\n",
      "[youtube:search] query \"Cihangir Al Qaynah\" page 1: Downloading API JSON\n",
      "[youtube:search] Playlist Cihangir Al Qaynah: Downloading 1 items of 1\n",
      "[download] Downloading item 1 of 1\n",
      "[youtube] Extracting URL: https://www.youtube.com/watch?v=LKsfeOsT-fo\n",
      "[youtube] LKsfeOsT-fo: Downloading webpage\n",
      "[youtube] LKsfeOsT-fo: Downloading tv client config\n",
      "[youtube] LKsfeOsT-fo: Downloading player 1080ef44\n",
      "[youtube] LKsfeOsT-fo: Downloading tv player API JSON\n",
      "[youtube] LKsfeOsT-fo: Downloading ios player API JSON\n",
      "[youtube] LKsfeOsT-fo: Downloading m3u8 information\n",
      "[info] LKsfeOsT-fo: Downloading 1 format(s): 140\n",
      "[download] Destination: downloaded_songs/1297.m4a\n",
      "[download] 100% of    4.11MiB in 00:00:00 at 5.80MiB/s   \n",
      "[FixupM4a] Correcting container of \"downloaded_songs/1297.m4a\"\n",
      "[ExtractAudio] Destination: downloaded_songs/1297.wav\n",
      "Deleting original file downloaded_songs/1297.m4a (pass -k to keep)\n",
      "[download] Finished downloading playlist: Cihangir Al Qaynah\n",
      "Downloaded Cihangir by Al Qaynah.\n",
      "Detected language: English\n"
     ]
    },
    {
     "name": "stderr",
     "output_type": "stream",
     "text": [
      "  0%|          | 0/23612 [00:16<?, ?frames/s]"
     ]
    },
    {
     "name": "stdout",
     "output_type": "stream",
     "text": [
      "Processed and deleted: downloaded_songs/1297.wav\n",
      "Downloading: Az Man Begurezed Ahmad Zahir\n",
      "[youtube:search] Extracting URL: ytsearch1:Az Man Begurezed Ahmad Zahir\n",
      "[download] Downloading playlist: Az Man Begurezed Ahmad Zahir\n",
      "[youtube:search] query \"Az Man Begurezed Ahmad Zahir\": Downloading web client config\n"
     ]
    },
    {
     "name": "stderr",
     "output_type": "stream",
     "text": [
      "\n"
     ]
    },
    {
     "name": "stdout",
     "output_type": "stream",
     "text": [
      "[youtube:search] query \"Az Man Begurezed Ahmad Zahir\" page 1: Downloading API JSON\n",
      "[youtube:search] Playlist Az Man Begurezed Ahmad Zahir: Downloading 1 items of 1\n",
      "[download] Downloading item 1 of 1\n",
      "[youtube] Extracting URL: https://www.youtube.com/watch?v=oHoA8d8-QAo\n",
      "[youtube] oHoA8d8-QAo: Downloading webpage\n",
      "[youtube] oHoA8d8-QAo: Downloading tv client config\n",
      "[youtube] oHoA8d8-QAo: Downloading player 1080ef44\n",
      "[youtube] oHoA8d8-QAo: Downloading tv player API JSON\n",
      "[youtube] oHoA8d8-QAo: Downloading ios player API JSON\n",
      "[youtube] oHoA8d8-QAo: Downloading m3u8 information\n",
      "[info] oHoA8d8-QAo: Downloading 1 format(s): 251\n",
      "[download] Destination: downloaded_songs/1298.webm\n",
      "[download] 100% of    5.57MiB in 00:00:00 at 11.22MiB/s    \n",
      "[ExtractAudio] Destination: downloaded_songs/1298.wav\n",
      "Deleting original file downloaded_songs/1298.webm (pass -k to keep)\n",
      "[download] Finished downloading playlist: Az Man Begurezed Ahmad Zahir\n",
      "Downloaded Az Man Begurezed by Ahmad Zahir.\n",
      "Detected language: Persian\n"
     ]
    },
    {
     "name": "stderr",
     "output_type": "stream",
     "text": [
      "100%|██████████| 27405/27405 [00:08<00:00, 3417.96frames/s]"
     ]
    },
    {
     "name": "stdout",
     "output_type": "stream",
     "text": [
      "Processed and deleted: downloaded_songs/1298.wav\n",
      "Downloading: More and More Like A Civil War X-Patriate (Alan J. Lipman)\n",
      "[youtube:search] Extracting URL: ytsearch1:More and More Like A Civil War X-Patriate (Alan J. Lipman)\n",
      "[download] Downloading playlist: More and More Like A Civil War X-Patriate (Alan J. Lipman)\n",
      "[youtube:search] query \"More and More Like A Civil War X-Patriate (Alan J. Lipman)\": Downloading web client config\n"
     ]
    },
    {
     "name": "stderr",
     "output_type": "stream",
     "text": [
      "\n"
     ]
    },
    {
     "name": "stdout",
     "output_type": "stream",
     "text": [
      "[youtube:search] query \"More and More Like A Civil War X-Patriate (Alan J. Lipman)\" page 1: Downloading API JSON\n",
      "[youtube:search] Playlist More and More Like A Civil War X-Patriate (Alan J. Lipman): Downloading 1 items of 1\n",
      "[download] Downloading item 1 of 1\n",
      "[youtube] Extracting URL: https://www.youtube.com/watch?v=jordT1Kuc88\n",
      "[youtube] jordT1Kuc88: Downloading webpage\n",
      "[youtube] jordT1Kuc88: Downloading tv client config\n",
      "[youtube] jordT1Kuc88: Downloading player 1080ef44\n",
      "[youtube] jordT1Kuc88: Downloading tv player API JSON\n",
      "[youtube] jordT1Kuc88: Downloading ios player API JSON\n",
      "[youtube] jordT1Kuc88: Downloading m3u8 information\n",
      "[info] jordT1Kuc88: Downloading 1 format(s): 140\n",
      "[download] Destination: downloaded_songs/1299.m4a\n",
      "[download] 100% of    3.02MiB in 00:00:00 at 5.28MiB/s   \n",
      "[FixupM4a] Correcting container of \"downloaded_songs/1299.m4a\"\n",
      "[ExtractAudio] Destination: downloaded_songs/1299.wav\n",
      "Deleting original file downloaded_songs/1299.m4a (pass -k to keep)\n",
      "[download] Finished downloading playlist: More and More Like A Civil War X-Patriate (Alan J. Lipman)\n",
      "Downloaded More and More Like A Civil War by X-Patriate (Alan J. Lipman).\n",
      "Detected language: English\n"
     ]
    },
    {
     "name": "stderr",
     "output_type": "stream",
     "text": [
      "100%|██████████| 16581/16581 [00:02<00:00, 6956.10frames/s]"
     ]
    },
    {
     "name": "stdout",
     "output_type": "stream",
     "text": [
      "Processed and deleted: downloaded_songs/1299.wav\n",
      "Downloading: Burka Blue Burka Band\n",
      "[youtube:search] Extracting URL: ytsearch1:Burka Blue Burka Band\n",
      "[download] Downloading playlist: Burka Blue Burka Band\n",
      "[youtube:search] query \"Burka Blue Burka Band\": Downloading web client config\n"
     ]
    },
    {
     "name": "stderr",
     "output_type": "stream",
     "text": [
      "\n"
     ]
    },
    {
     "name": "stdout",
     "output_type": "stream",
     "text": [
      "[youtube:search] query \"Burka Blue Burka Band\" page 1: Downloading API JSON\n",
      "[youtube:search] Playlist Burka Blue Burka Band: Downloading 1 items of 1\n",
      "[download] Downloading item 1 of 1\n",
      "[youtube] Extracting URL: https://www.youtube.com/watch?v=bpH83Vi7b9E\n",
      "[youtube] bpH83Vi7b9E: Downloading webpage\n",
      "[youtube] bpH83Vi7b9E: Downloading tv client config\n",
      "[youtube] bpH83Vi7b9E: Downloading player 1080ef44\n",
      "[youtube] bpH83Vi7b9E: Downloading tv player API JSON\n",
      "[youtube] bpH83Vi7b9E: Downloading ios player API JSON\n",
      "[youtube] bpH83Vi7b9E: Downloading m3u8 information\n",
      "[info] bpH83Vi7b9E: Downloading 1 format(s): 251\n",
      "[download] Destination: downloaded_songs/1300.webm\n",
      "[download] 100% of    2.23MiB in 00:00:00 at 6.29MiB/s     \n",
      "[ExtractAudio] Destination: downloaded_songs/1300.wav\n",
      "Deleting original file downloaded_songs/1300.webm (pass -k to keep)\n",
      "[download] Finished downloading playlist: Burka Blue Burka Band\n",
      "Downloaded Burka Blue by Burka Band.\n",
      "Detected language: English\n"
     ]
    },
    {
     "name": "stderr",
     "output_type": "stream",
     "text": [
      "100%|██████████| 16194/16194 [00:06<00:00, 2569.59frames/s]"
     ]
    },
    {
     "name": "stdout",
     "output_type": "stream",
     "text": [
      "Processed and deleted: downloaded_songs/1300.wav\n",
      "Downloading: Bache Kabul Aryana Sayeed\n",
      "[youtube:search] Extracting URL: ytsearch1:Bache Kabul Aryana Sayeed\n",
      "[download] Downloading playlist: Bache Kabul Aryana Sayeed\n",
      "[youtube:search] query \"Bache Kabul Aryana Sayeed\": Downloading web client config\n"
     ]
    },
    {
     "name": "stderr",
     "output_type": "stream",
     "text": [
      "\n"
     ]
    },
    {
     "name": "stdout",
     "output_type": "stream",
     "text": [
      "[youtube:search] query \"Bache Kabul Aryana Sayeed\" page 1: Downloading API JSON\n",
      "[youtube:search] Playlist Bache Kabul Aryana Sayeed: Downloading 1 items of 1\n",
      "[download] Downloading item 1 of 1\n",
      "[youtube] Extracting URL: https://www.youtube.com/watch?v=rj3vrBv7le8\n",
      "[youtube] rj3vrBv7le8: Downloading webpage\n",
      "[youtube] rj3vrBv7le8: Downloading tv client config\n",
      "[youtube] rj3vrBv7le8: Downloading player 1080ef44\n",
      "[youtube] rj3vrBv7le8: Downloading tv player API JSON\n",
      "[youtube] rj3vrBv7le8: Downloading ios player API JSON\n",
      "[youtube] rj3vrBv7le8: Downloading m3u8 information\n",
      "[info] rj3vrBv7le8: Downloading 1 format(s): 251\n",
      "[download] Destination: downloaded_songs/1301.webm\n",
      "[download] 100% of    4.77MiB in 00:00:00 at 8.98MiB/s   \n",
      "[ExtractAudio] Destination: downloaded_songs/1301.wav\n",
      "Deleting original file downloaded_songs/1301.webm (pass -k to keep)\n",
      "[download] Finished downloading playlist: Bache Kabul Aryana Sayeed\n",
      "Downloaded Bache Kabul by Aryana Sayeed.\n",
      "Detected language: Tamil\n"
     ]
    },
    {
     "name": "stderr",
     "output_type": "stream",
     "text": [
      " 65%|██████▍   | 16634/25634 [01:09<00:37, 240.06frames/s]"
     ]
    },
    {
     "name": "stdout",
     "output_type": "stream",
     "text": [
      "Processed and deleted: downloaded_songs/1301.wav\n",
      "Downloading: No Burka! Burka Band\n",
      "[youtube:search] Extracting URL: ytsearch1:No Burka! Burka Band\n",
      "[download] Downloading playlist: No Burka! Burka Band\n",
      "[youtube:search] query \"No Burka! Burka Band\": Downloading web client config\n"
     ]
    },
    {
     "name": "stderr",
     "output_type": "stream",
     "text": [
      "\n"
     ]
    },
    {
     "name": "stdout",
     "output_type": "stream",
     "text": [
      "[youtube:search] query \"No Burka! Burka Band\" page 1: Downloading API JSON\n",
      "[youtube:search] Playlist No Burka! Burka Band: Downloading 1 items of 1\n",
      "[download] Downloading item 1 of 1\n",
      "[youtube] Extracting URL: https://www.youtube.com/watch?v=lK7CVNyBALo\n",
      "[youtube] lK7CVNyBALo: Downloading webpage\n",
      "[youtube] lK7CVNyBALo: Downloading tv client config\n",
      "[youtube] lK7CVNyBALo: Downloading player 77a95d1d\n",
      "[youtube] lK7CVNyBALo: Downloading tv player API JSON\n",
      "[youtube] lK7CVNyBALo: Downloading ios player API JSON\n",
      "[youtube] lK7CVNyBALo: Downloading m3u8 information\n",
      "[info] lK7CVNyBALo: Downloading 1 format(s): 251\n",
      "[download] Destination: downloaded_songs/1302.webm\n",
      "[download] 100% of    3.00MiB in 00:00:00 at 6.18MiB/s   \n",
      "[ExtractAudio] Destination: downloaded_songs/1302.wav\n",
      "Deleting original file downloaded_songs/1302.webm (pass -k to keep)\n",
      "[download] Finished downloading playlist: No Burka! Burka Band\n",
      "Downloaded No Burka! by Burka Band.\n",
      "Detected language: English\n"
     ]
    },
    {
     "name": "stderr",
     "output_type": "stream",
     "text": [
      "100%|██████████| 15692/15692 [00:09<00:00, 1684.93frames/s]"
     ]
    },
    {
     "name": "stdout",
     "output_type": "stream",
     "text": [
      "Processed and deleted: downloaded_songs/1302.wav\n",
      "Downloading: Channa Rahim Shah\n",
      "[youtube:search] Extracting URL: ytsearch1:Channa Rahim Shah\n",
      "[download] Downloading playlist: Channa Rahim Shah\n",
      "[youtube:search] query \"Channa Rahim Shah\": Downloading web client config\n"
     ]
    },
    {
     "name": "stderr",
     "output_type": "stream",
     "text": [
      "\n"
     ]
    },
    {
     "name": "stdout",
     "output_type": "stream",
     "text": [
      "[youtube:search] query \"Channa Rahim Shah\" page 1: Downloading API JSON\n",
      "[youtube:search] Playlist Channa Rahim Shah: Downloading 1 items of 1\n",
      "[download] Downloading item 1 of 1\n",
      "[youtube] Extracting URL: https://www.youtube.com/watch?v=XQm3zBDjztc\n",
      "[youtube] XQm3zBDjztc: Downloading webpage\n",
      "[youtube] XQm3zBDjztc: Downloading tv client config\n",
      "[youtube] XQm3zBDjztc: Downloading player 1080ef44\n",
      "[youtube] XQm3zBDjztc: Downloading tv player API JSON\n",
      "[youtube] XQm3zBDjztc: Downloading ios player API JSON\n",
      "[youtube] XQm3zBDjztc: Downloading m3u8 information\n",
      "[info] XQm3zBDjztc: Downloading 1 format(s): 251\n",
      "[download] Destination: downloaded_songs/1303.webm\n",
      "[download] 100% of    4.49MiB in 00:00:00 at 10.58MiB/s  \n",
      "[ExtractAudio] Destination: downloaded_songs/1303.wav\n",
      "Deleting original file downloaded_songs/1303.webm (pass -k to keep)\n",
      "[download] Finished downloading playlist: Channa Rahim Shah\n",
      "Downloaded Channa by Rahim Shah.\n",
      "Detected language: English\n"
     ]
    },
    {
     "name": "stderr",
     "output_type": "stream",
     "text": [
      "100%|██████████| 23555/23555 [00:01<00:00, 20717.92frames/s]\n"
     ]
    },
    {
     "name": "stdout",
     "output_type": "stream",
     "text": [
      "Processed and deleted: downloaded_songs/1303.wav\n",
      "Downloading: Roe Roe Aziz Herawi\n",
      "[youtube:search] Extracting URL: ytsearch1:Roe Roe Aziz Herawi\n",
      "[download] Downloading playlist: Roe Roe Aziz Herawi\n",
      "[youtube:search] query \"Roe Roe Aziz Herawi\": Downloading web client config\n",
      "[youtube:search] query \"Roe Roe Aziz Herawi\" page 1: Downloading API JSON\n",
      "[youtube:search] Playlist Roe Roe Aziz Herawi: Downloading 1 items of 1\n",
      "[download] Downloading item 1 of 1\n",
      "[youtube] Extracting URL: https://www.youtube.com/watch?v=M8vRm3dDu1Q\n",
      "[youtube] M8vRm3dDu1Q: Downloading webpage\n",
      "[youtube] M8vRm3dDu1Q: Downloading tv client config\n",
      "[youtube] M8vRm3dDu1Q: Downloading player 1080ef44\n",
      "[youtube] M8vRm3dDu1Q: Downloading tv player API JSON\n",
      "[youtube] M8vRm3dDu1Q: Downloading ios player API JSON\n",
      "[youtube] M8vRm3dDu1Q: Downloading m3u8 information\n",
      "[info] M8vRm3dDu1Q: Downloading 1 format(s): 251\n",
      "[download] Destination: downloaded_songs/1304.webm\n",
      "[download] 100% of    2.97MiB in 00:00:00 at 6.12MiB/s   \n",
      "[ExtractAudio] Destination: downloaded_songs/1304.wav\n",
      "Deleting original file downloaded_songs/1304.webm (pass -k to keep)\n",
      "[download] Finished downloading playlist: Roe Roe Aziz Herawi\n",
      "Downloaded Roe Roe by Aziz Herawi.\n",
      "Detected language: Sanskrit\n"
     ]
    },
    {
     "name": "stderr",
     "output_type": "stream",
     "text": [
      "  0%|          | 0/14834 [00:44<?, ?frames/s]"
     ]
    },
    {
     "name": "stdout",
     "output_type": "stream",
     "text": [
      "Processed and deleted: downloaded_songs/1304.wav\n",
      "Downloading: Jhaptal/dadra Aziz Herawi\n",
      "[youtube:search] Extracting URL: ytsearch1:Jhaptal/dadra Aziz Herawi\n",
      "[download] Downloading playlist: Jhaptal/dadra Aziz Herawi\n",
      "[youtube:search] query \"Jhaptal/dadra Aziz Herawi\": Downloading web client config\n"
     ]
    },
    {
     "name": "stderr",
     "output_type": "stream",
     "text": [
      "\n"
     ]
    },
    {
     "name": "stdout",
     "output_type": "stream",
     "text": [
      "[youtube:search] query \"Jhaptal/dadra Aziz Herawi\" page 1: Downloading API JSON\n",
      "[youtube:search] Playlist Jhaptal/dadra Aziz Herawi: Downloading 1 items of 1\n",
      "[download] Downloading item 1 of 1\n",
      "[youtube] Extracting URL: https://www.youtube.com/watch?v=TeJ2zWMg5ZY\n",
      "[youtube] TeJ2zWMg5ZY: Downloading webpage\n",
      "[youtube] TeJ2zWMg5ZY: Downloading tv client config\n",
      "[youtube] TeJ2zWMg5ZY: Downloading player 1080ef44\n",
      "[youtube] TeJ2zWMg5ZY: Downloading tv player API JSON\n",
      "[youtube] TeJ2zWMg5ZY: Downloading ios player API JSON\n",
      "[youtube] TeJ2zWMg5ZY: Downloading m3u8 information\n",
      "[info] TeJ2zWMg5ZY: Downloading 1 format(s): 251\n",
      "[download] Destination: downloaded_songs/1305.webm\n",
      "[download] 100% of    4.31MiB in 00:00:01 at 4.09MiB/s     \n",
      "[ExtractAudio] Destination: downloaded_songs/1305.wav\n",
      "Deleting original file downloaded_songs/1305.webm (pass -k to keep)\n",
      "[download] Finished downloading playlist: Jhaptal/dadra Aziz Herawi\n",
      "Downloaded Jhaptal/dadra by Aziz Herawi.\n",
      "Detected language: English\n"
     ]
    },
    {
     "name": "stderr",
     "output_type": "stream",
     "text": [
      "  0%|          | 0/25662 [00:00<?, ?frames/s]"
     ]
    },
    {
     "name": "stdout",
     "output_type": "stream",
     "text": [
      "Processed and deleted: downloaded_songs/1305.wav\n",
      "Downloading: Ro Ro Keda Zarsanga\n",
      "[youtube:search] Extracting URL: ytsearch1:Ro Ro Keda Zarsanga\n",
      "[download] Downloading playlist: Ro Ro Keda Zarsanga\n",
      "[youtube:search] query \"Ro Ro Keda Zarsanga\": Downloading web client config\n"
     ]
    },
    {
     "name": "stderr",
     "output_type": "stream",
     "text": [
      "\n"
     ]
    },
    {
     "name": "stdout",
     "output_type": "stream",
     "text": [
      "[youtube:search] query \"Ro Ro Keda Zarsanga\" page 1: Downloading API JSON\n",
      "[youtube:search] Playlist Ro Ro Keda Zarsanga: Downloading 1 items of 1\n",
      "[download] Downloading item 1 of 1\n",
      "[youtube] Extracting URL: https://www.youtube.com/watch?v=oPZrjkoc-FM\n",
      "[youtube] oPZrjkoc-FM: Downloading webpage\n",
      "[youtube] oPZrjkoc-FM: Downloading tv client config\n",
      "[youtube] oPZrjkoc-FM: Downloading player 1080ef44\n",
      "[youtube] oPZrjkoc-FM: Downloading tv player API JSON\n",
      "[youtube] oPZrjkoc-FM: Downloading ios player API JSON\n",
      "[youtube] oPZrjkoc-FM: Downloading m3u8 information\n",
      "[info] oPZrjkoc-FM: Downloading 1 format(s): 251\n",
      "[download] Destination: downloaded_songs/1306.webm\n",
      "[download] 100% of    8.03MiB in 00:00:02 at 3.47MiB/s   \n",
      "[ExtractAudio] Destination: downloaded_songs/1306.wav\n",
      "Deleting original file downloaded_songs/1306.webm (pass -k to keep)\n",
      "[download] Finished downloading playlist: Ro Ro Keda Zarsanga\n",
      "Downloaded Ro Ro Keda by Zarsanga.\n",
      "Detected language: English\n"
     ]
    },
    {
     "name": "stderr",
     "output_type": "stream",
     "text": [
      " 17%|█▋        | 7377/43377 [00:17<01:26, 415.06frames/s]\n"
     ]
    },
    {
     "name": "stdout",
     "output_type": "stream",
     "text": [
      "Processed and deleted: downloaded_songs/1306.wav\n",
      "Downloading: Een Dilah Diwana Rah Aziz Herawi\n",
      "[youtube:search] Extracting URL: ytsearch1:Een Dilah Diwana Rah Aziz Herawi\n",
      "[download] Downloading playlist: Een Dilah Diwana Rah Aziz Herawi\n",
      "[youtube:search] query \"Een Dilah Diwana Rah Aziz Herawi\": Downloading web client config\n",
      "[youtube:search] query \"Een Dilah Diwana Rah Aziz Herawi\" page 1: Downloading API JSON\n",
      "[youtube:search] Playlist Een Dilah Diwana Rah Aziz Herawi: Downloading 1 items of 1\n",
      "[download] Downloading item 1 of 1\n",
      "[youtube] Extracting URL: https://www.youtube.com/watch?v=OPoDNCa_T8I\n",
      "[youtube] OPoDNCa_T8I: Downloading webpage\n",
      "[youtube] OPoDNCa_T8I: Downloading tv client config\n",
      "[youtube] OPoDNCa_T8I: Downloading player 1080ef44\n",
      "[youtube] OPoDNCa_T8I: Downloading tv player API JSON\n",
      "[youtube] OPoDNCa_T8I: Downloading ios player API JSON\n",
      "[youtube] OPoDNCa_T8I: Downloading m3u8 information\n",
      "[info] OPoDNCa_T8I: Downloading 1 format(s): 251\n",
      "[download] Destination: downloaded_songs/1307.webm\n",
      "[download] 100% of    4.22MiB in 00:00:00 at 8.06MiB/s     \n",
      "[ExtractAudio] Destination: downloaded_songs/1307.wav\n",
      "Deleting original file downloaded_songs/1307.webm (pass -k to keep)\n",
      "[download] Finished downloading playlist: Een Dilah Diwana Rah Aziz Herawi\n",
      "Downloaded Een Dilah Diwana Rah by Aziz Herawi.\n"
     ]
    },
    {
     "name": "stderr",
     "output_type": "stream",
     "text": [
      " 72%|███████▏  | 17300/24117 [00:29<00:11, 595.49frames/s]"
     ]
    },
    {
     "name": "stdout",
     "output_type": "stream",
     "text": [
      "Processed and deleted: downloaded_songs/1738.wav\n",
      "Downloading: Niri Paul Nabor\n",
      "[youtube:search] Extracting URL: ytsearch1:Niri Paul Nabor\n",
      "[download] Downloading playlist: Niri Paul Nabor\n",
      "[youtube:search] query \"Niri Paul Nabor\": Downloading web client config\n"
     ]
    },
    {
     "name": "stderr",
     "output_type": "stream",
     "text": [
      "\n"
     ]
    },
    {
     "name": "stdout",
     "output_type": "stream",
     "text": [
      "[youtube:search] query \"Niri Paul Nabor\" page 1: Downloading API JSON\n",
      "[youtube:search] Playlist Niri Paul Nabor: Downloading 1 items of 1\n",
      "[download] Downloading item 1 of 1\n",
      "[youtube] Extracting URL: https://www.youtube.com/watch?v=wTRgdLjmPjo\n",
      "[youtube] wTRgdLjmPjo: Downloading webpage\n",
      "[youtube] wTRgdLjmPjo: Downloading tv client config\n",
      "[youtube] wTRgdLjmPjo: Downloading player 1080ef44\n",
      "[youtube] wTRgdLjmPjo: Downloading tv player API JSON\n",
      "[youtube] wTRgdLjmPjo: Downloading ios player API JSON\n",
      "[youtube] wTRgdLjmPjo: Downloading m3u8 information\n",
      "[info] wTRgdLjmPjo: Downloading 1 format(s): 251\n",
      "[download] Destination: downloaded_songs/1739.webm\n",
      "[download] 100% of    3.77MiB in 00:00:00 at 9.65MiB/s   \n",
      "[ExtractAudio] Destination: downloaded_songs/1739.wav\n",
      "Deleting original file downloaded_songs/1739.webm (pass -k to keep)\n",
      "[download] Finished downloading playlist: Niri Paul Nabor\n",
      "Downloaded Niri by Paul Nabor.\n",
      "Detected language: English\n"
     ]
    },
    {
     "name": "stderr",
     "output_type": "stream",
     "text": [
      "100%|██████████| 21003/21003 [00:09<00:00, 2172.03frames/s]"
     ]
    },
    {
     "name": "stdout",
     "output_type": "stream",
     "text": [
      "Processed and deleted: downloaded_songs/1739.wav\n",
      "Downloading: Sandi Paul Nabor\n",
      "[youtube:search] Extracting URL: ytsearch1:Sandi Paul Nabor\n",
      "[download] Downloading playlist: Sandi Paul Nabor\n",
      "[youtube:search] query \"Sandi Paul Nabor\": Downloading web client config\n"
     ]
    },
    {
     "name": "stderr",
     "output_type": "stream",
     "text": [
      "\n"
     ]
    },
    {
     "name": "stdout",
     "output_type": "stream",
     "text": [
      "[youtube:search] query \"Sandi Paul Nabor\" page 1: Downloading API JSON\n",
      "[youtube:search] Playlist Sandi Paul Nabor: Downloading 1 items of 1\n",
      "[download] Downloading item 1 of 1\n",
      "[youtube] Extracting URL: https://www.youtube.com/watch?v=2_l6hN-T9Ic\n",
      "[youtube] 2_l6hN-T9Ic: Downloading webpage\n",
      "[youtube] 2_l6hN-T9Ic: Downloading tv client config\n",
      "[youtube] 2_l6hN-T9Ic: Downloading player 1080ef44\n",
      "[youtube] 2_l6hN-T9Ic: Downloading tv player API JSON\n",
      "[youtube] 2_l6hN-T9Ic: Downloading ios player API JSON\n",
      "[youtube] 2_l6hN-T9Ic: Downloading m3u8 information\n",
      "[info] 2_l6hN-T9Ic: Downloading 1 format(s): 251\n",
      "[download] Destination: downloaded_songs/1740.webm\n",
      "[download] 100% of    3.15MiB in 00:00:00 at 6.47MiB/s   \n",
      "[ExtractAudio] Destination: downloaded_songs/1740.wav\n",
      "Deleting original file downloaded_songs/1740.webm (pass -k to keep)\n",
      "[download] Finished downloading playlist: Sandi Paul Nabor\n",
      "Downloaded Sandi by Paul Nabor.\n",
      "Detected language: Myanmar\n"
     ]
    },
    {
     "name": "stderr",
     "output_type": "stream",
     "text": [
      " 19%|█▉        | 3000/15529 [00:58<04:05, 51.09frames/s]"
     ]
    },
    {
     "name": "stdout",
     "output_type": "stream",
     "text": [
      "Processed and deleted: downloaded_songs/1740.wav\n",
      "Downloading: Naguya Nei Paul Nabor\n",
      "[youtube:search] Extracting URL: ytsearch1:Naguya Nei Paul Nabor\n",
      "[download] Downloading playlist: Naguya Nei Paul Nabor\n",
      "[youtube:search] query \"Naguya Nei Paul Nabor\": Downloading web client config\n"
     ]
    },
    {
     "name": "stderr",
     "output_type": "stream",
     "text": [
      "\n"
     ]
    },
    {
     "name": "stdout",
     "output_type": "stream",
     "text": [
      "[youtube:search] query \"Naguya Nei Paul Nabor\" page 1: Downloading API JSON\n",
      "[youtube:search] Playlist Naguya Nei Paul Nabor: Downloading 1 items of 1\n",
      "[download] Downloading item 1 of 1\n",
      "[youtube] Extracting URL: https://www.youtube.com/watch?v=wTRgdLjmPjo\n",
      "[youtube] wTRgdLjmPjo: Downloading webpage\n",
      "[youtube] wTRgdLjmPjo: Downloading tv client config\n",
      "[youtube] wTRgdLjmPjo: Downloading player 1080ef44\n",
      "[youtube] wTRgdLjmPjo: Downloading tv player API JSON\n",
      "[youtube] wTRgdLjmPjo: Downloading ios player API JSON\n",
      "[youtube] wTRgdLjmPjo: Downloading m3u8 information\n",
      "[info] wTRgdLjmPjo: Downloading 1 format(s): 251\n",
      "[download] Destination: downloaded_songs/1741.webm\n",
      "[download] 100% of    3.77MiB in 00:00:00 at 8.35MiB/s   \n",
      "[ExtractAudio] Destination: downloaded_songs/1741.wav\n",
      "Deleting original file downloaded_songs/1741.webm (pass -k to keep)\n",
      "[download] Finished downloading playlist: Naguya Nei Paul Nabor\n",
      "Downloaded Naguya Nei by Paul Nabor.\n",
      "Detected language: English\n"
     ]
    },
    {
     "name": "stderr",
     "output_type": "stream",
     "text": [
      " 14%|█▍        | 3000/21003 [00:13<01:22, 217.90frames/s]"
     ]
    },
    {
     "name": "stdout",
     "output_type": "stream",
     "text": [
      "Processed and deleted: downloaded_songs/1741.wav\n",
      "Downloading: Chico Ramos - Masaraga Chico Ramos\n",
      "[youtube:search] Extracting URL: ytsearch1:Chico Ramos - Masaraga Chico Ramos\n",
      "[download] Downloading playlist: Chico Ramos - Masaraga Chico Ramos\n",
      "[youtube:search] query \"Chico Ramos - Masaraga Chico Ramos\": Downloading web client config\n"
     ]
    },
    {
     "name": "stderr",
     "output_type": "stream",
     "text": [
      "\n"
     ]
    },
    {
     "name": "stdout",
     "output_type": "stream",
     "text": [
      "[youtube:search] query \"Chico Ramos - Masaraga Chico Ramos\" page 1: Downloading API JSON\n",
      "[youtube:search] Playlist Chico Ramos - Masaraga Chico Ramos: Downloading 1 items of 1\n",
      "[download] Downloading item 1 of 1\n",
      "[youtube] Extracting URL: https://www.youtube.com/watch?v=BFCKgOtZLHU\n",
      "[youtube] BFCKgOtZLHU: Downloading webpage\n",
      "[youtube] BFCKgOtZLHU: Downloading tv client config\n",
      "[youtube] BFCKgOtZLHU: Downloading player 1080ef44\n",
      "[youtube] BFCKgOtZLHU: Downloading tv player API JSON\n",
      "[youtube] BFCKgOtZLHU: Downloading ios player API JSON\n",
      "[youtube] BFCKgOtZLHU: Downloading m3u8 information\n",
      "[info] BFCKgOtZLHU: Downloading 1 format(s): 251\n",
      "[download] Destination: downloaded_songs/1742.webm\n",
      "[download] 100% of    4.76MiB in 00:00:00 at 5.94MiB/s   \n",
      "[ExtractAudio] Destination: downloaded_songs/1742.wav\n",
      "Deleting original file downloaded_songs/1742.webm (pass -k to keep)\n",
      "[download] Finished downloading playlist: Chico Ramos - Masaraga Chico Ramos\n",
      "Downloaded Chico Ramos - Masaraga by Chico Ramos.\n",
      "Detected language: Shona\n"
     ]
    },
    {
     "name": "stderr",
     "output_type": "stream",
     "text": [
      " 68%|██████▊   | 17592/25769 [01:25<00:39, 204.85frames/s]"
     ]
    },
    {
     "name": "stdout",
     "output_type": "stream",
     "text": [
      "Processed and deleted: downloaded_songs/1742.wav\n",
      "Downloading: Dayaan Ellis Aka Nuru - Punta Cultural Mix Dayaan Ellis\n",
      "[youtube:search] Extracting URL: ytsearch1:Dayaan Ellis Aka Nuru - Punta Cultural Mix Dayaan Ellis\n",
      "[download] Downloading playlist: Dayaan Ellis Aka Nuru - Punta Cultural Mix Dayaan Ellis\n",
      "[youtube:search] query \"Dayaan Ellis Aka Nuru - Punta Cultural Mix Dayaan Ellis\": Downloading web client config\n"
     ]
    },
    {
     "name": "stderr",
     "output_type": "stream",
     "text": [
      "\n"
     ]
    },
    {
     "name": "stdout",
     "output_type": "stream",
     "text": [
      "[youtube:search] query \"Dayaan Ellis Aka Nuru - Punta Cultural Mix Dayaan Ellis\" page 1: Downloading API JSON\n",
      "[youtube:search] Playlist Dayaan Ellis Aka Nuru - Punta Cultural Mix Dayaan Ellis: Downloading 1 items of 1\n",
      "[download] Downloading item 1 of 1\n",
      "[youtube] Extracting URL: https://www.youtube.com/watch?v=QYkROr7BwEQ\n",
      "[youtube] QYkROr7BwEQ: Downloading webpage\n",
      "[youtube] QYkROr7BwEQ: Downloading tv client config\n",
      "[youtube] QYkROr7BwEQ: Downloading player 1080ef44\n",
      "[youtube] QYkROr7BwEQ: Downloading tv player API JSON\n",
      "[youtube] QYkROr7BwEQ: Downloading ios player API JSON\n",
      "[youtube] QYkROr7BwEQ: Downloading m3u8 information\n",
      "[info] QYkROr7BwEQ: Downloading 1 format(s): 251\n",
      "[download] Destination: downloaded_songs/1743.webm\n",
      "[download] 100% of   17.23MiB in 00:00:01 at 12.36MiB/s    \n",
      "[ExtractAudio] Destination: downloaded_songs/1743.wav\n",
      "Deleting original file downloaded_songs/1743.webm (pass -k to keep)\n",
      "[download] Finished downloading playlist: Dayaan Ellis Aka Nuru - Punta Cultural Mix Dayaan Ellis\n",
      "Downloaded Dayaan Ellis Aka Nuru - Punta Cultural Mix by Dayaan Ellis.\n",
      "Detected language: English\n"
     ]
    },
    {
     "name": "stderr",
     "output_type": "stream",
     "text": [
      "100%|██████████| 109689/109689 [00:05<00:00, 21198.70frames/s]"
     ]
    },
    {
     "name": "stdout",
     "output_type": "stream",
     "text": [
      "Processed and deleted: downloaded_songs/1743.wav\n",
      "Downloading: Fiura Lugua Centeno\n",
      "[youtube:search] Extracting URL: ytsearch1:Fiura Lugua Centeno\n",
      "[download] Downloading playlist: Fiura Lugua Centeno\n",
      "[youtube:search] query \"Fiura Lugua Centeno\": Downloading web client config\n"
     ]
    },
    {
     "name": "stderr",
     "output_type": "stream",
     "text": [
      "\n"
     ]
    },
    {
     "name": "stdout",
     "output_type": "stream",
     "text": [
      "[youtube:search] query \"Fiura Lugua Centeno\" page 1: Downloading API JSON\n",
      "[youtube:search] Playlist Fiura Lugua Centeno: Downloading 1 items of 1\n",
      "[download] Downloading item 1 of 1\n",
      "[youtube] Extracting URL: https://www.youtube.com/watch?v=DLIOsLxkhlI\n",
      "[youtube] DLIOsLxkhlI: Downloading webpage\n",
      "[youtube] DLIOsLxkhlI: Downloading tv client config\n",
      "[youtube] DLIOsLxkhlI: Downloading player 1080ef44\n",
      "[youtube] DLIOsLxkhlI: Downloading tv player API JSON\n",
      "[youtube] DLIOsLxkhlI: Downloading ios player API JSON\n",
      "[youtube] DLIOsLxkhlI: Downloading m3u8 information\n",
      "[info] DLIOsLxkhlI: Downloading 1 format(s): 251\n",
      "[download] Destination: downloaded_songs/1744.webm\n",
      "[download] 100% of    3.45MiB in 00:00:00 at 4.52MiB/s   \n",
      "[ExtractAudio] Destination: downloaded_songs/1744.wav\n",
      "Deleting original file downloaded_songs/1744.webm (pass -k to keep)\n",
      "[download] Finished downloading playlist: Fiura Lugua Centeno\n",
      "Downloaded Fiura by Lugua Centeno.\n",
      "Detected language: Yoruba\n"
     ]
    },
    {
     "name": "stderr",
     "output_type": "stream",
     "text": [
      " 84%|████████▎ | 15205/18205 [00:26<00:05, 578.12frames/s] "
     ]
    },
    {
     "name": "stdout",
     "output_type": "stream",
     "text": [
      "Processed and deleted: downloaded_songs/1744.wav\n",
      "Downloading: Punta Cartel - Bounile Punta Cartel\n",
      "[youtube:search] Extracting URL: ytsearch1:Punta Cartel - Bounile Punta Cartel\n",
      "[download] Downloading playlist: Punta Cartel - Bounile Punta Cartel\n",
      "[youtube:search] query \"Punta Cartel - Bounile Punta Cartel\": Downloading web client config\n"
     ]
    },
    {
     "name": "stderr",
     "output_type": "stream",
     "text": [
      "\n"
     ]
    },
    {
     "name": "stdout",
     "output_type": "stream",
     "text": [
      "[youtube:search] query \"Punta Cartel - Bounile Punta Cartel\" page 1: Downloading API JSON\n",
      "[youtube:search] Playlist Punta Cartel - Bounile Punta Cartel: Downloading 1 items of 1\n",
      "[download] Downloading item 1 of 1\n",
      "[youtube] Extracting URL: https://www.youtube.com/watch?v=j25MB8P5DJQ\n",
      "[youtube] j25MB8P5DJQ: Downloading webpage\n",
      "[youtube] j25MB8P5DJQ: Downloading tv client config\n",
      "[youtube] j25MB8P5DJQ: Downloading player 1080ef44\n",
      "[youtube] j25MB8P5DJQ: Downloading tv player API JSON\n",
      "[youtube] j25MB8P5DJQ: Downloading ios player API JSON\n",
      "[youtube] j25MB8P5DJQ: Downloading m3u8 information\n",
      "[info] j25MB8P5DJQ: Downloading 1 format(s): 251\n",
      "[download] Destination: downloaded_songs/1745.webm\n",
      "[download] 100% of    6.89MiB in 00:00:00 at 8.15MiB/s     \n",
      "[ExtractAudio] Destination: downloaded_songs/1745.wav\n",
      "Deleting original file downloaded_songs/1745.webm (pass -k to keep)\n",
      "[download] Finished downloading playlist: Punta Cartel - Bounile Punta Cartel\n",
      "Downloaded Punta Cartel - Bounile by Punta Cartel.\n",
      "Detected language: Nynorsk\n"
     ]
    },
    {
     "name": "stderr",
     "output_type": "stream",
     "text": [
      " 15%|█▍        | 7486/51269 [02:23<11:41, 62.41frames/s] "
     ]
    }
   ],
   "source": [
    "import os\n",
    "import time\n",
    "import pandas as pd\n",
    "import numpy as np\n",
    "import csv\n",
    "import librosa\n",
    "from yt_dlp import YoutubeDL\n",
    "from pydub import AudioSegment\n",
    "import whisper\n",
    "\n",
    "# Paths and setup\n",
    "csv_file = 'data/world_music.csv'\n",
    "output_dir = 'downloaded_songs'\n",
    "data_folder = os.path.join(os.getcwd(), 'data')\n",
    "output_csv = os.path.join(data_folder, 'audio_features.csv')\n",
    "\n",
    "os.makedirs(output_dir, exist_ok=True)\n",
    "os.makedirs(data_folder, exist_ok=True)\n",
    "\n",
    "# Load dataset\n",
    "df = pd.read_csv(csv_file)\n",
    "required_columns = ['track_id_number', 'track_id', 'track_name', 'artist_name']\n",
    "for col in required_columns:\n",
    "    if col not in df.columns:\n",
    "        raise ValueError(f\"Missing required column: {col}\")\n",
    "\n",
    "# Load Whisper model\n",
    "model = whisper.load_model(\"small\")\n",
    "\n",
    "def download_song(track_id_number, track_name, artist_name):\n",
    "    \"\"\"Download song using yt-dlp.\"\"\"\n",
    "    search_query = f\"{track_name} {artist_name}\"\n",
    "    output_path = os.path.join(output_dir, f'{track_id_number}.wav')\n",
    "    if os.path.exists(output_path):  # Skip if already downloaded\n",
    "        print(f\"Song {track_name} by {artist_name} already exists. Skipping download.\")\n",
    "        return output_path\n",
    "\n",
    "    ydl_opts = {\n",
    "        'format': 'bestaudio/best',\n",
    "        'outtmpl': os.path.join(output_dir, f'{track_id_number}.%(ext)s'),\n",
    "        'quiet': False,\n",
    "        'postprocessors': [\n",
    "            {\n",
    "                'key': 'FFmpegExtractAudio',\n",
    "                'preferredcodec': 'wav',\n",
    "                'preferredquality': '192',\n",
    "            },\n",
    "        ],\n",
    "    }\n",
    "\n",
    "    with YoutubeDL(ydl_opts) as ydl:\n",
    "        try:\n",
    "            print(f\"Downloading: {search_query}\")\n",
    "            ydl.download([f\"ytsearch1:{search_query}\"])\n",
    "            print(f\"Downloaded {track_name} by {artist_name}.\")\n",
    "            return output_path\n",
    "        except Exception as e:\n",
    "            print(f\"Failed to download {track_name} by {artist_name}: {e}\")\n",
    "            return None\n",
    "\n",
    "def extract_features(audio_file):\n",
    "    \"\"\"Extract audio features from a file.\"\"\"\n",
    "    try:\n",
    "        y, sr = librosa.load(audio_file)\n",
    "        mfccs = np.mean(librosa.feature.mfcc(y=y, sr=sr), axis=1)\n",
    "        chroma = np.mean(librosa.feature.chroma_stft(y=y, sr=sr), axis=1)\n",
    "        spectral_contrast = np.mean(librosa.feature.spectral_contrast(y=y, sr=sr), axis=1)\n",
    "        tonnetz = np.mean(librosa.feature.tonnetz(y=y, sr=sr), axis=1)\n",
    "        rms = np.mean(librosa.feature.rms(y=y))\n",
    "        rolloff = np.mean(librosa.feature.spectral_rolloff(y=y, sr=sr))\n",
    "        zcr = np.mean(librosa.feature.zero_crossing_rate(y))\n",
    "        length = librosa.get_duration(y=y, sr=sr)\n",
    "        return np.concatenate([mfccs, chroma, spectral_contrast, tonnetz, [rms], [rolloff], [zcr], [length]])\n",
    "    except Exception as e:\n",
    "        print(f\"Error extracting features from {audio_file}: {e}\")\n",
    "        return None\n",
    "\n",
    "def detect_language(audio_file):\n",
    "    \"\"\"Detect language of an audio file.\"\"\"\n",
    "    try:\n",
    "        audio = AudioSegment.from_wav(audio_file)\n",
    "        trimmed_audio = audio[30 * 1000:]  # Trim first 30 seconds\n",
    "        temp_file = \"temp_trimmed.wav\"\n",
    "        trimmed_audio.export(temp_file, format=\"wav\")\n",
    "        result = model.transcribe(temp_file, verbose=False, language=None, task=\"transcribe\")\n",
    "        os.remove(temp_file)\n",
    "        transcription = result.get('text', '').strip()\n",
    "        if not transcription:\n",
    "            return \"No Speech\"\n",
    "        return result.get('language', 'Unknown')\n",
    "    except Exception as e:\n",
    "        print(f\"Error detecting language for {audio_file}: {e}\")\n",
    "        return None\n",
    "\n",
    "# Prepare the CSV for writing features\n",
    "with open(output_csv, mode='w', newline='') as file:\n",
    "    writer = csv.writer(file)\n",
    "    header = ['File Number'] + \\\n",
    "             [f'MFCC{i+1}' for i in range(20)] + \\\n",
    "             [f'Chroma{i+1}' for i in range(12)] + \\\n",
    "             [f'SpectralContrast{i+1}' for i in range(7)] + \\\n",
    "             [f'Tonnetz{i+1}' for i in range(6)] + \\\n",
    "             ['RMS', 'SpectralRolloff', 'ZeroCrossingRate', 'Length', 'Language']\n",
    "    writer.writerow(header)\n",
    "\n",
    "# Process each song\n",
    "for _, row in df.iterrows():\n",
    "    track_id_number = row['track_id_number']\n",
    "    track_name = row['track_name']\n",
    "    artist_name = row['artist_name']\n",
    "\n",
    "    # Download song\n",
    "    audio_file = download_song(track_id_number, track_name, artist_name)\n",
    "    if not audio_file:\n",
    "        continue\n",
    "\n",
    "    # Extract features\n",
    "    features = extract_features(audio_file)\n",
    "    if features is None:\n",
    "        continue\n",
    "\n",
    "    # Detect language\n",
    "    language = detect_language(audio_file)\n",
    "\n",
    "    # Save features and language to CSV\n",
    "    with open(output_csv, mode='a', newline='') as file:\n",
    "        writer = csv.writer(file)\n",
    "        row_data = [track_id_number] + features.tolist() + [language]\n",
    "        writer.writerow(row_data)\n",
    "\n",
    "    # Remove processed file to save storage\n",
    "    os.remove(audio_file)\n",
    "    print(f\"Processed and deleted: {audio_file}\")\n",
    "\n",
    "print(\"All tracks processed successfully.\")\n"
   ]
  },
  {
   "cell_type": "markdown",
   "id": "a2fdb94f-ea7f-462e-a123-ce5f8ef8be69",
   "metadata": {},
   "source": [
    "# Combining Track Metadata and Audio Features\n",
    "\n",
    "This section of the code demonstrates how to combine two CSV files containing music track metadata and audio features. After merging the two datasets on a common identifier, the result is saved to a new CSV file for further analysis.\n",
    "\n",
    "## Overview\n",
    "\n",
    "The code performs the following steps:\n",
    "\n",
    "1. **Load Track Metadata and Audio Features**: It loads two CSV files:\n",
    "   - `tracks_with_coordinates.csv`: Contains metadata about tracks, including track IDs.\n",
    "   - `audio_features.csv`: Contains extracted audio features of the tracks.\n",
    "2. **Ensure Column Consistency**: It ensures that the columns used for merging (track ID) are of the same data type (integer).\n",
    "3. **Merge the DataFrames**: It merges the two datasets on the `track_id` and `File Number` columns.\n",
    "4. **Remove Redundant Columns**: It removes the redundant column (`File Number`) from the merged DataFrame.\n",
    "5. **Save the Combined Data**: The combined DataFrame is saved to a new CSV file (`all_data.csv`) in the data folder.\n",
    "\n",
    "## Code Walkthrough\n",
    "\n",
    "### 1. **Load the CSV Files**\n",
    "\n",
    "The `tracks_with_coordinates.csv` and `audio_features.csv` files are loaded into Pandas DataFrames:\n",
    "\n",
    "```python\n",
    "tracks_df = pd.read_csv(os.path.join(data_folder, 'tracks_with_coordinates.csv'))\n",
    "audio_features_df = pd.read_csv(os.path.join(data_folder, 'audio_features.csv'))\n"
   ]
  },
  {
   "cell_type": "code",
   "execution_count": null,
   "id": "4bbe485c-9afa-4093-b00a-85ad493fa71d",
   "metadata": {},
   "outputs": [],
   "source": [
    "import pandas as pd\n",
    "import os\n",
    "\n",
    "# Define the path to the data folder (relative to the current working directory)\n",
    "data_folder = os.path.join(os.getcwd(), 'data')\n",
    "\n",
    "# Load the CSV files from the data folder\n",
    "tracks_df = pd.read_csv(os.path.join(data_folder, 'tracks_with_coordinates.csv'))\n",
    "audio_features_df = pd.read_csv(os.path.join(data_folder, 'audio_features.csv'))\n",
    "\n",
    "# Ensure the columns are of the same type for merging\n",
    "tracks_df['track_id'] = tracks_df['track_id'].astype(int)\n",
    "audio_features_df['File Number'] = audio_features_df['File Number'].astype(int)\n",
    "\n",
    "# Merge the DataFrames on 'track_id' and 'File Number'\n",
    "combined_df = pd.merge(tracks_df, audio_features_df, left_on='track_id', right_on='File Number', how='inner')\n",
    "\n",
    "# Drop the redundant 'File Number' column\n",
    "combined_df = combined_df.drop(columns=['File Number'])\n",
    "\n",
    "# Save the combined DataFrame to a new CSV file in the data folder\n",
    "combined_csv_path = os.path.join(data_folder, 'all_data.csv')\n",
    "combined_df.to_csv(combined_csv_path, index=False)\n",
    "\n",
    "print(f\"Combined data saved to {combined_csv_path}\")"
   ]
  }
 ],
 "metadata": {
  "kernelspec": {
   "display_name": "Python 3 (ipykernel)",
   "language": "python",
   "name": "python3"
  },
  "language_info": {
   "codemirror_mode": {
    "name": "ipython",
    "version": 3
   },
   "file_extension": ".py",
   "mimetype": "text/x-python",
   "name": "python",
   "nbconvert_exporter": "python",
   "pygments_lexer": "ipython3",
   "version": "3.10.10"
  }
 },
 "nbformat": 4,
 "nbformat_minor": 5
}
